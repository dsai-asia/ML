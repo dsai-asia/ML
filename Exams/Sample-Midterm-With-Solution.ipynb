{
 "cells": [
  {
   "cell_type": "markdown",
   "metadata": {},
   "source": [
    "# Sample Machine Learning Midterm With Solution\n",
    "\n",
    "In this exam, you will demonstrate your understanding of the material from the lectures, tutorials, and problem sets.\n",
    "\n",
    "For each question, insert your answer directly in this sheet. When complete, export the sheet as a PDF and upload to Gradescope.\n",
    "\n",
    "Note that you have **2.5 hours** to do the exam. Also note that there is at least one short answer question that you may be able to answer faster than the coding questions. You might consider answering those questions first to get as much credit as possible!\n",
    "\n",
    "## Question 1 (20 points)\n",
    "\n",
    "Suppose you enjoy running for exercise, have great data science skills, and would like to build tools to help runners train effectively. You would like to predict a runner's future performance based on his or her past performances, and perhaps come up with some analytics about his or her fitness (increasing, decreasing, etc.)\n",
    "\n",
    "Consider the training and testing data given in the cell below. The data are measurements of your teacher's runs from mid June to mid September 2019. The $\\mathtt{X}$ data contain variables for pace, distance, average temperature, and the number of hours of rest since the last run. The $\\mathbf{y}$ data are the average heart rate in beats per minute over each run. These data come from Garmin and OpenWeatherMap.\n"
   ]
  },
  {
   "cell_type": "code",
   "execution_count": 66,
   "metadata": {},
   "outputs": [],
   "source": [
    "import numpy as np\n",
    "\n",
    "# Columns:\n",
    "# 0: average pace in minutes per kilometer\n",
    "# 1: distance in meters\n",
    "# 2: avg apparent temperature (Farenheight, includes humidity factor etc.)\n",
    "# 3: number of hours of rest since the last run\n",
    "\n",
    "Xtrain = np.array(\n",
    "      [[5.6041250e+00, 1.0386240e+04, 9.6480003e+01, 1.6693195e+02],\n",
    "       [4.5901036e+00, 3.3501699e+03, 9.0070000e+01, 1.4042222e+01],\n",
    "       [5.5853438e+00, 1.0589420e+04, 9.6894997e+01, 4.9480556e+01],\n",
    "       [8.4602365e+00, 5.2353198e+03, 9.2915001e+01, 4.8527222e+01],\n",
    "       [5.2759314e+00, 1.0260830e+04, 8.0415001e+01, 6.9376945e+01],\n",
    "       [5.0050054e+00, 1.0308060e+04, 7.8995003e+01, 7.2154442e+01],\n",
    "       [5.1679587e+00, 1.0297140e+04, 8.4269997e+01, 2.4243610e+01],\n",
    "       [5.5909653e+00, 1.6628650e+04, 9.5754997e+01, 5.8910278e+01],\n",
    "       [5.3112388e+00, 1.0397030e+04, 9.1875000e+01, 1.2679722e+01],\n",
    "       [5.0704794e+00, 1.0266610e+04, 8.7489998e+01, 4.8466110e+01],\n",
    "       [5.1297836e+00, 8.6998496e+03, 8.6510002e+01, 4.7598888e+01],\n",
    "       [5.8092251e+00, 2.1145150e+04, 9.6199997e+01, 5.9379166e+01],\n",
    "       [5.1203279e+00, 1.0201160e+04, 9.2875000e+01, 8.4886391e+01],\n",
    "       [5.1424460e+00, 1.0161310e+04, 8.9500000e+01, 2.3730000e+01],\n",
    "       [5.9502554e+00, 2.4152381e+04, 8.7389999e+01, 5.9973331e+01],\n",
    "       [5.4752522e+00, 1.2884080e+04, 9.2269997e+01, 3.6443890e+01],\n",
    "       [6.2727389e+00, 6.8037402e+03, 9.0209999e+01, 2.3653889e+01],\n",
    "       [5.6941118e+00, 1.6106010e+04, 8.7489998e+01, 2.4058611e+01],\n",
    "       [5.6941118e+00, 8.0607300e+03, 9.0735001e+01, 5.0604721e+01],\n",
    "       [5.1313629e+00, 1.4493960e+04, 9.4910004e+01, 2.3852777e+01],\n",
    "       [5.8397570e+00, 6.4594302e+03, 9.5209999e+01, 1.5108278e+02],\n",
    "       [6.0342746e+00, 2.1100061e+04, 9.2345001e+01, 1.9518888e+01],\n",
    "       [5.7790108e+00, 1.4495710e+04, 8.3410004e+01, 6.7106941e+01],\n",
    "       [5.4059896e+00, 1.6109050e+04, 8.6989998e+01, 2.4075834e+01],\n",
    "       [8.1819668e+00, 6.5416201e+03, 8.1650002e+01, 2.3606112e+01],\n",
    "       [5.6230321e+00, 8.0613101e+03, 9.4324997e+01, 2.5450277e+01],\n",
    "       [5.9101658e+00, 2.4156170e+04, 9.1650002e+01, 3.4091110e+01],\n",
    "       [5.1313629e+00, 1.4496380e+04, 8.9084999e+01, 3.6194443e+01],\n",
    "       [5.6650805e+00, 8.0576001e+03, 8.5985001e+01, 2.3728056e+01],\n",
    "       [5.7991180e+00, 1.6350690e+04, 8.9775002e+01, 4.7979168e+01],\n",
    "       [5.8234339e+00, 8.0631299e+03, 9.4845001e+01, 2.6273333e+01],\n",
    "       [5.7254095e+00, 2.5760990e+04, 9.6279999e+01, 3.4454166e+01],\n",
    "       [5.4324207e+00, 1.2948430e+04, 9.0654999e+01, 3.6110554e+01],\n",
    "       [5.7097182e+00, 8.0617100e+03, 8.5294998e+01, 2.3565277e+01],\n",
    "       [5.6727929e+00, 1.2387530e+04, 9.2535004e+01, 2.4852501e+01],\n",
    "       [5.4024849e+00, 8.1778799e+03, 8.8980003e+01, 4.7656387e+01],\n",
    "       [5.5242515e+00, 1.9322131e+04, 7.9985001e+01, 4.6826668e+01],\n",
    "       [5.1234756e+00, 1.6099910e+04, 8.3794998e+01, 2.4853611e+01],\n",
    "       [5.8418040e+00, 6.7139800e+03, 8.3955002e+01, 2.4078611e+01],\n",
    "       [5.5151114e+00, 1.7712240e+04, 8.5815002e+01, 2.3572500e+01]])\n",
    "\n",
    "# Outcome: average heart rate, in beats per minute\n",
    "\n",
    "ytrain = np.array([[150., 146., 148., 152., 147., 152., 151., 144., 149., 146., 144.,\n",
    "       141., 151., 150., 140., 147., 133., 144., 129., 154., 146., 141.,\n",
    "       155., 151., 111., 138., 141., 151., 134., 150., 134., 150., 149.,\n",
    "       134., 140., 137., 141., 150., 129., 143.]])\n",
    "\n",
    "Xtest = np.array([[5.6516337e+00, 1.1277530e+04, 9.4644997e+01, 5.3126389e+01],\n",
    "       [5.9737158e+00, 2.8977260e+04, 9.4230003e+01, 2.0872499e+01],\n",
    "       [5.4094992e+00, 1.1285160e+04, 7.9794998e+01, 4.6364723e+01],\n",
    "       [5.3885121e+00, 1.9334391e+04, 8.2080002e+01, 2.2815277e+01],\n",
    "       [4.9500046e+00, 1.6110120e+04, 8.3410004e+01, 4.8843613e+01],\n",
    "       [5.9269800e+00, 8.0592202e+03, 9.9250000e+01, 2.7060556e+01],\n",
    "       [6.0496063e+00, 3.2190711e+04, 9.3800003e+01, 2.4073334e+01],\n",
    "       [6.6427526e+00, 9.8029502e+03, 8.5150002e+01, 4.4903057e+01],\n",
    "       [5.4112554e+00, 1.0247100e+04, 8.1955002e+01, 2.4426390e+01],\n",
    "       [5.5853438e+00, 2.2543590e+04, 8.4849998e+01, 2.3573610e+01],\n",
    "       [4.0709982e+00, 2.5134600e+03, 9.4324997e+01, 2.7191111e+01],\n",
    "       [5.9038849e+00, 9.6685303e+03, 8.8099998e+01, 2.3758333e+01],\n",
    "       [5.5315852e+00, 1.9787490e+04, 9.7684998e+01, 3.3159168e+01],\n",
    "       [5.1062093e+00, 1.2883740e+04, 7.9375000e+01, 5.9931667e+01],\n",
    "       [6.1591525e+00, 9.6694502e+03, 8.2260002e+01, 2.4936388e+01],\n",
    "       [5.4914880e+00, 1.2887790e+04, 9.7154999e+01, 5.1264168e+01]])\n",
    "\n",
    "ytest = np.array([[134., 144., 145., 142., 153., 130., 139., 122., 141., 140., 129.,\n",
    "       129., 142., 143., 122., 141.]])\n"
   ]
  },
  {
   "cell_type": "markdown",
   "metadata": {},
   "source": [
    "(Q1 continued) **Do the following:**\n",
    "\n",
    "1. **Build a linear regresion model for the training data. Give the optimal parameter vector $\\mathbf{\\theta}$ below:**"
   ]
  },
  {
   "cell_type": "code",
   "execution_count": 67,
   "metadata": {},
   "outputs": [
    {
     "name": "stdout",
     "output_type": "stream",
     "text": [
      "[[ 1.47941323e+02]\n",
      " [-5.41671644e+00]\n",
      " [ 3.19000792e-04]\n",
      " [ 2.18578976e-01]\n",
      " [ 6.18725326e-02]]\n"
     ]
    }
   ],
   "source": [
    "\n",
    "m = Xtrain.shape[0]\n",
    "X = np.concatenate((np.ones((m,1)), Xtrain), 1)\n",
    "y = ytrain.T\n",
    "theta = np.linalg.inv(X.T @ X) @ X.T @ y\n",
    "print(theta)\n"
   ]
  },
  {
   "cell_type": "markdown",
   "metadata": {},
   "source": [
    "2. **Plot predicted heart rate against actual heart rate for the training set and the test set using these parameters.**"
   ]
  },
  {
   "cell_type": "code",
   "execution_count": 68,
   "metadata": {},
   "outputs": [
    {
     "data": {
      "text/plain": [
       "Text(140, 110, 'RMSE: 9.448')"
      ]
     },
     "execution_count": 68,
     "metadata": {},
     "output_type": "execute_result"
    },
    {
     "data": {
      "image/png": "[encoded data removed]",
      "text/plain": [
       "<Figure size 1152x360 with 2 Axes>"
      ]
     },
     "metadata": {
      "needs_background": "light"
     },
     "output_type": "display_data"
    }
   ],
   "source": [
    "import matplotlib\n",
    "import matplotlib.pyplot as plt\n",
    "matplotlib.rcParams['figure.figsize'] = [16, 5]\n",
    "\n",
    "yhat = X @ theta\n",
    "\n",
    "m2 = Xtest.shape[0]\n",
    "X2 = np.concatenate((np.ones((m2,1)), Xtest), 1)\n",
    "y2 = ytest.T\n",
    "yhat2 = X2 @ theta\n",
    "\n",
    "rmse = np.sqrt((yhat - y).T @ (yhat - y) / m)\n",
    "rmse2 = np.sqrt((yhat2 - y2).T @ (yhat2 - y2) / m2)\n",
    "\n",
    "fig, (ax1, ax2) = plt.subplots(1, 2)\n",
    "miny = 100\n",
    "maxy = 160\n",
    "\n",
    "ax1.plot(y, yhat, 'ro')\n",
    "ax1.plot([miny, maxy],[miny, maxy], 'k-')\n",
    "ax1.set_xlim([miny, maxy])\n",
    "ax1.set_xlabel('Actual')\n",
    "ax1.set_ylabel('Predicted')\n",
    "ax1.axis('equal')\n",
    "ax1.set_title('Training set predictions')\n",
    "ax1.text(140, 110, 'RMSE: %.3f' % rmse, fontsize=12)\n",
    "\n",
    "ax2.plot(y2, yhat2, 'ro')\n",
    "ax2.plot([miny, maxy],[miny, maxy], 'k-')\n",
    "ax2.set_xlim([miny, maxy])\n",
    "ax2.set_xlabel('Actual')\n",
    "ax2.axis('equal')\n",
    "ax2.set_title('Test set predictions')\n",
    "ax2.text(140, 110, 'RMSE: %.3f' % rmse2, fontsize=12)\n"
   ]
  },
  {
   "cell_type": "markdown",
   "metadata": {},
   "source": [
    "## Question 2 (20 points)\n",
    "\n",
    "As it turns out, there is one outlier in the training data, when Matt's heart rate monitor was not fixed correctly against the skin, resulting in a strange average heart rate.\n",
    "\n",
    "**Do the following:**\n",
    "\n",
    "1. **Plot pace (column 0) against heart rate ($\\textbf{y}$) for the training data.**"
   ]
  },
  {
   "cell_type": "code",
   "execution_count": 69,
   "metadata": {},
   "outputs": [
    {
     "data": {
      "text/plain": [
       "Text(0, 0.5, 'Average heart rate')"
      ]
     },
     "execution_count": 69,
     "metadata": {},
     "output_type": "execute_result"
    },
    {
     "data": {
      "image/png": "[encoded data removed]",
      "text/plain": [
       "<Figure size 576x360 with 1 Axes>"
      ]
     },
     "metadata": {
      "needs_background": "light"
     },
     "output_type": "display_data"
    }
   ],
   "source": [
    "\n",
    "plt.figure(figsize=(8, 5))\n",
    "plt.plot(Xtrain[:,0], ytrain.T, 'ro')\n",
    "plt.xlabel('Pace (min/km)')\n",
    "plt.ylabel('Average heart rate')\n"
   ]
  },
  {
   "cell_type": "markdown",
   "metadata": {},
   "source": [
    "2. **Give the outlier point's data here and explain why it does not seem to be consistent with the other data.**"
   ]
  },
  {
   "cell_type": "markdown",
   "metadata": {},
   "source": [
    "The outlier point is the one in the upper right corner of the previous plot. The pace is very slow, so the heart rate should be correspondingly low (like the other point in the lower right corner of the plot) but it is not. The actual data point is the fourth row of Xtest and fourth element of ytest:\n",
    "\n",
    "$$\\textbf{x} = \\begin{bmatrix} 8.46 & 5235 & 92.9 & 48.5 \\end{bmatrix}^T, \\; \\; y = 152$$"
   ]
  },
  {
   "cell_type": "markdown",
   "metadata": {},
   "source": [
    "3. **Build a new regression model without this point, and make a new plot of predicted versus actual heart rate for the training set and test set using the new parameters.**"
   ]
  },
  {
   "cell_type": "code",
   "execution_count": 71,
   "metadata": {},
   "outputs": [
    {
     "name": "stdout",
     "output_type": "stream",
     "text": [
      "[[ 1.94717362e+02]\n",
      " [-1.18951841e+01]\n",
      " [ 5.31371438e-04]\n",
      " [ 6.17633760e-02]\n",
      " [ 6.32548836e-02]]\n"
     ]
    },
    {
     "data": {
      "text/plain": [
       "Text(140, 110, 'RMSE: 8.943')"
      ]
     },
     "execution_count": 71,
     "metadata": {},
     "output_type": "execute_result"
    },
    {
     "data": {
      "image/png": "[encoded data removed]",
      "text/plain": [
       "<Figure size 1152x360 with 2 Axes>"
      ]
     },
     "metadata": {
      "needs_background": "light"
     },
     "output_type": "display_data"
    }
   ],
   "source": [
    "X_clean = np.concatenate([X[0:3,:], X[4:,:]], 0)\n",
    "y_clean = np.concatenate([y[0:3,:], y[4:,:]], 0)\n",
    "\n",
    "theta_clean = np.linalg.inv(X_clean.T @ X_clean) @ X_clean.T @ y_clean\n",
    "print(theta_clean)\n",
    "\n",
    "yhat_clean = X_clean @ theta_clean\n",
    "yhat2_clean = X2 @ theta_clean\n",
    "\n",
    "m_clean = X_clean.shape[0]\n",
    "rmse_clean = np.sqrt((yhat_clean - y_clean).T @ (yhat_clean - y_clean) / m_clean)\n",
    "rmse2_clean = np.sqrt((yhat2_clean - y2).T @ (yhat2_clean - y2) / m2)\n",
    "\n",
    "fig, (ax1, ax2) = plt.subplots(1, 2)\n",
    "miny = 100\n",
    "maxy = 160\n",
    "\n",
    "ax1.plot(y_clean, yhat_clean, 'ro')\n",
    "ax1.plot([miny, maxy],[miny, maxy], 'k-')\n",
    "ax1.set_xlim([miny, maxy])\n",
    "ax1.set_xlabel('Actual')\n",
    "ax1.set_ylabel('Predicted')\n",
    "ax1.axis('equal')\n",
    "ax1.set_title('Training set predictions')\n",
    "ax1.text(140, 110, 'RMSE: %.3f' % rmse_clean, fontsize=12)\n",
    "\n",
    "ax2.plot(y2, yhat2_clean, 'ro')\n",
    "ax2.plot([miny, maxy],[miny, maxy], 'k-')\n",
    "ax2.set_xlim([miny, maxy])\n",
    "ax2.set_xlabel('Actual')\n",
    "ax2.axis('equal')\n",
    "ax2.set_title('Test set predictions')\n",
    "ax2.text(140, 110, 'RMSE: %.3f' % rmse2_clean, fontsize=12)\n"
   ]
  },
  {
   "cell_type": "markdown",
   "metadata": {},
   "source": [
    "4. **Briefly discuss whether the result based on the \"cleaned\" dataset is better than the result on the original data set.**"
   ]
  },
  {
   "cell_type": "markdown",
   "metadata": {},
   "source": [
    "The model based on the cleaned dataset is much better.\n",
    "\n",
    "The original parameter estimate had a positive value for $\\theta_1$, which says that as minutes per kilometer gets bigger (pace is slower), heart rate increases, which is counterintuitive.\n",
    "\n",
    "The new parameter estimate has a negative value for the variable, as we would expect. The value of -11.9 says that if we speed up by one minute per kilometer, heart rate will increase by 12 beats per minute, which seems reasonable.\n",
    "\n",
    "The RMSE on the training set decreased substantially, from 7.0 to 4.6. The test set RMSE also improved albeit not as much, from 9.4 to 8.9. We see that on the test set, the predictions seem to be higher than the actual rates."
   ]
  },
  {
   "cell_type": "markdown",
   "metadata": {},
   "source": [
    "## Question 3 (20 points)\n",
    "\n",
    "Actually, the data in Questions 1 and 2 are not quite independent of each other, as they form a sequence. Performance in a sport improves with training over time.\n",
    "\n",
    "Perhaps we can model the effect of training on performance by adding a new variable to the data set that is the number of days since the training began.\n",
    "\n",
    "Create a new variable indicating the number of days that have passed since training began. Let's name this variable $x_5$, and let $x_4$ be the \"hours of rest since the last run\" variable (last column in the $\\texttt{X}$ data set). Let $x_5^{(0)} = 0$, and let\n",
    "\n",
    "$$x_5^{(i)} = \\frac{1}{24}\\sum_{j=1}^{i-1} x_4^{(i)}.$$ \n",
    "\n",
    "You can calculate this more easily using the recurrence\n",
    "\n",
    "$$x_5^{(i)} = x_5^{(i-1)} + \\frac{1}{24}x_4^{(i)}.$$ \n",
    "\n",
    "**Do the following:**\n",
    "\n",
    "1. **Add the new variable $x_5$ to your test and training datasets. Note that the test data are just a continuation of the series from the training data, so $x_5$ for the first entry in the test set should be $x_5$ for the last entry in the training set plus the number of rest hours for the first entry in the test set divided by 24.**\n",
    "\n",
    "2. **Build a new regression model using the augmented data set, give the optimal parameters $\\mathbf{\\theta}$ here, and show the scatter plot of predicted versus actual outcomes for the training set and test set.**"
   ]
  },
  {
   "cell_type": "code",
   "execution_count": 75,
   "metadata": {},
   "outputs": [
    {
     "name": "stdout",
     "output_type": "stream",
     "text": [
      "[[ 1.95861589e+02]\n",
      " [-1.14127854e+01]\n",
      " [ 5.67831939e-04]\n",
      " [ 3.74071805e-02]\n",
      " [ 5.44479593e-02]\n",
      " [-4.97604330e-02]]\n"
     ]
    },
    {
     "data": {
      "text/plain": [
       "Text(140, 110, 'RMSE: 7.401')"
      ]
     },
     "execution_count": 75,
     "metadata": {},
     "output_type": "execute_result"
    },
    {
     "data": {
      "image/png": "[encoded data removed]",
      "text/plain": [
       "<Figure size 1152x360 with 2 Axes>"
      ]
     },
     "metadata": {
      "needs_background": "light"
     },
     "output_type": "display_data"
    }
   ],
   "source": [
    "\n",
    "# Add the variable\n",
    "\n",
    "XX = np.concatenate((X_clean, np.zeros((m_clean, 1))), 1)\n",
    "for i in range(1,m_clean):\n",
    "    XX[i,5] = XX[i-1,5] + 1/24 * XX[i,4]\n",
    "\n",
    "XX2 = np.concatenate((X2, np.zeros((m2, 1))), 1)\n",
    "XX2[0,5] = XX[m_clean-1,5] + 1/24 * XX2[0,4]\n",
    "for i in range(1,m2):\n",
    "    XX2[i,5] = XX2[i-1,5] + 1/24 * XX2[i,4]\n",
    "\n",
    "# Redo the regression analysis using the new dataset\n",
    "\n",
    "theta_q3 = np.linalg.inv(XX.T @ XX) @ XX.T @ y_clean\n",
    "print(theta_q3)\n",
    "\n",
    "yhat_q3 = XX @ theta_q3\n",
    "yhat2_q3 = XX2 @ theta_q3\n",
    "\n",
    "rmse_q3 = np.sqrt((yhat_q3 - y_clean).T @ (yhat_q3 - y_clean) / m_clean)\n",
    "rmse2_q3 = np.sqrt((yhat2_q3 - y2).T @ (yhat2_q3 - y2) / m2)\n",
    "\n",
    "fig, (ax1, ax2) = plt.subplots(1, 2)\n",
    "miny = 100\n",
    "maxy = 160\n",
    "\n",
    "ax1.plot(y_clean, yhat_q3, 'ro')\n",
    "ax1.plot([miny, maxy],[miny, maxy], 'k-')\n",
    "ax1.set_xlim([miny, maxy])\n",
    "ax1.set_xlabel('Actual')\n",
    "ax1.set_ylabel('Predicted')\n",
    "ax1.axis('equal')\n",
    "ax1.set_title('Training set predictions')\n",
    "ax1.text(140, 110, 'RMSE: %.3f' % rmse_q3, fontsize=12)\n",
    "\n",
    "ax2.plot(y2, yhat2_q3, 'ro')\n",
    "ax2.plot([miny, maxy],[miny, maxy], 'k-')\n",
    "ax2.set_xlim([miny, maxy])\n",
    "ax2.set_xlabel('Actual')\n",
    "ax2.axis('equal')\n",
    "ax2.set_title('Test set predictions')\n",
    "ax2.text(140, 110, 'RMSE: %.3f' % rmse2_q3, fontsize=12)\n"
   ]
  },
  {
   "cell_type": "markdown",
   "metadata": {},
   "source": [
    "The new parameter estimate has a negative load on number of training days, indicating that, as we might expect, when the number of training days increases, the heart rate is decreasing. The value of -0.05 says that every 20 days of training reduces the heart rate by 1 beat per minute. That seems like a small effect, but interestingly, though training RMSE only improves slightly with this variable, from 4.56 to 4.48, test RMSE improves quite a bit, from 8.94 to 7.40. The test set has bigger values for the \"days of training\" variable, so it has more effect on the test set.\n",
    "\n",
    "Lastly, we see that the model is still overpredicting heart rate on the test set, indicating that there is still something missing in our predictors. We might consider adding a \"volume of training\" variable that reflects the amount of training in the past week or so."
   ]
  },
  {
   "cell_type": "markdown",
   "metadata": {},
   "source": [
    "## Question 4 (20 points)\n",
    "\n",
    "Next we consider a classification problem. We know that logistic regression is only capable of modeling linear classification boundaries. In this question, you will synthesize a data set that has a nonlinear classification boundary then show that we can obtain a good logistic regression classifier by transforming the data so that an appropriate classification boundary is linear in the new transformed inputs.\n",
    "\n",
    "**Do the following:**\n",
    "\n",
    "1. **Generate 100 data points for class 1 in which $x_1$ is sampled uniformly from the range [-3..3] and $x_2$ is sampled from a Gaussian with mean $x_1^2 + 2$ and standard deviation 1.0.**\n",
    "\n",
    "2. **Generate 100 data points for class 2 in which $x_1$ is sampled uniformly from the range [-3..3] and $x_2$ is sampled from a Gaussian with mean $x_1^2 + 5$ and standard deviation 1.0.**"
   ]
  },
  {
   "cell_type": "code",
   "execution_count": 95,
   "metadata": {},
   "outputs": [
    {
     "data": {
      "text/plain": [
       "Text(0.5, 1.0, 'Classification dataset for question 4')"
      ]
     },
     "execution_count": 95,
     "metadata": {},
     "output_type": "execute_result"
    },
    {
     "data": {
      "image/png": "[encoded data removed]",
      "text/plain": [
       "<Figure size 576x360 with 1 Axes>"
      ]
     },
     "metadata": {
      "needs_background": "light"
     },
     "output_type": "display_data"
    }
   ],
   "source": [
    "\n",
    "x11 = np.random.uniform(-3,3,[100,1])\n",
    "x12 = x11 * x11 + 2 + np.random.normal(0, 1, [100, 1])\n",
    "X1 = np.concatenate((np.ones((100,1)), x11, x12), 1)\n",
    "\n",
    "x21 = np.random.uniform(-3,3,[100,1])\n",
    "x22 = x21 * x21 + 5 + np.random.normal(0, 1, [100, 1])\n",
    "X2 = np.concatenate((np.ones((100,1)), x21, x22), 1)\n",
    "\n",
    "plt.figure(figsize=(8, 5))\n",
    "plt.plot(X1[:,1], X1[:,2], 'ro', label='Class 1')\n",
    "plt.plot(X2[:,1], X2[:,2], 'bo', label='Class 2')\n",
    "plt.xlim([-3.5,3.5])\n",
    "plt.legend()\n",
    "plt.title('Classification dataset for question 4')\n",
    "\n"
   ]
  },
  {
   "cell_type": "markdown",
   "metadata": {},
   "source": [
    "3. **Split the dataset into 80% train and 20% test, estimate a logistic regression model, and report the model's training set accuracy, test set accuracy, and optimal parameters here:**"
   ]
  },
  {
   "cell_type": "code",
   "execution_count": 183,
   "metadata": {},
   "outputs": [
    {
     "name": "stdout",
     "output_type": "stream",
     "text": [
      "Iter 0: parms (-4.000000, 0.000000, 1.000000), trn like -130.170310 acc 0.750000 test like -42.430907 acc 0.675000 *\n",
      "Iter 1: parms (-4.034706, -0.005957, 0.778364), trn like -90.125756 acc 0.800000 test like -30.074459 acc 0.725000 *\n",
      "Iter 2: parms (-4.050597, -0.009748, 0.659431), trn like -81.136914 acc 0.775000 test like -27.091494 acc 0.575000 *\n",
      "Iter 3: parms (-4.051686, -0.012328, 0.636039), trn like -80.852601 acc 0.743750 test like -26.887114 acc 0.550000 *\n",
      "Iter 4: parms (-4.049417, -0.014585, 0.635880), trn like -80.842498 acc 0.743750 test like -26.873816 acc 0.525000 *\n",
      "Iter 5: parms (-4.047175, -0.016714, 0.635570), trn like -80.832976 acc 0.743750 test like -26.860383 acc 0.525000 *\n",
      "Iter 6: parms (-4.044936, -0.018721, 0.635267), trn like -80.823963 acc 0.743750 test like -26.847592 acc 0.525000 *\n",
      "Iter 7: parms (-4.042701, -0.020613, 0.634964), trn like -80.815405 acc 0.743750 test like -26.835366 acc 0.525000 *\n",
      "Iter 8: parms (-4.040470, -0.022397, 0.634661), trn like -80.807253 acc 0.743750 test like -26.823669 acc 0.525000 *\n",
      "Iter 9: parms (-4.038245, -0.024078, 0.634358), trn like -80.799466 acc 0.743750 test like -26.812465 acc 0.525000 *\n",
      "Iter 10: parms (-4.036023, -0.025663, 0.634056), trn like -80.792005 acc 0.743750 test like -26.801723 acc 0.525000 *\n",
      "Iter 11: parms (-4.033807, -0.027158, 0.633754), trn like -80.784836 acc 0.743750 test like -26.791412 acc 0.525000 *\n",
      "Iter 12: parms (-4.031595, -0.028567, 0.633452), trn like -80.777929 acc 0.743750 test like -26.781505 acc 0.525000 *\n",
      "Iter 13: parms (-4.029388, -0.029896, 0.633151), trn like -80.771258 acc 0.743750 test like -26.771975 acc 0.525000 *\n",
      "Iter 14: parms (-4.027186, -0.031148, 0.632849), trn like -80.764798 acc 0.743750 test like -26.762798 acc 0.525000 *\n",
      "Iter 15: parms (-4.024988, -0.032329, 0.632548), trn like -80.758529 acc 0.743750 test like -26.753952 acc 0.525000 *\n",
      "Iter 16: parms (-4.022796, -0.033442, 0.632247), trn like -80.752432 acc 0.743750 test like -26.745416 acc 0.525000 *\n",
      "Iter 17: parms (-4.020608, -0.034492, 0.631946), trn like -80.746490 acc 0.743750 test like -26.737171 acc 0.525000 *\n",
      "Iter 18: parms (-4.018425, -0.035482, 0.631645), trn like -80.740689 acc 0.743750 test like -26.729200 acc 0.525000 *\n",
      "Iter 19: parms (-4.016247, -0.036415, 0.631345), trn like -80.735015 acc 0.743750 test like -26.721485 acc 0.525000 *\n",
      "Iter 20: parms (-4.014074, -0.037295, 0.631044), trn like -80.729456 acc 0.743750 test like -26.714010 acc 0.525000 *\n",
      "Iter 21: parms (-4.011906, -0.038124, 0.630744), trn like -80.724003 acc 0.743750 test like -26.706762 acc 0.525000 *\n",
      "Iter 22: parms (-4.009743, -0.038907, 0.630445), trn like -80.718645 acc 0.743750 test like -26.699727 acc 0.525000 *\n",
      "Iter 23: parms (-4.007585, -0.039644, 0.630145), trn like -80.713374 acc 0.743750 test like -26.692892 acc 0.525000 *\n",
      "Iter 24: parms (-4.005432, -0.040339, 0.629846), trn like -80.708184 acc 0.743750 test like -26.686245 acc 0.525000 *\n",
      "Iter 25: parms (-4.003283, -0.040995, 0.629547), trn like -80.703068 acc 0.743750 test like -26.679776 acc 0.525000 *\n",
      "Iter 26: parms (-4.001140, -0.041613, 0.629248), trn like -80.698020 acc 0.743750 test like -26.673474 acc 0.525000 *\n",
      "Iter 27: parms (-3.999002, -0.042196, 0.628950), trn like -80.693034 acc 0.743750 test like -26.667329 acc 0.525000 *\n",
      "Iter 28: parms (-3.996869, -0.042746, 0.628652), trn like -80.688106 acc 0.743750 test like -26.661333 acc 0.525000 *\n",
      "Iter 29: parms (-3.994740, -0.043264, 0.628355), trn like -80.683232 acc 0.743750 test like -26.655477 acc 0.525000 *\n",
      "Iter 30: parms (-3.992617, -0.043753, 0.628058), trn like -80.678409 acc 0.743750 test like -26.649753 acc 0.525000 *\n",
      "Iter 31: parms (-3.990499, -0.044214, 0.627761), trn like -80.673632 acc 0.743750 test like -26.644154 acc 0.525000 *\n",
      "Iter 32: parms (-3.988385, -0.044649, 0.627464), trn like -80.668900 acc 0.743750 test like -26.638673 acc 0.525000 *\n",
      "Iter 33: parms (-3.986277, -0.045059, 0.627169), trn like -80.664209 acc 0.743750 test like -26.633303 acc 0.525000 *\n",
      "Iter 34: parms (-3.984174, -0.045445, 0.626873), trn like -80.659558 acc 0.743750 test like -26.628039 acc 0.525000 *\n",
      "Iter 35: parms (-3.982075, -0.045810, 0.626578), trn like -80.654944 acc 0.743750 test like -26.622875 acc 0.525000 *\n",
      "Iter 36: parms (-3.979982, -0.046154, 0.626283), trn like -80.650365 acc 0.743750 test like -26.617804 acc 0.525000 *\n",
      "Iter 37: parms (-3.977893, -0.046478, 0.625989), trn like -80.645819 acc 0.743750 test like -26.612824 acc 0.525000 *\n",
      "Iter 38: parms (-3.975810, -0.046784, 0.625696), trn like -80.641306 acc 0.743750 test like -26.607928 acc 0.525000 *\n",
      "Iter 39: parms (-3.973731, -0.047072, 0.625402), trn like -80.636824 acc 0.743750 test like -26.603112 acc 0.525000 *\n",
      "Iter 40: parms (-3.971658, -0.047344, 0.625110), trn like -80.632372 acc 0.743750 test like -26.598373 acc 0.525000 *\n",
      "Iter 41: parms (-3.969589, -0.047601, 0.624818), trn like -80.627948 acc 0.743750 test like -26.593705 acc 0.525000 *\n",
      "Iter 42: parms (-3.967525, -0.047843, 0.624526), trn like -80.623552 acc 0.743750 test like -26.589107 acc 0.525000 *\n",
      "Iter 43: parms (-3.965466, -0.048071, 0.624235), trn like -80.619183 acc 0.743750 test like -26.584573 acc 0.525000 *\n",
      "Iter 44: parms (-3.963412, -0.048287, 0.623944), trn like -80.614840 acc 0.743750 test like -26.580101 acc 0.525000 *\n",
      "Iter 45: parms (-3.961363, -0.048490, 0.623654), trn like -80.610523 acc 0.743750 test like -26.575689 acc 0.525000 *\n",
      "Iter 46: parms (-3.959319, -0.048682, 0.623365), trn like -80.606230 acc 0.743750 test like -26.571332 acc 0.525000 *\n",
      "Iter 47: parms (-3.957280, -0.048863, 0.623076), trn like -80.601962 acc 0.743750 test like -26.567029 acc 0.525000 *\n",
      "Iter 48: parms (-3.955246, -0.049034, 0.622787), trn like -80.597717 acc 0.743750 test like -26.562776 acc 0.525000 *\n",
      "Iter 49: parms (-3.953216, -0.049195, 0.622500), trn like -80.593496 acc 0.743750 test like -26.558572 acc 0.525000 *\n",
      "Iter 50: parms (-3.951192, -0.049347, 0.622212), trn like -80.589297 acc 0.743750 test like -26.554415 acc 0.525000 *\n",
      "Iter 51: parms (-3.949172, -0.049490, 0.621926), trn like -80.585121 acc 0.743750 test like -26.550301 acc 0.525000 *\n",
      "Iter 52: parms (-3.947158, -0.049626, 0.621640), trn like -80.580967 acc 0.743750 test like -26.546230 acc 0.525000 *\n",
      "Iter 53: parms (-3.945148, -0.049754, 0.621354), trn like -80.576835 acc 0.743750 test like -26.542199 acc 0.525000 *\n",
      "Iter 54: parms (-3.943143, -0.049875, 0.621070), trn like -80.572725 acc 0.743750 test like -26.538206 acc 0.525000 *\n",
      "Iter 55: parms (-3.941142, -0.049989, 0.620785), trn like -80.568635 acc 0.743750 test like -26.534251 acc 0.525000 *\n",
      "Iter 56: parms (-3.939147, -0.050096, 0.620502), trn like -80.564567 acc 0.743750 test like -26.530330 acc 0.525000 *\n",
      "Iter 57: parms (-3.937157, -0.050198, 0.620219), trn like -80.560520 acc 0.743750 test like -26.526444 acc 0.525000 *\n",
      "Iter 58: parms (-3.935171, -0.050294, 0.619936), trn like -80.556493 acc 0.743750 test like -26.522590 acc 0.525000 *\n",
      "Iter 59: parms (-3.933190, -0.050385, 0.619654), trn like -80.552486 acc 0.743750 test like -26.518768 acc 0.525000 *\n",
      "Iter 60: parms (-3.931214, -0.050471, 0.619373), trn like -80.548500 acc 0.743750 test like -26.514975 acc 0.525000 *\n",
      "Iter 61: parms (-3.929243, -0.050552, 0.619093), trn like -80.544534 acc 0.743750 test like -26.511211 acc 0.525000 *\n",
      "Iter 62: parms (-3.927276, -0.050628, 0.618813), trn like -80.540588 acc 0.743750 test like -26.507475 acc 0.525000 *\n",
      "Iter 63: parms (-3.925315, -0.050700, 0.618534), trn like -80.536661 acc 0.743750 test like -26.503766 acc 0.525000 *\n",
      "Iter 64: parms (-3.923358, -0.050769, 0.618255), trn like -80.532754 acc 0.743750 test like -26.500082 acc 0.525000 *\n",
      "Iter 65: parms (-3.921406, -0.050834, 0.617977), trn like -80.528867 acc 0.743750 test like -26.496424 acc 0.525000 *\n",
      "Iter 66: parms (-3.919458, -0.050895, 0.617699), trn like -80.524999 acc 0.743750 test like -26.492789 acc 0.525000 *\n",
      "Iter 67: parms (-3.917516, -0.050953, 0.617423), trn like -80.521150 acc 0.743750 test like -26.489177 acc 0.525000 *\n",
      "Iter 68: parms (-3.915578, -0.051007, 0.617147), trn like -80.517320 acc 0.743750 test like -26.485588 acc 0.525000 *\n",
      "Iter 69: parms (-3.913645, -0.051059, 0.616871), trn like -80.513509 acc 0.743750 test like -26.482021 acc 0.525000 *\n",
      "Iter 70: parms (-3.911716, -0.051108, 0.616596), trn like -80.509717 acc 0.743750 test like -26.478474 acc 0.525000 *\n",
      "Iter 71: parms (-3.909792, -0.051155, 0.616322), trn like -80.505944 acc 0.743750 test like -26.474948 acc 0.525000 *\n",
      "Iter 72: parms (-3.907874, -0.051199, 0.616048), trn like -80.502190 acc 0.743750 test like -26.471442 acc 0.525000 *\n",
      "Iter 73: parms (-3.905959, -0.051240, 0.615776), trn like -80.498454 acc 0.743750 test like -26.467955 acc 0.525000 *\n",
      "Iter 74: parms (-3.904050, -0.051280, 0.615503), trn like -80.494736 acc 0.743750 test like -26.464486 acc 0.525000 *\n",
      "Iter 75: parms (-3.902145, -0.051317, 0.615232), trn like -80.491037 acc 0.743750 test like -26.461036 acc 0.525000 *\n",
      "Iter 76: parms (-3.900245, -0.051353, 0.614961), trn like -80.487356 acc 0.743750 test like -26.457603 acc 0.525000 *\n",
      "Iter 77: parms (-3.898349, -0.051386, 0.614690), trn like -80.483694 acc 0.743750 test like -26.454188 acc 0.525000 *\n",
      "Iter 78: parms (-3.896458, -0.051418, 0.614421), trn like -80.480049 acc 0.743750 test like -26.450789 acc 0.525000 *\n",
      "Iter 79: parms (-3.894572, -0.051448, 0.614152), trn like -80.476423 acc 0.743750 test like -26.447407 acc 0.525000 *\n",
      "Iter 80: parms (-3.892691, -0.051477, 0.613883), trn like -80.472815 acc 0.743750 test like -26.444041 acc 0.525000 *\n",
      "Iter 81: parms (-3.890814, -0.051504, 0.613615), trn like -80.469224 acc 0.743750 test like -26.440690 acc 0.525000 *\n",
      "Iter 82: parms (-3.888942, -0.051530, 0.613348), trn like -80.465651 acc 0.743750 test like -26.437354 acc 0.525000 *\n",
      "Iter 83: parms (-3.887074, -0.051555, 0.613082), trn like -80.462096 acc 0.743750 test like -26.434034 acc 0.525000 *\n",
      "Iter 84: parms (-3.885211, -0.051579, 0.612816), trn like -80.458559 acc 0.743750 test like -26.430728 acc 0.525000 *\n",
      "Iter 85: parms (-3.883353, -0.051601, 0.612551), trn like -80.455039 acc 0.743750 test like -26.427436 acc 0.525000 *\n",
      "Iter 86: parms (-3.881499, -0.051622, 0.612286), trn like -80.451536 acc 0.743750 test like -26.424159 acc 0.525000 *\n",
      "Iter 87: parms (-3.879650, -0.051642, 0.612022), trn like -80.448051 acc 0.743750 test like -26.420895 acc 0.525000 *\n",
      "Iter 88: parms (-3.877805, -0.051662, 0.611759), trn like -80.444583 acc 0.743750 test like -26.417645 acc 0.525000 *\n",
      "Iter 89: parms (-3.875965, -0.051680, 0.611497), trn like -80.441133 acc 0.743750 test like -26.414408 acc 0.525000 *\n",
      "Iter 90: parms (-3.874130, -0.051698, 0.611235), trn like -80.437699 acc 0.743750 test like -26.411184 acc 0.525000 *\n",
      "Iter 91: parms (-3.872299, -0.051715, 0.610973), trn like -80.434283 acc 0.743750 test like -26.407973 acc 0.525000 *\n",
      "Iter 92: parms (-3.870473, -0.051731, 0.610713), trn like -80.430884 acc 0.743750 test like -26.404775 acc 0.525000 *\n",
      "Iter 93: parms (-3.868651, -0.051746, 0.610453), trn like -80.427502 acc 0.743750 test like -26.401589 acc 0.525000 *\n",
      "Iter 94: parms (-3.866834, -0.051760, 0.610193), trn like -80.424136 acc 0.743750 test like -26.398415 acc 0.525000 *\n",
      "Iter 95: parms (-3.865021, -0.051774, 0.609935), trn like -80.420787 acc 0.743750 test like -26.395254 acc 0.525000 *\n",
      "Iter 96: parms (-3.863213, -0.051788, 0.609676), trn like -80.417456 acc 0.743750 test like -26.392105 acc 0.525000 *\n",
      "Iter 97: parms (-3.861409, -0.051801, 0.609419), trn like -80.414140 acc 0.743750 test like -26.388967 acc 0.525000 *\n",
      "Iter 98: parms (-3.859610, -0.051813, 0.609162), trn like -80.410841 acc 0.743750 test like -26.385841 acc 0.525000 *\n",
      "Iter 99: parms (-3.857816, -0.051825, 0.608906), trn like -80.407559 acc 0.743750 test like -26.382727 acc 0.525000 *\n",
      "Iter 100: parms (-3.856026, -0.051836, 0.608650), trn like -80.404293 acc 0.743750 test like -26.379624 acc 0.525000 *\n",
      "Iter 101: parms (-3.854240, -0.051847, 0.608396), trn like -80.401044 acc 0.743750 test like -26.376532 acc 0.525000 *\n",
      "Iter 102: parms (-3.852459, -0.051858, 0.608141), trn like -80.397811 acc 0.743750 test like -26.373452 acc 0.525000 *\n",
      "Iter 103: parms (-3.850682, -0.051868, 0.607888), trn like -80.394594 acc 0.743750 test like -26.370382 acc 0.525000 *\n",
      "Iter 104: parms (-3.848910, -0.051877, 0.607635), trn like -80.391393 acc 0.743750 test like -26.367324 acc 0.525000 *\n",
      "Iter 105: parms (-3.847142, -0.051887, 0.607382), trn like -80.388208 acc 0.743750 test like -26.364276 acc 0.525000 *\n",
      "Iter 106: parms (-3.845379, -0.051896, 0.607131), trn like -80.385040 acc 0.743750 test like -26.361239 acc 0.525000 *\n",
      "Iter 107: parms (-3.843620, -0.051905, 0.606879), trn like -80.381887 acc 0.743750 test like -26.358212 acc 0.525000 *\n",
      "Iter 108: parms (-3.841866, -0.051913, 0.606629), trn like -80.378750 acc 0.743750 test like -26.355196 acc 0.525000 *\n",
      "Iter 109: parms (-3.840116, -0.051921, 0.606379), trn like -80.375629 acc 0.743750 test like -26.352191 acc 0.525000 *\n",
      "Iter 110: parms (-3.838370, -0.051929, 0.606130), trn like -80.372523 acc 0.743750 test like -26.349195 acc 0.525000 *\n",
      "Iter 111: parms (-3.836629, -0.051937, 0.605881), trn like -80.369434 acc 0.743750 test like -26.346210 acc 0.525000 *\n",
      "Iter 112: parms (-3.834892, -0.051944, 0.605633), trn like -80.366360 acc 0.750000 test like -26.343236 acc 0.525000 *\n",
      "Iter 113: parms (-3.833160, -0.051951, 0.605386), trn like -80.363301 acc 0.750000 test like -26.340271 acc 0.525000 *\n",
      "Iter 114: parms (-3.831432, -0.051958, 0.605139), trn like -80.360258 acc 0.750000 test like -26.337316 acc 0.525000 *\n",
      "Iter 115: parms (-3.829708, -0.051965, 0.604893), trn like -80.357230 acc 0.750000 test like -26.334372 acc 0.525000 *\n",
      "Iter 116: parms (-3.827989, -0.051972, 0.604648), trn like -80.354218 acc 0.750000 test like -26.331437 acc 0.525000 *\n",
      "Iter 117: parms (-3.826274, -0.051978, 0.604403), trn like -80.351220 acc 0.750000 test like -26.328512 acc 0.525000 *\n",
      "Iter 118: parms (-3.824563, -0.051984, 0.604159), trn like -80.348238 acc 0.750000 test like -26.325597 acc 0.525000 *\n",
      "Iter 119: parms (-3.822857, -0.051990, 0.603915), trn like -80.345271 acc 0.750000 test like -26.322691 acc 0.525000 *\n",
      "Iter 120: parms (-3.821155, -0.051996, 0.603672), trn like -80.342320 acc 0.750000 test like -26.319795 acc 0.525000 *\n",
      "Iter 121: parms (-3.819457, -0.052002, 0.603430), trn like -80.339383 acc 0.750000 test like -26.316909 acc 0.525000 *\n",
      "Iter 122: parms (-3.817764, -0.052008, 0.603188), trn like -80.336461 acc 0.750000 test like -26.314033 acc 0.525000 *\n",
      "Iter 123: parms (-3.816075, -0.052013, 0.602947), trn like -80.333554 acc 0.750000 test like -26.311165 acc 0.525000 *\n",
      "Iter 124: parms (-3.814390, -0.052019, 0.602707), trn like -80.330662 acc 0.750000 test like -26.308308 acc 0.525000 *\n",
      "Iter 125: parms (-3.812710, -0.052024, 0.602467), trn like -80.327784 acc 0.750000 test like -26.305459 acc 0.525000 *\n",
      "Iter 126: parms (-3.811034, -0.052029, 0.602228), trn like -80.324921 acc 0.750000 test like -26.302620 acc 0.525000 *\n",
      "Iter 127: parms (-3.809362, -0.052034, 0.601989), trn like -80.322073 acc 0.750000 test like -26.299790 acc 0.525000 *\n",
      "Iter 128: parms (-3.807695, -0.052039, 0.601751), trn like -80.319239 acc 0.750000 test like -26.296970 acc 0.525000 *\n",
      "Iter 129: parms (-3.806031, -0.052044, 0.601513), trn like -80.316420 acc 0.750000 test like -26.294159 acc 0.525000 *\n",
      "Iter 130: parms (-3.804372, -0.052049, 0.601277), trn like -80.313615 acc 0.750000 test like -26.291356 acc 0.525000 *\n",
      "Iter 131: parms (-3.802718, -0.052054, 0.601040), trn like -80.310824 acc 0.750000 test like -26.288563 acc 0.525000 *\n",
      "Iter 132: parms (-3.801067, -0.052058, 0.600805), trn like -80.308048 acc 0.750000 test like -26.285779 acc 0.525000 *\n",
      "Iter 133: parms (-3.799421, -0.052063, 0.600570), trn like -80.305286 acc 0.750000 test like -26.283005 acc 0.525000 *\n",
      "Iter 134: parms (-3.797779, -0.052067, 0.600335), trn like -80.302538 acc 0.750000 test like -26.280239 acc 0.525000 *\n",
      "Iter 135: parms (-3.796141, -0.052072, 0.600102), trn like -80.299804 acc 0.750000 test like -26.277482 acc 0.525000 *\n",
      "Iter 136: parms (-3.794507, -0.052076, 0.599868), trn like -80.297085 acc 0.750000 test like -26.274734 acc 0.525000 *\n",
      "Iter 137: parms (-3.792878, -0.052081, 0.599636), trn like -80.294379 acc 0.750000 test like -26.271995 acc 0.525000 *\n",
      "Iter 138: parms (-3.791252, -0.052085, 0.599404), trn like -80.291687 acc 0.750000 test like -26.269264 acc 0.525000 *\n",
      "Iter 139: parms (-3.789631, -0.052089, 0.599172), trn like -80.289009 acc 0.750000 test like -26.266543 acc 0.525000 *\n",
      "Iter 140: parms (-3.788014, -0.052093, 0.598942), trn like -80.286344 acc 0.750000 test like -26.263830 acc 0.525000 *\n",
      "Iter 141: parms (-3.786401, -0.052097, 0.598711), trn like -80.283694 acc 0.750000 test like -26.261126 acc 0.525000 *\n",
      "Iter 142: parms (-3.784793, -0.052101, 0.598482), trn like -80.281057 acc 0.750000 test like -26.258431 acc 0.525000 *\n",
      "Iter 143: parms (-3.783188, -0.052105, 0.598253), trn like -80.278433 acc 0.750000 test like -26.255744 acc 0.525000 *\n",
      "Iter 144: parms (-3.781588, -0.052109, 0.598024), trn like -80.275823 acc 0.750000 test like -26.253066 acc 0.525000 *\n",
      "Iter 145: parms (-3.779992, -0.052113, 0.597797), trn like -80.273227 acc 0.750000 test like -26.250397 acc 0.525000 *\n",
      "Iter 146: parms (-3.778400, -0.052117, 0.597569), trn like -80.270644 acc 0.750000 test like -26.247736 acc 0.525000 *\n",
      "Iter 147: parms (-3.776812, -0.052121, 0.597343), trn like -80.268074 acc 0.750000 test like -26.245084 acc 0.525000 *\n",
      "Iter 148: parms (-3.775228, -0.052125, 0.597117), trn like -80.265518 acc 0.750000 test like -26.242440 acc 0.525000 *\n",
      "Iter 149: parms (-3.773648, -0.052128, 0.596891), trn like -80.262975 acc 0.750000 test like -26.239805 acc 0.525000 *\n",
      "Iter 150: parms (-3.772073, -0.052132, 0.596666), trn like -80.260445 acc 0.750000 test like -26.237179 acc 0.525000 *\n",
      "Iter 151: parms (-3.770501, -0.052136, 0.596442), trn like -80.257928 acc 0.750000 test like -26.234560 acc 0.525000 *\n",
      "Iter 152: parms (-3.768933, -0.052139, 0.596218), trn like -80.255424 acc 0.750000 test like -26.231950 acc 0.525000 *\n",
      "Iter 153: parms (-3.767370, -0.052143, 0.595995), trn like -80.252933 acc 0.750000 test like -26.229349 acc 0.525000 *\n",
      "Iter 154: parms (-3.765811, -0.052147, 0.595773), trn like -80.250455 acc 0.750000 test like -26.226756 acc 0.525000 *\n",
      "Iter 155: parms (-3.764255, -0.052150, 0.595551), trn like -80.247990 acc 0.750000 test like -26.224171 acc 0.525000 *\n",
      "Iter 156: parms (-3.762704, -0.052154, 0.595329), trn like -80.245538 acc 0.750000 test like -26.221594 acc 0.525000 *\n",
      "Iter 157: parms (-3.761157, -0.052157, 0.595108), trn like -80.243098 acc 0.750000 test like -26.219026 acc 0.525000 *\n",
      "Iter 158: parms (-3.759614, -0.052161, 0.594888), trn like -80.240672 acc 0.750000 test like -26.216466 acc 0.525000 *\n",
      "Iter 159: parms (-3.758074, -0.052164, 0.594668), trn like -80.238257 acc 0.750000 test like -26.213914 acc 0.525000 *\n",
      "Iter 160: parms (-3.756539, -0.052168, 0.594449), trn like -80.235856 acc 0.750000 test like -26.211371 acc 0.525000 *\n",
      "Iter 161: parms (-3.755008, -0.052171, 0.594231), trn like -80.233467 acc 0.750000 test like -26.208835 acc 0.525000 *\n",
      "Iter 162: parms (-3.753481, -0.052175, 0.594013), trn like -80.231090 acc 0.750000 test like -26.206308 acc 0.525000 *\n",
      "Iter 163: parms (-3.751958, -0.052178, 0.593796), trn like -80.228726 acc 0.750000 test like -26.203788 acc 0.525000 *\n",
      "Iter 164: parms (-3.750439, -0.052181, 0.593579), trn like -80.226374 acc 0.750000 test like -26.201277 acc 0.525000 *\n",
      "Iter 165: parms (-3.748923, -0.052185, 0.593363), trn like -80.224034 acc 0.750000 test like -26.198774 acc 0.525000 *\n",
      "Iter 166: parms (-3.747412, -0.052188, 0.593147), trn like -80.221707 acc 0.750000 test like -26.196279 acc 0.525000 *\n",
      "Iter 167: parms (-3.745905, -0.052191, 0.592932), trn like -80.219391 acc 0.750000 test like -26.193792 acc 0.525000 *\n",
      "Iter 168: parms (-3.744401, -0.052195, 0.592717), trn like -80.217088 acc 0.750000 test like -26.191313 acc 0.525000 *\n",
      "Iter 169: parms (-3.742902, -0.052198, 0.592503), trn like -80.214797 acc 0.750000 test like -26.188842 acc 0.525000 *\n",
      "Iter 170: parms (-3.741406, -0.052201, 0.592290), trn like -80.212518 acc 0.750000 test like -26.186378 acc 0.525000 *\n",
      "Iter 171: parms (-3.739915, -0.052204, 0.592077), trn like -80.210251 acc 0.750000 test like -26.183923 acc 0.525000 *\n",
      "Iter 172: parms (-3.738427, -0.052207, 0.591865), trn like -80.207996 acc 0.750000 test like -26.181475 acc 0.525000 *\n",
      "Iter 173: parms (-3.736943, -0.052211, 0.591653), trn like -80.205753 acc 0.750000 test like -26.179036 acc 0.525000 *\n",
      "Iter 174: parms (-3.735464, -0.052214, 0.591442), trn like -80.203521 acc 0.750000 test like -26.176604 acc 0.525000 *\n",
      "Iter 175: parms (-3.733988, -0.052217, 0.591231), trn like -80.201301 acc 0.750000 test like -26.174180 acc 0.525000 *\n",
      "Iter 176: parms (-3.732516, -0.052220, 0.591021), trn like -80.199093 acc 0.750000 test like -26.171764 acc 0.525000 *\n",
      "Iter 177: parms (-3.731047, -0.052223, 0.590812), trn like -80.196896 acc 0.750000 test like -26.169355 acc 0.525000 *\n",
      "Iter 178: parms (-3.729583, -0.052226, 0.590603), trn like -80.194711 acc 0.750000 test like -26.166954 acc 0.525000 *\n",
      "Iter 179: parms (-3.728123, -0.052229, 0.590395), trn like -80.192538 acc 0.750000 test like -26.164561 acc 0.525000 *\n",
      "Iter 180: parms (-3.726666, -0.052233, 0.590187), trn like -80.190376 acc 0.750000 test like -26.162176 acc 0.525000 *\n",
      "Iter 181: parms (-3.725213, -0.052236, 0.589979), trn like -80.188225 acc 0.750000 test like -26.159798 acc 0.525000 *\n",
      "Iter 182: parms (-3.723764, -0.052239, 0.589773), trn like -80.186086 acc 0.756250 test like -26.157428 acc 0.525000 *\n",
      "Iter 183: parms (-3.722319, -0.052242, 0.589566), trn like -80.183958 acc 0.756250 test like -26.155065 acc 0.525000 *\n",
      "Iter 184: parms (-3.720878, -0.052245, 0.589361), trn like -80.181841 acc 0.756250 test like -26.152711 acc 0.525000 *\n",
      "Iter 185: parms (-3.719441, -0.052248, 0.589156), trn like -80.179736 acc 0.756250 test like -26.150363 acc 0.525000 *\n",
      "Iter 186: parms (-3.718007, -0.052251, 0.588951), trn like -80.177641 acc 0.756250 test like -26.148023 acc 0.525000 *\n",
      "Iter 187: parms (-3.716577, -0.052254, 0.588747), trn like -80.175558 acc 0.756250 test like -26.145691 acc 0.525000 *\n",
      "Iter 188: parms (-3.715151, -0.052257, 0.588544), trn like -80.173485 acc 0.756250 test like -26.143366 acc 0.525000 *\n",
      "Iter 189: parms (-3.713729, -0.052260, 0.588341), trn like -80.171424 acc 0.756250 test like -26.141049 acc 0.525000 *\n",
      "Iter 190: parms (-3.712310, -0.052263, 0.588139), trn like -80.169374 acc 0.756250 test like -26.138739 acc 0.525000 *\n",
      "Iter 191: parms (-3.710895, -0.052266, 0.587937), trn like -80.167334 acc 0.756250 test like -26.136437 acc 0.525000 *\n",
      "Iter 192: parms (-3.709484, -0.052268, 0.587735), trn like -80.165305 acc 0.756250 test like -26.134141 acc 0.550000 *\n",
      "Iter 193: parms (-3.708077, -0.052271, 0.587535), trn like -80.163288 acc 0.756250 test like -26.131854 acc 0.550000 *\n",
      "Iter 194: parms (-3.706674, -0.052274, 0.587334), trn like -80.161280 acc 0.756250 test like -26.129573 acc 0.550000 *\n",
      "Iter 195: parms (-3.705274, -0.052277, 0.587135), trn like -80.159284 acc 0.756250 test like -26.127300 acc 0.550000 *\n",
      "Iter 196: parms (-3.703878, -0.052280, 0.586936), trn like -80.157298 acc 0.756250 test like -26.125035 acc 0.550000 *\n",
      "Iter 197: parms (-3.702486, -0.052283, 0.586737), trn like -80.155323 acc 0.756250 test like -26.122776 acc 0.550000 *\n",
      "Iter 198: parms (-3.701097, -0.052286, 0.586539), trn like -80.153358 acc 0.756250 test like -26.120525 acc 0.550000 *\n",
      "Iter 199: parms (-3.699712, -0.052289, 0.586341), trn like -80.151403 acc 0.756250 test like -26.118281 acc 0.550000 *\n",
      "Iter 200: parms (-3.698331, -0.052291, 0.586144), trn like -80.149459 acc 0.756250 test like -26.116045 acc 0.550000 *\n",
      "Iter 201: parms (-3.696953, -0.052294, 0.585948), trn like -80.147526 acc 0.756250 test like -26.113815 acc 0.550000 *\n",
      "Iter 202: parms (-3.695580, -0.052297, 0.585752), trn like -80.145603 acc 0.756250 test like -26.111593 acc 0.550000 *\n",
      "Iter 203: parms (-3.694209, -0.052300, 0.585556), trn like -80.143690 acc 0.756250 test like -26.109378 acc 0.550000 *\n",
      "Iter 204: parms (-3.692843, -0.052303, 0.585361), trn like -80.141787 acc 0.756250 test like -26.107170 acc 0.550000 *\n",
      "Iter 205: parms (-3.691480, -0.052305, 0.585167), trn like -80.139894 acc 0.756250 test like -26.104969 acc 0.550000 *\n",
      "Iter 206: parms (-3.690121, -0.052308, 0.584973), trn like -80.138012 acc 0.756250 test like -26.102775 acc 0.550000 *\n",
      "Iter 207: parms (-3.688765, -0.052311, 0.584780), trn like -80.136139 acc 0.756250 test like -26.100588 acc 0.550000 *\n",
      "Iter 208: parms (-3.687413, -0.052314, 0.584587), trn like -80.134277 acc 0.756250 test like -26.098409 acc 0.550000 *\n",
      "Iter 209: parms (-3.686065, -0.052316, 0.584395), trn like -80.132425 acc 0.756250 test like -26.096236 acc 0.550000 *\n",
      "Iter 210: parms (-3.684720, -0.052319, 0.584203), trn like -80.130582 acc 0.756250 test like -26.094070 acc 0.550000 *\n",
      "Iter 211: parms (-3.683379, -0.052322, 0.584012), trn like -80.128750 acc 0.756250 test like -26.091912 acc 0.550000 *\n",
      "Iter 212: parms (-3.682042, -0.052324, 0.583821), trn like -80.126927 acc 0.756250 test like -26.089760 acc 0.550000 *\n",
      "Iter 213: parms (-3.680708, -0.052327, 0.583631), trn like -80.125114 acc 0.756250 test like -26.087615 acc 0.550000 *\n",
      "Iter 214: parms (-3.679378, -0.052330, 0.583441), trn like -80.123311 acc 0.756250 test like -26.085477 acc 0.550000 *\n",
      "Iter 215: parms (-3.678051, -0.052332, 0.583252), trn like -80.121517 acc 0.756250 test like -26.083346 acc 0.550000 *\n",
      "Iter 216: parms (-3.676728, -0.052335, 0.583063), trn like -80.119733 acc 0.756250 test like -26.081222 acc 0.550000 *\n",
      "Iter 217: parms (-3.675408, -0.052338, 0.582875), trn like -80.117959 acc 0.756250 test like -26.079105 acc 0.550000 *\n",
      "Iter 218: parms (-3.674092, -0.052340, 0.582687), trn like -80.116194 acc 0.756250 test like -26.076995 acc 0.550000 *\n",
      "Iter 219: parms (-3.672780, -0.052343, 0.582500), trn like -80.114439 acc 0.756250 test like -26.074891 acc 0.550000 *\n",
      "Iter 220: parms (-3.671471, -0.052346, 0.582313), trn like -80.112693 acc 0.756250 test like -26.072794 acc 0.550000 *\n",
      "Iter 221: parms (-3.670166, -0.052348, 0.582127), trn like -80.110957 acc 0.756250 test like -26.070704 acc 0.550000 *\n",
      "Iter 222: parms (-3.668864, -0.052351, 0.581941), trn like -80.109230 acc 0.756250 test like -26.068621 acc 0.550000 *\n",
      "Iter 223: parms (-3.667565, -0.052353, 0.581756), trn like -80.107512 acc 0.756250 test like -26.066544 acc 0.550000 *\n",
      "Iter 224: parms (-3.666271, -0.052356, 0.581571), trn like -80.105804 acc 0.756250 test like -26.064475 acc 0.550000 *\n",
      "Iter 225: parms (-3.664979, -0.052359, 0.581387), trn like -80.104105 acc 0.756250 test like -26.062411 acc 0.550000 *\n",
      "Iter 226: parms (-3.663691, -0.052361, 0.581204), trn like -80.102415 acc 0.756250 test like -26.060355 acc 0.550000 *\n",
      "Iter 227: parms (-3.662407, -0.052364, 0.581020), trn like -80.100734 acc 0.756250 test like -26.058305 acc 0.550000 *\n",
      "Iter 228: parms (-3.661126, -0.052366, 0.580838), trn like -80.099062 acc 0.756250 test like -26.056262 acc 0.550000 *\n",
      "Iter 229: parms (-3.659849, -0.052369, 0.580656), trn like -80.097399 acc 0.756250 test like -26.054225 acc 0.550000 *\n",
      "Iter 230: parms (-3.658575, -0.052371, 0.580474), trn like -80.095746 acc 0.756250 test like -26.052195 acc 0.550000 *\n",
      "Iter 231: parms (-3.657304, -0.052374, 0.580293), trn like -80.094101 acc 0.756250 test like -26.050172 acc 0.550000 *\n",
      "Iter 232: parms (-3.656037, -0.052376, 0.580112), trn like -80.092465 acc 0.756250 test like -26.048155 acc 0.550000 *\n",
      "Iter 233: parms (-3.654774, -0.052379, 0.579932), trn like -80.090838 acc 0.756250 test like -26.046145 acc 0.550000 *\n",
      "Iter 234: parms (-3.653514, -0.052381, 0.579752), trn like -80.089220 acc 0.756250 test like -26.044141 acc 0.550000 *\n",
      "Iter 235: parms (-3.652257, -0.052384, 0.579573), trn like -80.087611 acc 0.756250 test like -26.042143 acc 0.550000 *\n",
      "Iter 236: parms (-3.651004, -0.052386, 0.579394), trn like -80.086010 acc 0.756250 test like -26.040152 acc 0.550000 *\n",
      "Iter 237: parms (-3.649754, -0.052389, 0.579216), trn like -80.084419 acc 0.756250 test like -26.038168 acc 0.550000 *\n",
      "Iter 238: parms (-3.648507, -0.052391, 0.579038), trn like -80.082835 acc 0.756250 test like -26.036190 acc 0.550000 *\n",
      "Iter 239: parms (-3.647264, -0.052393, 0.578861), trn like -80.081261 acc 0.756250 test like -26.034218 acc 0.550000 *\n",
      "Iter 240: parms (-3.646024, -0.052396, 0.578684), trn like -80.079695 acc 0.756250 test like -26.032253 acc 0.550000 *\n",
      "Iter 241: parms (-3.644788, -0.052398, 0.578508), trn like -80.078137 acc 0.756250 test like -26.030294 acc 0.550000 *\n",
      "Iter 242: parms (-3.643555, -0.052401, 0.578332), trn like -80.076588 acc 0.756250 test like -26.028341 acc 0.550000 *\n",
      "Iter 243: parms (-3.642325, -0.052403, 0.578157), trn like -80.075048 acc 0.756250 test like -26.026395 acc 0.550000 *\n",
      "Iter 244: parms (-3.641099, -0.052406, 0.577982), trn like -80.073516 acc 0.756250 test like -26.024455 acc 0.550000 *\n",
      "Iter 245: parms (-3.639876, -0.052408, 0.577808), trn like -80.071992 acc 0.756250 test like -26.022522 acc 0.550000 *\n",
      "Iter 246: parms (-3.638657, -0.052410, 0.577634), trn like -80.070476 acc 0.756250 test like -26.020594 acc 0.550000 *\n",
      "Iter 247: parms (-3.637441, -0.052413, 0.577460), trn like -80.068969 acc 0.756250 test like -26.018673 acc 0.550000 *\n",
      "Iter 248: parms (-3.636228, -0.052415, 0.577287), trn like -80.067470 acc 0.756250 test like -26.016758 acc 0.550000 *\n",
      "Iter 249: parms (-3.635018, -0.052417, 0.577115), trn like -80.065980 acc 0.756250 test like -26.014849 acc 0.550000 *\n",
      "Iter 250: parms (-3.633812, -0.052420, 0.576943), trn like -80.064497 acc 0.756250 test like -26.012947 acc 0.550000 *\n",
      "Iter 251: parms (-3.632609, -0.052422, 0.576771), trn like -80.063022 acc 0.756250 test like -26.011051 acc 0.550000 *\n",
      "Iter 252: parms (-3.631409, -0.052424, 0.576600), trn like -80.061556 acc 0.756250 test like -26.009160 acc 0.550000 *\n",
      "Iter 253: parms (-3.630213, -0.052427, 0.576430), trn like -80.060098 acc 0.756250 test like -26.007276 acc 0.550000 *\n",
      "Iter 254: parms (-3.629020, -0.052429, 0.576260), trn like -80.058647 acc 0.756250 test like -26.005398 acc 0.550000 *\n",
      "Iter 255: parms (-3.627830, -0.052431, 0.576090), trn like -80.057205 acc 0.756250 test like -26.003527 acc 0.550000 *\n",
      "Iter 256: parms (-3.626644, -0.052434, 0.575921), trn like -80.055770 acc 0.756250 test like -26.001661 acc 0.550000 *\n",
      "Iter 257: parms (-3.625460, -0.052436, 0.575752), trn like -80.054344 acc 0.756250 test like -25.999801 acc 0.575000 *\n",
      "Iter 258: parms (-3.624280, -0.052438, 0.575584), trn like -80.052925 acc 0.756250 test like -25.997947 acc 0.575000 *\n",
      "Iter 259: parms (-3.623103, -0.052440, 0.575416), trn like -80.051514 acc 0.756250 test like -25.996100 acc 0.575000 *\n",
      "Iter 260: parms (-3.621930, -0.052443, 0.575249), trn like -80.050111 acc 0.756250 test like -25.994258 acc 0.575000 *\n",
      "Iter 261: parms (-3.620760, -0.052445, 0.575082), trn like -80.048715 acc 0.756250 test like -25.992422 acc 0.575000 *\n",
      "Iter 262: parms (-3.619593, -0.052447, 0.574916), trn like -80.047327 acc 0.756250 test like -25.990593 acc 0.575000 *\n",
      "Iter 263: parms (-3.618429, -0.052449, 0.574750), trn like -80.045947 acc 0.756250 test like -25.988769 acc 0.575000 *\n",
      "Iter 264: parms (-3.617268, -0.052451, 0.574584), trn like -80.044575 acc 0.756250 test like -25.986951 acc 0.575000 *\n",
      "Iter 265: parms (-3.616111, -0.052454, 0.574419), trn like -80.043210 acc 0.756250 test like -25.985139 acc 0.575000 *\n",
      "Iter 266: parms (-3.614956, -0.052456, 0.574255), trn like -80.041852 acc 0.756250 test like -25.983333 acc 0.575000 *\n",
      "Iter 267: parms (-3.613805, -0.052458, 0.574091), trn like -80.040502 acc 0.756250 test like -25.981533 acc 0.575000 *\n",
      "Iter 268: parms (-3.612657, -0.052460, 0.573927), trn like -80.039159 acc 0.756250 test like -25.979738 acc 0.575000 *\n",
      "Iter 269: parms (-3.611513, -0.052462, 0.573764), trn like -80.037824 acc 0.756250 test like -25.977950 acc 0.575000 *\n",
      "Iter 270: parms (-3.610371, -0.052465, 0.573601), trn like -80.036497 acc 0.756250 test like -25.976167 acc 0.575000 *\n",
      "Iter 271: parms (-3.609233, -0.052467, 0.573439), trn like -80.035176 acc 0.756250 test like -25.974390 acc 0.575000 *\n",
      "Iter 272: parms (-3.608098, -0.052469, 0.573277), trn like -80.033863 acc 0.756250 test like -25.972619 acc 0.575000 *\n",
      "Iter 273: parms (-3.606965, -0.052471, 0.573116), trn like -80.032557 acc 0.756250 test like -25.970854 acc 0.575000 *\n",
      "Iter 274: parms (-3.605836, -0.052473, 0.572955), trn like -80.031258 acc 0.756250 test like -25.969094 acc 0.575000 *\n",
      "Iter 275: parms (-3.604711, -0.052475, 0.572794), trn like -80.029967 acc 0.756250 test like -25.967340 acc 0.575000 *\n",
      "Iter 276: parms (-3.603588, -0.052477, 0.572634), trn like -80.028683 acc 0.756250 test like -25.965592 acc 0.575000 *\n",
      "Iter 277: parms (-3.602468, -0.052480, 0.572475), trn like -80.027405 acc 0.756250 test like -25.963849 acc 0.575000 *\n",
      "Iter 278: parms (-3.601352, -0.052482, 0.572315), trn like -80.026135 acc 0.756250 test like -25.962113 acc 0.575000 *\n",
      "Iter 279: parms (-3.600238, -0.052484, 0.572157), trn like -80.024872 acc 0.756250 test like -25.960381 acc 0.575000 *\n",
      "Iter 280: parms (-3.599128, -0.052486, 0.571998), trn like -80.023616 acc 0.756250 test like -25.958656 acc 0.575000 *\n",
      "Iter 281: parms (-3.598021, -0.052488, 0.571841), trn like -80.022367 acc 0.756250 test like -25.956936 acc 0.575000 *\n",
      "Iter 282: parms (-3.596917, -0.052490, 0.571683), trn like -80.021125 acc 0.756250 test like -25.955222 acc 0.575000 *\n",
      "Iter 283: parms (-3.595816, -0.052492, 0.571526), trn like -80.019890 acc 0.756250 test like -25.953513 acc 0.575000 *\n",
      "Iter 284: parms (-3.594718, -0.052494, 0.571370), trn like -80.018661 acc 0.756250 test like -25.951810 acc 0.575000 *\n",
      "Iter 285: parms (-3.593623, -0.052496, 0.571214), trn like -80.017440 acc 0.756250 test like -25.950112 acc 0.575000 *\n",
      "Iter 286: parms (-3.592531, -0.052498, 0.571058), trn like -80.016225 acc 0.756250 test like -25.948420 acc 0.575000 *\n",
      "Iter 287: parms (-3.591442, -0.052500, 0.570903), trn like -80.015017 acc 0.756250 test like -25.946733 acc 0.575000 *\n",
      "Iter 288: parms (-3.590356, -0.052502, 0.570748), trn like -80.013816 acc 0.756250 test like -25.945052 acc 0.575000 *\n",
      "Iter 289: parms (-3.589273, -0.052504, 0.570594), trn like -80.012621 acc 0.756250 test like -25.943376 acc 0.575000 *\n",
      "Iter 290: parms (-3.588194, -0.052506, 0.570440), trn like -80.011433 acc 0.756250 test like -25.941706 acc 0.575000 *\n",
      "Iter 291: parms (-3.587117, -0.052508, 0.570286), trn like -80.010252 acc 0.756250 test like -25.940041 acc 0.575000 *\n",
      "Iter 292: parms (-3.586043, -0.052510, 0.570133), trn like -80.009077 acc 0.756250 test like -25.938382 acc 0.575000 *\n",
      "Iter 293: parms (-3.584972, -0.052512, 0.569981), trn like -80.007909 acc 0.756250 test like -25.936728 acc 0.575000 *\n",
      "Iter 294: parms (-3.583905, -0.052514, 0.569829), trn like -80.006747 acc 0.756250 test like -25.935080 acc 0.575000 *\n",
      "Iter 295: parms (-3.582840, -0.052516, 0.569677), trn like -80.005592 acc 0.756250 test like -25.933436 acc 0.575000 *\n",
      "Iter 296: parms (-3.581778, -0.052518, 0.569526), trn like -80.004443 acc 0.756250 test like -25.931799 acc 0.575000 *\n",
      "Iter 297: parms (-3.580719, -0.052520, 0.569375), trn like -80.003301 acc 0.756250 test like -25.930166 acc 0.575000 *\n",
      "Iter 298: parms (-3.579663, -0.052522, 0.569224), trn like -80.002165 acc 0.756250 test like -25.928539 acc 0.575000 *\n",
      "Iter 299: parms (-3.578610, -0.052524, 0.569074), trn like -80.001036 acc 0.756250 test like -25.926917 acc 0.575000 *\n",
      "Iter 300: parms (-3.577560, -0.052526, 0.568924), trn like -79.999912 acc 0.756250 test like -25.925301 acc 0.575000 *\n",
      "Iter 301: parms (-3.576513, -0.052528, 0.568775), trn like -79.998795 acc 0.756250 test like -25.923689 acc 0.575000 *\n",
      "Iter 302: parms (-3.575469, -0.052530, 0.568626), trn like -79.997685 acc 0.756250 test like -25.922083 acc 0.575000 *\n",
      "Iter 303: parms (-3.574428, -0.052532, 0.568478), trn like -79.996580 acc 0.756250 test like -25.920482 acc 0.575000 *\n",
      "Iter 304: parms (-3.573390, -0.052534, 0.568330), trn like -79.995482 acc 0.756250 test like -25.918887 acc 0.575000 *\n",
      "Iter 305: parms (-3.572355, -0.052536, 0.568183), trn like -79.994390 acc 0.756250 test like -25.917297 acc 0.575000 *\n",
      "Iter 306: parms (-3.571322, -0.052538, 0.568035), trn like -79.993304 acc 0.756250 test like -25.915711 acc 0.575000 *\n",
      "Iter 307: parms (-3.570293, -0.052539, 0.567889), trn like -79.992224 acc 0.756250 test like -25.914131 acc 0.575000 *\n",
      "Iter 308: parms (-3.569266, -0.052541, 0.567742), trn like -79.991150 acc 0.756250 test like -25.912556 acc 0.575000 *\n",
      "Iter 309: parms (-3.568242, -0.052543, 0.567597), trn like -79.990082 acc 0.756250 test like -25.910987 acc 0.575000 *\n",
      "Iter 310: parms (-3.567222, -0.052545, 0.567451), trn like -79.989021 acc 0.756250 test like -25.909422 acc 0.575000 *\n",
      "Iter 311: parms (-3.566204, -0.052547, 0.567306), trn like -79.987965 acc 0.756250 test like -25.907863 acc 0.575000 *\n",
      "Iter 312: parms (-3.565188, -0.052549, 0.567161), trn like -79.986915 acc 0.756250 test like -25.906308 acc 0.575000 *\n",
      "Iter 313: parms (-3.564176, -0.052551, 0.567017), trn like -79.985871 acc 0.756250 test like -25.904759 acc 0.575000 *\n",
      "Iter 314: parms (-3.563167, -0.052553, 0.566873), trn like -79.984833 acc 0.756250 test like -25.903215 acc 0.575000 *\n",
      "Iter 315: parms (-3.562160, -0.052554, 0.566730), trn like -79.983801 acc 0.756250 test like -25.901675 acc 0.575000 *\n",
      "Iter 316: parms (-3.561157, -0.052556, 0.566587), trn like -79.982774 acc 0.756250 test like -25.900141 acc 0.575000 *\n",
      "Iter 317: parms (-3.560156, -0.052558, 0.566444), trn like -79.981753 acc 0.756250 test like -25.898612 acc 0.575000 *\n",
      "Iter 318: parms (-3.559158, -0.052560, 0.566302), trn like -79.980739 acc 0.756250 test like -25.897088 acc 0.575000 *\n",
      "Iter 319: parms (-3.558162, -0.052562, 0.566160), trn like -79.979729 acc 0.756250 test like -25.895569 acc 0.575000 *\n",
      "Iter 320: parms (-3.557170, -0.052563, 0.566019), trn like -79.978726 acc 0.756250 test like -25.894054 acc 0.575000 *\n",
      "Iter 321: parms (-3.556180, -0.052565, 0.565878), trn like -79.977728 acc 0.756250 test like -25.892545 acc 0.575000 *\n",
      "Iter 322: parms (-3.555194, -0.052567, 0.565737), trn like -79.976736 acc 0.756250 test like -25.891041 acc 0.575000 *\n",
      "Iter 323: parms (-3.554210, -0.052569, 0.565597), trn like -79.975749 acc 0.756250 test like -25.889541 acc 0.575000 *\n",
      "Iter 324: parms (-3.553228, -0.052571, 0.565457), trn like -79.974768 acc 0.756250 test like -25.888047 acc 0.575000 *\n",
      "Iter 325: parms (-3.552250, -0.052572, 0.565318), trn like -79.973793 acc 0.756250 test like -25.886557 acc 0.575000 *\n",
      "Iter 326: parms (-3.551274, -0.052574, 0.565179), trn like -79.972823 acc 0.756250 test like -25.885072 acc 0.575000 *\n",
      "Iter 327: parms (-3.550301, -0.052576, 0.565040), trn like -79.971858 acc 0.756250 test like -25.883592 acc 0.575000 *\n",
      "Iter 328: parms (-3.549331, -0.052578, 0.564902), trn like -79.970899 acc 0.756250 test like -25.882117 acc 0.575000 *\n",
      "Iter 329: parms (-3.548364, -0.052579, 0.564764), trn like -79.969946 acc 0.756250 test like -25.880647 acc 0.575000 *\n",
      "Iter 330: parms (-3.547399, -0.052581, 0.564627), trn like -79.968998 acc 0.756250 test like -25.879181 acc 0.575000 *\n",
      "Iter 331: parms (-3.546437, -0.052583, 0.564490), trn like -79.968055 acc 0.756250 test like -25.877720 acc 0.575000 *\n",
      "Iter 332: parms (-3.545478, -0.052585, 0.564353), trn like -79.967117 acc 0.756250 test like -25.876264 acc 0.575000 *\n",
      "Iter 333: parms (-3.544521, -0.052586, 0.564217), trn like -79.966185 acc 0.756250 test like -25.874813 acc 0.575000 *\n",
      "Iter 334: parms (-3.543567, -0.052588, 0.564081), trn like -79.965258 acc 0.756250 test like -25.873367 acc 0.575000 *\n",
      "Iter 335: parms (-3.542616, -0.052590, 0.563945), trn like -79.964337 acc 0.756250 test like -25.871925 acc 0.575000 *\n",
      "Iter 336: parms (-3.541668, -0.052591, 0.563810), trn like -79.963421 acc 0.756250 test like -25.870488 acc 0.575000 *\n",
      "Iter 337: parms (-3.540722, -0.052593, 0.563675), trn like -79.962509 acc 0.756250 test like -25.869056 acc 0.575000 *\n",
      "Iter 338: parms (-3.539779, -0.052595, 0.563541), trn like -79.961603 acc 0.756250 test like -25.867628 acc 0.575000 *\n",
      "Iter 339: parms (-3.538839, -0.052596, 0.563407), trn like -79.960703 acc 0.756250 test like -25.866205 acc 0.575000 *\n",
      "Iter 340: parms (-3.537901, -0.052598, 0.563273), trn like -79.959807 acc 0.756250 test like -25.864787 acc 0.575000 *\n",
      "Iter 341: parms (-3.536967, -0.052600, 0.563140), trn like -79.958916 acc 0.756250 test like -25.863373 acc 0.575000 *\n",
      "Iter 342: parms (-3.536034, -0.052601, 0.563007), trn like -79.958031 acc 0.756250 test like -25.861964 acc 0.575000 *\n",
      "Iter 343: parms (-3.535105, -0.052603, 0.562875), trn like -79.957150 acc 0.756250 test like -25.860560 acc 0.575000 *\n",
      "Iter 344: parms (-3.534178, -0.052605, 0.562743), trn like -79.956275 acc 0.756250 test like -25.859160 acc 0.575000 *\n",
      "Iter 345: parms (-3.533253, -0.052606, 0.562611), trn like -79.955404 acc 0.756250 test like -25.857764 acc 0.575000 *\n",
      "Iter 346: parms (-3.532332, -0.052608, 0.562480), trn like -79.954539 acc 0.756250 test like -25.856374 acc 0.575000 *\n",
      "Iter 347: parms (-3.531413, -0.052610, 0.562349), trn like -79.953678 acc 0.756250 test like -25.854988 acc 0.575000 *\n",
      "Iter 348: parms (-3.530496, -0.052611, 0.562218), trn like -79.952823 acc 0.756250 test like -25.853606 acc 0.575000 *\n",
      "Iter 349: parms (-3.529582, -0.052613, 0.562088), trn like -79.951972 acc 0.756250 test like -25.852229 acc 0.575000 *\n",
      "Iter 350: parms (-3.528671, -0.052614, 0.561958), trn like -79.951126 acc 0.756250 test like -25.850856 acc 0.575000 *\n",
      "Iter 351: parms (-3.527762, -0.052616, 0.561829), trn like -79.950285 acc 0.756250 test like -25.849488 acc 0.575000 *\n",
      "Iter 352: parms (-3.526856, -0.052618, 0.561700), trn like -79.949448 acc 0.756250 test like -25.848124 acc 0.575000 *\n",
      "Iter 353: parms (-3.525953, -0.052619, 0.561571), trn like -79.948617 acc 0.756250 test like -25.846765 acc 0.575000 *\n",
      "Iter 354: parms (-3.525052, -0.052621, 0.561443), trn like -79.947790 acc 0.756250 test like -25.845411 acc 0.575000 *\n",
      "Iter 355: parms (-3.524154, -0.052622, 0.561315), trn like -79.946968 acc 0.756250 test like -25.844060 acc 0.575000 *\n",
      "Iter 356: parms (-3.523258, -0.052624, 0.561187), trn like -79.946151 acc 0.756250 test like -25.842714 acc 0.575000 *\n",
      "Iter 357: parms (-3.522365, -0.052626, 0.561060), trn like -79.945338 acc 0.756250 test like -25.841373 acc 0.575000 *\n",
      "Iter 358: parms (-3.521475, -0.052627, 0.560933), trn like -79.944530 acc 0.756250 test like -25.840036 acc 0.575000 *\n",
      "Iter 359: parms (-3.520587, -0.052629, 0.560807), trn like -79.943726 acc 0.756250 test like -25.838703 acc 0.575000 *\n",
      "Iter 360: parms (-3.519701, -0.052630, 0.560681), trn like -79.942928 acc 0.756250 test like -25.837375 acc 0.575000 *\n",
      "Iter 361: parms (-3.518818, -0.052632, 0.560555), trn like -79.942133 acc 0.756250 test like -25.836051 acc 0.575000 *\n",
      "Iter 362: parms (-3.517938, -0.052633, 0.560429), trn like -79.941344 acc 0.756250 test like -25.834731 acc 0.575000 *\n",
      "Iter 363: parms (-3.517060, -0.052635, 0.560304), trn like -79.940559 acc 0.756250 test like -25.833416 acc 0.575000 *\n",
      "Iter 364: parms (-3.516185, -0.052636, 0.560180), trn like -79.939778 acc 0.756250 test like -25.832105 acc 0.575000 *\n",
      "Iter 365: parms (-3.515312, -0.052638, 0.560055), trn like -79.939002 acc 0.756250 test like -25.830798 acc 0.575000 *\n",
      "Iter 366: parms (-3.514441, -0.052639, 0.559931), trn like -79.938230 acc 0.756250 test like -25.829496 acc 0.575000 *\n",
      "Iter 367: parms (-3.513574, -0.052641, 0.559808), trn like -79.937463 acc 0.756250 test like -25.828197 acc 0.575000 *\n",
      "Iter 368: parms (-3.512708, -0.052642, 0.559685), trn like -79.936700 acc 0.756250 test like -25.826904 acc 0.575000 *\n",
      "Iter 369: parms (-3.511846, -0.052644, 0.559562), trn like -79.935942 acc 0.756250 test like -25.825614 acc 0.575000 *\n",
      "Iter 370: parms (-3.510985, -0.052645, 0.559439), trn like -79.935187 acc 0.756250 test like -25.824328 acc 0.575000 *\n",
      "Iter 371: parms (-3.510127, -0.052647, 0.559317), trn like -79.934438 acc 0.756250 test like -25.823047 acc 0.575000 *\n",
      "Iter 372: parms (-3.509272, -0.052648, 0.559195), trn like -79.933692 acc 0.756250 test like -25.821770 acc 0.575000 *\n",
      "Iter 373: parms (-3.508419, -0.052650, 0.559074), trn like -79.932951 acc 0.756250 test like -25.820497 acc 0.575000 *\n",
      "Iter 374: parms (-3.507569, -0.052651, 0.558953), trn like -79.932214 acc 0.756250 test like -25.819228 acc 0.575000 *\n",
      "Iter 375: parms (-3.506721, -0.052653, 0.558832), trn like -79.931481 acc 0.756250 test like -25.817964 acc 0.575000 *\n",
      "Iter 376: parms (-3.505875, -0.052654, 0.558711), trn like -79.930753 acc 0.756250 test like -25.816703 acc 0.575000 *\n",
      "Iter 377: parms (-3.505032, -0.052656, 0.558591), trn like -79.930029 acc 0.756250 test like -25.815447 acc 0.575000 *\n",
      "Iter 378: parms (-3.504191, -0.052657, 0.558471), trn like -79.929309 acc 0.756250 test like -25.814195 acc 0.575000 *\n",
      "Iter 379: parms (-3.503353, -0.052659, 0.558352), trn like -79.928593 acc 0.756250 test like -25.812947 acc 0.575000 *\n",
      "Iter 380: parms (-3.502517, -0.052660, 0.558233), trn like -79.927881 acc 0.756250 test like -25.811703 acc 0.575000 *\n",
      "Iter 381: parms (-3.501683, -0.052662, 0.558114), trn like -79.927173 acc 0.756250 test like -25.810463 acc 0.575000 *\n",
      "Iter 382: parms (-3.500852, -0.052663, 0.557996), trn like -79.926470 acc 0.756250 test like -25.809227 acc 0.575000 *\n",
      "Iter 383: parms (-3.500024, -0.052664, 0.557878), trn like -79.925770 acc 0.756250 test like -25.807995 acc 0.575000 *\n",
      "Iter 384: parms (-3.499198, -0.052666, 0.557760), trn like -79.925074 acc 0.756250 test like -25.806768 acc 0.575000 *\n",
      "Iter 385: parms (-3.498374, -0.052667, 0.557643), trn like -79.924383 acc 0.756250 test like -25.805544 acc 0.575000 *\n",
      "Iter 386: parms (-3.497552, -0.052669, 0.557526), trn like -79.923695 acc 0.756250 test like -25.804324 acc 0.575000 *\n",
      "Iter 387: parms (-3.496733, -0.052670, 0.557409), trn like -79.923012 acc 0.756250 test like -25.803108 acc 0.575000 *\n",
      "Iter 388: parms (-3.495916, -0.052671, 0.557293), trn like -79.922332 acc 0.756250 test like -25.801897 acc 0.575000 *\n",
      "Iter 389: parms (-3.495102, -0.052673, 0.557177), trn like -79.921657 acc 0.756250 test like -25.800689 acc 0.575000 *\n",
      "Iter 390: parms (-3.494290, -0.052674, 0.557061), trn like -79.920985 acc 0.756250 test like -25.799485 acc 0.575000 *\n",
      "Iter 391: parms (-3.493480, -0.052676, 0.556946), trn like -79.920317 acc 0.756250 test like -25.798285 acc 0.575000 *\n",
      "Iter 392: parms (-3.492673, -0.052677, 0.556831), trn like -79.919653 acc 0.756250 test like -25.797089 acc 0.575000 *\n",
      "Iter 393: parms (-3.491868, -0.052678, 0.556716), trn like -79.918993 acc 0.756250 test like -25.795897 acc 0.575000 *\n",
      "Iter 394: parms (-3.491066, -0.052680, 0.556602), trn like -79.918337 acc 0.756250 test like -25.794709 acc 0.575000 *\n",
      "Iter 395: parms (-3.490265, -0.052681, 0.556488), trn like -79.917684 acc 0.756250 test like -25.793525 acc 0.575000 *\n",
      "Iter 396: parms (-3.489467, -0.052683, 0.556375), trn like -79.917036 acc 0.756250 test like -25.792344 acc 0.575000 *\n",
      "Iter 397: parms (-3.488672, -0.052684, 0.556261), trn like -79.916391 acc 0.756250 test like -25.791168 acc 0.575000 *\n",
      "Iter 398: parms (-3.487878, -0.052685, 0.556148), trn like -79.915749 acc 0.756250 test like -25.789995 acc 0.575000 *\n",
      "Iter 399: parms (-3.487087, -0.052687, 0.556036), trn like -79.915112 acc 0.756250 test like -25.788827 acc 0.575000 *\n",
      "Best parameters: (-3.487087, -0.052687, 0.556036)\n"
     ]
    },
    {
     "data": {
      "image/png": "[encoded data removed]",
      "text/plain": [
       "<Figure size 576x360 with 1 Axes>"
      ]
     },
     "metadata": {
      "needs_background": "light"
     },
     "output_type": "display_data"
    }
   ],
   "source": [
    "X1_train = X1[0:80,:]\n",
    "X1_test = X1[80:,:]\n",
    "X2_train = X2[0:80,:]\n",
    "X2_test = X2[80:,:]\n",
    "\n",
    "X_train = np.concatenate((X1_train, X2_train), 0)\n",
    "y_train = np.concatenate((np.zeros((80,1)), np.ones((80,1))), 0)\n",
    "X_test = np.concatenate((X1_test, X2_test), 0)\n",
    "y_test = np.concatenate((np.zeros((20,1)), np.ones((20,1))), 0)\n",
    "\n",
    "def predict(X, theta):\n",
    "    return 1 / (1 + np.exp(- X @ theta))\n",
    "\n",
    "def loglike(y, ypred):\n",
    "    return sum(y * np.log(ypred) + (1-y) * np.log(1-ypred))[0]\n",
    "\n",
    "def accuracy(y, ypred):\n",
    "    return sum((ypred >= 0.5) == (y == 1)) / y.size\n",
    "    \n",
    "test_idx_0 = (y_test==0).reshape(X_test.shape[0])\n",
    "test_idx_1 = (y_test==1).reshape(X_test.shape[0])\n",
    "\n",
    "theta = np.array([[-4,0,1]]).T\n",
    "theta_best = theta\n",
    "loglike_test_best = 0\n",
    "alpha = 0.001\n",
    "for i in range(0,400):\n",
    "    ypred_train = predict(X_train, theta)\n",
    "    loglike_train = loglike(y_train, ypred_train)\n",
    "    acc_train = accuracy(y_train, ypred_train)\n",
    "    ypred_test = predict(X_test, theta)\n",
    "    loglike_test = loglike(y_test, ypred_test)\n",
    "    acc_test = accuracy(y_test, ypred_test)\n",
    "    sbest = ''\n",
    "    if i == 0 or loglike_test > loglike_test_best:\n",
    "        loglike_test_best = loglike_test\n",
    "        theta_best = theta\n",
    "        sbest = '*'\n",
    "    print('Iter %d: parms (%f, %f, %f), trn like %f acc %f test like %f acc %f %s' %\n",
    "          (i, theta[0], theta[1], theta[2], loglike_train, acc_train, loglike_test, acc_test, sbest))\n",
    "    dtheta = X_train.T @ (y_train - ypred_train)\n",
    "    theta = theta + alpha * dtheta\n",
    "\n",
    "def plot_line(plot_handle, theta):\n",
    "    X11 = -3.5\n",
    "    X12 = (- theta[0] - theta[1] * X11) / theta[2]\n",
    "    X21 = 3.5\n",
    "    X22 = (- theta[0] - theta[1] * X21) / theta[2]\n",
    "    plot_handle.plot([X11, X21], [X21, X22], 'k-')\n",
    "\n",
    "plt.figure(figsize=(8, 5))\n",
    "plt.plot(X_test[test_idx_0, 1], X_test[test_idx_0, 2], 'ro', label='Class 1')\n",
    "plt.plot(X_test[test_idx_1, 1], X_test[test_idx_1, 2], 'bo', label='Class 2')\n",
    "plot_line(plt, theta_best)\n",
    "plt.xlim([-3.5,3.5])\n",
    "plt.legend()\n",
    "plt.title('Best logistic regression classifier')\n",
    "\n",
    "print('Best parameters: (%f, %f, %f)' % (theta_best[0], theta_best[1], theta_best[2]))\n"
   ]
  },
  {
   "cell_type": "markdown",
   "metadata": {},
   "source": [
    "4. **Transform the data to contain five input variables: $x_1$, $x_2$, $x_1^2$, $x_2^2$, and $x_1x_2$. Build a new logistic regression model, report its training and test set accuracy, and optimal parameters here:**"
   ]
  },
  {
   "cell_type": "code",
   "execution_count": 223,
   "metadata": {},
   "outputs": [
    {
     "name": "stdout",
     "output_type": "stream",
     "text": [
      "Iter 0: parms (-4.000000, 0.000000, 1.000000, 0.000000, 0.000000, 0.000000), trn like -130.170310 acc 0.750000 test like -42.430907 acc 0.675000 *\n",
      "Iter 10000: parms (-4.164229, 0.101575, 0.932157, -1.785552, 0.074421, -0.044874), trn like -26.664782 acc 0.968750 test like -9.163064 acc 0.900000 *\n",
      "Iter 20000: parms (-4.306685, 0.187622, 0.904487, -2.254252, 0.110598, -0.062191), trn like -24.084404 acc 0.956250 test like -8.544017 acc 0.925000 *\n",
      "Iter 30000: parms (-4.434338, 0.262386, 0.891342, -2.529830, 0.132437, -0.075813), trn like -23.086221 acc 0.962500 test like -8.344345 acc 0.925000 *\n",
      "Iter 40000: parms (-4.551194, 0.329730, 0.887766, -2.720948, 0.147476, -0.087313), trn like -22.532088 acc 0.956250 test like -8.256371 acc 0.925000 *\n",
      "Iter 50000: parms (-4.659898, 0.391268, 0.890327, -2.864033, 0.158499, -0.097319), trn like -22.167765 acc 0.956250 test like -8.212927 acc 0.925000 *\n",
      "Iter 60000: parms (-4.762136, 0.447899, 0.897033, -2.976018, 0.166868, -0.106173), trn like -21.903224 acc 0.956250 test like -8.190936 acc 0.900000 *\n",
      "Iter 70000: parms (-4.859052, 0.500218, 0.906655, -3.066239, 0.173356, -0.114093), trn like -21.698229 acc 0.962500 test like -8.180480 acc 0.900000 *\n",
      "Iter 80000: parms (-4.951467, 0.548666, 0.918396, -3.140419, 0.178448, -0.121231), trn like -21.531988 acc 0.962500 test like -8.176679 acc 0.900000 *\n",
      "Iter 90000: parms (-5.039993, 0.593596, 0.931708, -3.202335, 0.182466, -0.127697), trn like -21.392624 acc 0.962500 test like -8.176901 acc 0.900000 \n"
     ]
    }
   ],
   "source": [
    "def augment(X):\n",
    "    m = X.shape[0]\n",
    "    return np.concatenate(\n",
    "        (X,\n",
    "         (X[:,1] * X[:,1]).reshape(m,1),\n",
    "         (X[:,2] * X[:,2]).reshape(m,1),\n",
    "         (X[:,1] * X[:,2]).reshape(m,1)), 1)\n",
    "\n",
    "\n",
    "XX_train = augment(X_train)\n",
    "XX_test = augment(X_test)\n",
    "\n",
    "theta = np.array([[-4,0,1,0,0,0]]).T\n",
    "theta_best = theta\n",
    "loglike_test_best = 0\n",
    "alpha = 0.00001\n",
    "for i in range(0,100000):\n",
    "    ypred_train = predict(XX_train, theta)\n",
    "    loglike_train = loglike(y_train, ypred_train)\n",
    "    acc_train = accuracy(y_train, ypred_train)\n",
    "    ypred_test = predict(XX_test, theta)\n",
    "    loglike_test = loglike(y_test, ypred_test)\n",
    "    acc_test = accuracy(y_test, ypred_test)\n",
    "    sbest = ''\n",
    "    if i == 0 or loglike_test > loglike_test_best:\n",
    "        loglike_test_best = loglike_test\n",
    "        theta_best = theta\n",
    "        sbest = '*'\n",
    "    if i % 10000 == 0:\n",
    "        print('Iter %d: parms (%f, %f, %f, %f, %f, %f), trn like %f acc %f test like %f acc %f %s' %\n",
    "              (i, theta[0], theta[1], theta[2], theta[3], theta[4], theta[5], loglike_train, acc_train, loglike_test, acc_test, sbest))\n",
    "    dtheta = XX_train.T @ (y_train - ypred_train)\n",
    "    theta = theta + alpha * dtheta"
   ]
  },
  {
   "cell_type": "code",
   "execution_count": 224,
   "metadata": {},
   "outputs": [
    {
     "name": "stdout",
     "output_type": "stream",
     "text": [
      "Best parameters: (-4.988274, 0.567531, 0.923699, -3.167168, 0.180213, -0.123963)\n"
     ]
    },
    {
     "data": {
      "image/png": "[encoded data removed]",
      "text/plain": [
       "<Figure size 576x360 with 1 Axes>"
      ]
     },
     "metadata": {
      "needs_background": "light"
     },
     "output_type": "display_data"
    }
   ],
   "source": [
    "\n",
    "plt.figure(figsize=(8, 5))\n",
    "y_pred_best = predict(XX_test, theta_best)\n",
    "idx_correct = (y_pred_best < 0.5) == (y_test == 0)\n",
    "idx_correct_0 = ((y_test == 0) & idx_correct).reshape(40)\n",
    "idx_correct_1 = ((y_test == 1) & idx_correct).reshape(40)\n",
    "idx_incorrect_0 = ((y_test == 0) & ~idx_correct).reshape(40)\n",
    "idx_incorrect_1 = ((y_test == 1) & ~idx_correct).reshape(40)\n",
    "\n",
    "plt.plot(X_test[idx_correct_0, 1], X_test[idx_correct_0, 2], 'ro', label='Class 0 correct')\n",
    "plt.plot(X_test[idx_correct_1, 1], X_test[idx_correct_1, 2], 'bo', label='Class 1 correct')\n",
    "plt.plot(X_test[idx_incorrect_0, 1], X_test[idx_incorrect_0, 2], 'r*', label='Class 0 incorrect', ms=20)\n",
    "plt.plot(X_test[idx_incorrect_1, 1], X_test[idx_incorrect_1, 2], 'b*', label='Class 1 incorrect', ms=20)\n",
    "plt.xlim([-3.5,3.5])\n",
    "plt.legend()\n",
    "plt.title('Best augmented logistic regression classifier')\n",
    "\n",
    "print('Best parameters: (%f, %f, %f, %f, %f, %f)' % (theta_best[0], theta_best[1], theta_best[2], theta_best[3], theta_best[4], theta_best[5]))"
   ]
  },
  {
   "cell_type": "markdown",
   "metadata": {},
   "source": [
    "## Question 5 (20 points)\n",
    "\n",
    "Suppose you were interested in predicting the number of traffic fatalities that occur at a given traffic intersection based on various factors that might indicate the level of danger at that intersection: number of lanes, speed limit, types and number of businesses close to the intersection, curvature of the roads leading to the intersection, number of people that live in the surrounding area, and so on.\n",
    "\n",
    "Imagine that you obtain monthly fatality counts for 500 intersections in Bangkok and also obtain the necessary input data on the characteristics of the intersections then start to model.\n",
    "\n",
    "The standard linear regression model would consider the outcome (the number of traffic fatalities per month) as a Gaussian random variable with a mean of $\\mathbf{\\theta}^T\\mathbf{x}$. But that might not be the best approach for this problem.\n",
    "\n",
    "For example, you might consider the [Poisson distribution](https://en.wikipedia.org/wiki/Poisson_distribution).\n",
    "\n",
    "**Do the following.**\n",
    "\n",
    "1. **Read briefly about the Poisson distribution and explain here why it would be a better model of the outcome (number of traffic fatalities per month at a particular intersection) than a Gaussian.**\n",
    "\n",
    "2. **Noting that the Poisson distribution is a member of the exponential family, explain in general how you could use the GLM approach to come up with a model that predicts the fatality rate to be a Poisson random variable with mean** $\\lambda = \\exp(\\mathbf{\\theta}^T\\textbf{x})$. **(Note that the exponential here is just to convert the linear combination of inputs, which could be positive or negative, to a strictly positive value.)**\n",
    "\n",
    "Note that for part 2, *you do not need to derive any equations*! Just explain what steps you would take to obtain a good machine learning algorithm for this problem.\n"
   ]
  },
  {
   "cell_type": "markdown",
   "metadata": {},
   "source": [
    "\n",
    "**Solution:**\n",
    "\n",
    "1. A Gaussian random variable has a range of $-\\infty$ to $\\infty$, with nonzero probability for every value in that range. Clearly, the probability of observing a negative number of fatalities at an intersection is zero. The Gaussian would have to be modified somehow (truncation?) to accurately model the observation. The truncated Gaussian probably wouldn't be a member of the exponential family any more.\n",
    "\n",
    "   A Poisson random variable, on the other hand, models exactly what we want, i.e., a distribution over the number $k$ of events occurring in a given range of time. It is only valid for integer values of $k \\ge 0$. \n",
    "\n",
    "2. We would first model the Poisson as a member of the exponential family, with parameter $\\lambda$, the expected number of fatalities per month at a given intersection. This will allow us to write down the log likelihood function, take the gradient of the log likelihood with respect to $\\mathbf{\\theta}$, and thereby arrive at an estimation algorithm for $\\mathbf{\\theta}$. Once we have the estimation algorithm, given a dataset, we guess an initial value for $\\mathbf{\\theta}$ and use gradient ascent to find the maximum."
   ]
  },
  {
   "cell_type": "code",
   "execution_count": null,
   "metadata": {},
   "outputs": [],
   "source": []
  }
 ],
 "metadata": {
  "kernelspec": {
   "display_name": "Python 3",
   "language": "python",
   "name": "python3"
  },
  "language_info": {
   "codemirror_mode": {
    "name": "ipython",
    "version": 3
   },
   "file_extension": ".py",
   "mimetype": "text/x-python",
   "name": "python",
   "nbconvert_exporter": "python",
   "pygments_lexer": "ipython3",
   "version": "3.8.2"
  }
 },
 "nbformat": 4,
 "nbformat_minor": 2
}
