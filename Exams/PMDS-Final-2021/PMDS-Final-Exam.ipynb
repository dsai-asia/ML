{
 "cells": [
  {
   "cell_type": "markdown",
   "metadata": {},
   "source": [
    "# Final Exam, FoML, AIT PMDS 2021\n",
    "\n",
    "In this exam, you will generate some synthetic data for a binary classification task and then\n",
    "evaluate two models on the synthetic data: logistic regression and a fully connected neural network."
   ]
  },
  {
   "cell_type": "markdown",
   "metadata": {},
   "source": [
    "## Question 1 (10 points)\n",
    "\n",
    "Generate a dataset with examples $\\mathbf{x}^{i} \\in \\mathbb{R}^2$ and $y^{i} \\in \\{ 0, 1 \\}$.\n",
    "\n",
    "Class 0 should come from a 2D Gaussian with mean $\\begin{bmatrix} 10 \\\\ 5 \\end{bmatrix}$ and covariance\n",
    "$\\begin{bmatrix} 2 & 0 \\\\ 0 & 2 \\end{bmatrix}$.\n",
    "\n",
    "Class 1 should come from a 2D Gaussian with mean $\\begin{bmatrix} 5 \\\\ 10 \\end{bmatrix}$ and covariance\n",
    "$\\begin{bmatrix} 2 & 0 \\\\ 0 & 2 \\end{bmatrix}$.\n",
    "\n",
    "Your dataset should include 100 examples of class 0 and 100 examples of class 1."
   ]
  },
  {
   "cell_type": "code",
   "execution_count": null,
   "metadata": {},
   "outputs": [],
   "source": []
  },
  {
   "cell_type": "markdown",
   "metadata": {},
   "source": [
    "## Question 2 (10 points)\n",
    "\n",
    "Split the dataset from Question 1 into training (80%) and validation (20%). Place your code in the cell below."
   ]
  },
  {
   "cell_type": "code",
   "execution_count": null,
   "metadata": {},
   "outputs": [],
   "source": []
  },
  {
   "cell_type": "markdown",
   "metadata": {},
   "source": [
    "## Question 3 (10 points)\n",
    "\n",
    "Visualize the dataset from Question 1. Show scatter plots with class 0 and class 1 shown in different colors,\n",
    "with different shapes for training and validation. Place your code in the cell below."
   ]
  },
  {
   "cell_type": "code",
   "execution_count": null,
   "metadata": {},
   "outputs": [],
   "source": []
  },
  {
   "cell_type": "markdown",
   "metadata": {},
   "source": [
    "## Question 4 (30 points)\n",
    "\n",
    "Build a logistic regression classifier for the dataset. Show the training and validation set's loss curves and the decision boundary in graphs. Place your code in the cell below."
   ]
  },
  {
   "cell_type": "code",
   "execution_count": null,
   "metadata": {},
   "outputs": [],
   "source": []
  },
  {
   "cell_type": "markdown",
   "metadata": {},
   "source": [
    "## Question 5 (30 points)\n",
    "\n",
    "Build a fully connected neural network for the dataset. The network should have at least two\n",
    "hidden layers. You can select the number of units and activation function. Show the training and validation\n",
    "loss curves and the final classifier's decision region for class 0 and class 1. Place your code in the cell below."
   ]
  },
  {
   "cell_type": "code",
   "execution_count": null,
   "metadata": {},
   "outputs": [],
   "source": []
  },
  {
   "cell_type": "markdown",
   "metadata": {},
   "source": [
    "## Question 6 (10 points)\n",
    "\n",
    "In the space below, explain which of the two classifiers, the logistic regression classifier or the fully connected neural network, is more appropriate for this particular problem. Use evidence from the loss curves and decision\n",
    "regions."
   ]
  },
  {
   "cell_type": "code",
   "execution_count": null,
   "metadata": {},
   "outputs": [],
   "source": []
  },
  {
   "cell_type": "markdown",
   "metadata": {},
   "source": [
    "## To turn in\n",
    "\n",
    "Download your notebook as a PDF file and upload to the exam assignment in Google Classroom."
   ]
  },
  {
   "cell_type": "code",
   "execution_count": null,
   "metadata": {},
   "outputs": [],
   "source": []
  }
 ],
 "metadata": {
  "kernelspec": {
   "display_name": "Python 3",
   "language": "python",
   "name": "python3"
  },
  "language_info": {
   "codemirror_mode": {
    "name": "ipython",
    "version": 3
   },
   "file_extension": ".py",
   "mimetype": "text/x-python",
   "name": "python",
   "nbconvert_exporter": "python",
   "pygments_lexer": "ipython3",
   "version": "3.8.10"
  }
 },
 "nbformat": 4,
 "nbformat_minor": 4
}
