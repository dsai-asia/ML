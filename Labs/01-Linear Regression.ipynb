{
 "cells": [
  {
   "cell_type": "markdown",
   "metadata": {},
   "source": [
    "# Machine Learning, Lab 01: Linear Regression\n",
    "\n",
    "This is a template for a lab in the Machine Learning course at dsai.asia.\n",
    "\n",
    "This is the first lab in the Machine Learning course. It will be a tutorial on the linear\n",
    "regression material we introduce in lecture.\n",
    "\n",
    "The session will be similar to [this Kaggle tutorial](https://www.kaggle.com/timniven/linear-regression-tutorial).\n"
   ]
  },
  {
   "cell_type": "code",
   "execution_count": null,
   "metadata": {},
   "outputs": [],
   "source": []
  }
 ],
 "metadata": {
  "kernelspec": {
   "display_name": "Python 3",
   "language": "python",
   "name": "python3"
  },
  "language_info": {
   "codemirror_mode": {
    "name": "ipython",
    "version": 3
   },
   "file_extension": ".py",
   "mimetype": "text/x-python",
   "name": "python",
   "nbconvert_exporter": "python",
   "pygments_lexer": "ipython3",
   "version": "3.8.2"
  }
 },
 "nbformat": 4,
 "nbformat_minor": 4
}
