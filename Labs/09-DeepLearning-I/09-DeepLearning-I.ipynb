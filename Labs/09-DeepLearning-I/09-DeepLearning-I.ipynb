{
 "cells": [
  {
   "cell_type": "markdown",
   "metadata": {},
   "source": [
    "# Lab 09: Deep Learning Part I: Fully Connected Neural Networks\n",
    "\n",
    "In class, we have developed the mathematics and programming techniques for binary classification using fully connected neural networks\n",
    "having one or more hidden layers.\n",
    "\n",
    "Today, we'll expand on that to consider (small) image classification using again fully connected neural networks with a multinomial\n",
    "(softmax) output layer.\n",
    "\n",
    "## MNIST Data\n",
    "\n",
    "An image is a 2D array of pixels. Pixels can be scalar intensities (for a grayscale / black and white image) or a vector indicating a\n",
    "point in a color space such as RGB or HSV.\n",
    "\n",
    "Today we'll consider 8x8 grayscale images of digits from the famous \"MNIST\" dataset, which was considered a benchmark for machine learning algorithms\n",
    "up to the early 2000s, before the advent of large-scale image classification datasets.\n",
    "\n",
    "This dataset in SciKit-Learn has 10 classes, with 180 samples per class in most cases, for a total of 1797 samples.\n",
    "\n",
    "Let's load the dataset and plot an example."
   ]
  },
  {
   "cell_type": "code",
   "execution_count": 18,
   "metadata": {},
   "outputs": [
    {
     "data": {
      "text/plain": [
       "Text(0.5, 1.0, 'Example MNIST sample (category 0)')"
      ]
     },
     "execution_count": 18,
     "metadata": {},
     "output_type": "execute_result"
    },
    {
     "data": {
      "image/png": "[encoded data removed]",
      "text/plain": [
       "<Figure size 432x288 with 1 Axes>"
      ]
     },
     "metadata": {
      "needs_background": "light"
     },
     "output_type": "display_data"
    }
   ],
   "source": [
    "import numpy as np\n",
    "from sklearn.datasets import load_digits\n",
    "import matplotlib.pyplot as plt\n",
    "\n",
    "# Load data\n",
    "\n",
    "data = load_digits()\n",
    "\n",
    "def convert_to_one_hot(y):\n",
    "    y_vect = np.zeros((len(y), 10))\n",
    "    for i in range(len(y)):\n",
    "        y_vect[i, int(y[i])] = 1\n",
    "    return y_vect\n",
    "\n",
    "# Convert target indices to one-hot representation\n",
    "\n",
    "y_indices = data.target\n",
    "y = convert_to_one_hot(y_indices)\n",
    "X = np.matrix(data.data)\n",
    "M = X.shape[0]\n",
    "N = X.shape[1]\n",
    "\n",
    "# Plot an example\n",
    "\n",
    "plt.imshow(np.reshape(X[0,:],(8,8)), 'gray')\n",
    "plt.title('Example MNIST sample (category %d)' % y_indices[0])"
   ]
  },
  {
   "cell_type": "markdown",
   "metadata": {},
   "source": [
    "## Hand-Coded Fully Connected Neural Network\n",
    "\n",
    "OK, now let's modify our code from class to work with this dataset and run 100 epochs of training.\n",
    "The main change is to use a one-hot encoding of the 10 classes at the output layer and to use\n",
    "the softmax activation function at the output. Some minor changes are required to calculate multinomial\n",
    "cross entropy loss rather than binary cross entropy loss."
   ]
  },
  {
   "cell_type": "code",
   "execution_count": 21,
   "metadata": {},
   "outputs": [
    {
     "name": "stdout",
     "output_type": "stream",
     "text": [
      "Epoch 0 train loss 2491.017072\n",
      "Epoch 1 train loss 2488.947736\n",
      "Epoch 2 train loss 2489.620902\n",
      "Epoch 3 train loss 2488.821248\n",
      "Epoch 4 train loss 2488.676089\n",
      "Epoch 5 train loss 2484.581172\n",
      "Epoch 6 train loss 2482.508454\n",
      "Epoch 7 train loss 2478.676346\n",
      "Epoch 8 train loss 2472.721911\n",
      "Epoch 9 train loss 2459.357148\n",
      "Epoch 10 train loss 2433.809901\n",
      "Epoch 11 train loss 2384.461220\n",
      "Epoch 12 train loss 2297.018449\n",
      "Epoch 13 train loss 2185.276556\n",
      "Epoch 14 train loss 2076.863749\n",
      "Epoch 15 train loss 1993.034040\n",
      "Epoch 16 train loss 1926.038307\n",
      "Epoch 17 train loss 1871.052668\n",
      "Epoch 18 train loss 1813.680167\n",
      "Epoch 19 train loss 1751.961525\n",
      "Epoch 20 train loss 1683.506752\n",
      "Epoch 21 train loss 1614.188158\n",
      "Epoch 22 train loss 1549.310936\n",
      "Epoch 23 train loss 1486.337203\n",
      "Epoch 24 train loss 1431.742436\n",
      "Epoch 25 train loss 1376.632926\n",
      "Epoch 26 train loss 1330.103722\n",
      "Epoch 27 train loss 1280.761989\n",
      "Epoch 28 train loss 1234.014039\n",
      "Epoch 29 train loss 1189.619921\n",
      "Epoch 30 train loss 1144.626017\n",
      "Epoch 31 train loss 1101.176751\n",
      "Epoch 32 train loss 1055.629979\n",
      "Epoch 33 train loss 1016.198845\n",
      "Epoch 34 train loss 976.489571\n",
      "Epoch 35 train loss 937.879182\n",
      "Epoch 36 train loss 904.671255\n",
      "Epoch 37 train loss 868.938773\n",
      "Epoch 38 train loss 833.974404\n",
      "Epoch 39 train loss 802.617043\n",
      "Epoch 40 train loss 767.351336\n",
      "Epoch 41 train loss 735.307243\n",
      "Epoch 42 train loss 704.499159\n",
      "Epoch 43 train loss 674.954059\n",
      "Epoch 44 train loss 648.395215\n",
      "Epoch 45 train loss 622.294987\n",
      "Epoch 46 train loss 599.497013\n",
      "Epoch 47 train loss 575.969980\n",
      "Epoch 48 train loss 555.498322\n",
      "Epoch 49 train loss 533.791027\n",
      "Epoch 50 train loss 512.053953\n",
      "Epoch 51 train loss 492.754397\n",
      "Epoch 52 train loss 473.331556\n",
      "Epoch 53 train loss 455.201748\n",
      "Epoch 54 train loss 437.776522\n",
      "Epoch 55 train loss 418.446560\n",
      "Epoch 56 train loss 402.011013\n",
      "Epoch 57 train loss 387.774399\n",
      "Epoch 58 train loss 371.543363\n",
      "Epoch 59 train loss 360.176628\n",
      "Epoch 60 train loss 348.778091\n",
      "Epoch 61 train loss 336.726925\n",
      "Epoch 62 train loss 325.861562\n",
      "Epoch 63 train loss 317.769533\n",
      "Epoch 64 train loss 308.554918\n",
      "Epoch 65 train loss 298.977824\n",
      "Epoch 66 train loss 292.201901\n",
      "Epoch 67 train loss 285.766625\n",
      "Epoch 68 train loss 276.243487\n",
      "Epoch 69 train loss 271.865885\n",
      "Epoch 70 train loss 267.059115\n",
      "Epoch 71 train loss 259.807829\n",
      "Epoch 72 train loss 254.396447\n",
      "Epoch 73 train loss 247.770181\n",
      "Epoch 74 train loss 243.736407\n",
      "Epoch 75 train loss 240.421077\n",
      "Epoch 76 train loss 234.191624\n",
      "Epoch 77 train loss 229.863217\n",
      "Epoch 78 train loss 225.769361\n",
      "Epoch 79 train loss 221.827384\n",
      "Epoch 80 train loss 217.675571\n",
      "Epoch 81 train loss 215.245145\n",
      "Epoch 82 train loss 210.747585\n",
      "Epoch 83 train loss 208.678437\n",
      "Epoch 84 train loss 204.123844\n",
      "Epoch 85 train loss 200.579898\n",
      "Epoch 86 train loss 198.929548\n",
      "Epoch 87 train loss 193.997541\n",
      "Epoch 88 train loss 191.907009\n",
      "Epoch 89 train loss 190.124549\n",
      "Epoch 90 train loss 186.037358\n",
      "Epoch 91 train loss 183.969728\n",
      "Epoch 92 train loss 181.082202\n",
      "Epoch 93 train loss 177.522897\n",
      "Epoch 94 train loss 175.840869\n",
      "Epoch 95 train loss 172.457889\n",
      "Epoch 96 train loss 172.416343\n",
      "Epoch 97 train loss 167.977921\n",
      "Epoch 98 train loss 166.349172\n",
      "Epoch 99 train loss 163.558565\n"
     ]
    },
    {
     "data": {
      "image/png": "[encoded data removed]",
      "text/plain": [
       "<Figure size 432x288 with 1 Axes>"
      ]
     },
     "metadata": {
      "needs_background": "light"
     },
     "output_type": "display_data"
    },
    {
     "name": "stdout",
     "output_type": "stream",
     "text": [
      "Test accuracy: 0.9110\n"
     ]
    }
   ],
   "source": [
    "import random\n",
    "import warnings\n",
    "warnings.filterwarnings(\"ignore\")\n",
    "\n",
    "# Normalize each input feature\n",
    "\n",
    "def normalize(X):\n",
    "    M = X.shape[0]\n",
    "    XX = X - np.tile(np.mean(X,0),[M,1])\n",
    "    XX = np.divide(XX, np.tile(np.std(XX,0),[M,1]))\n",
    "    return np.nan_to_num(XX, copy=True,nan=0.0)\n",
    "\n",
    "XX = normalize(X)\n",
    "\n",
    "idx = np.arange(0,M)\n",
    "\n",
    "# Partion data into training and testing dataset\n",
    "\n",
    "random.shuffle(idx)\n",
    "percent_train = .6\n",
    "m_train = int(M * percent_train)\n",
    "train_idx = idx[0:m_train]\n",
    "test_idx = idx[m_train:M+1]\n",
    "X_train = XX[train_idx,:];\n",
    "X_test = XX[test_idx,:];\n",
    "\n",
    "y_train = y[train_idx];\n",
    "y_test = y[test_idx];\n",
    "y_test_indices = y_indices[test_idx]\n",
    "\n",
    "# Let's start with a 3-layer network with sigmoid activation functions,\n",
    "# 6 units in layer 1, and 5 units in layer 2.\n",
    "\n",
    "h2 = 5\n",
    "h1 = 6\n",
    "W = [[], np.random.normal(0,0.1,[N,h1]),\n",
    "         np.random.normal(0,0.1,[h1,h2]),\n",
    "         np.random.normal(0,0.1,[h2,10])]\n",
    "b = [[], np.random.normal(0,0.1,[h1,1]),\n",
    "         np.random.normal(0,0.1,[h2,1]),\n",
    "         np.random.normal(0,0.1,[10,1])]\n",
    "L = len(W)-1\n",
    "\n",
    "def sigmoid_act(z):\n",
    "    return 1/(1+np.exp(-z))\n",
    "\n",
    "def softmax_act(z):\n",
    "    exps = np.exp(z)\n",
    "    return exps / np.sum(exps)\n",
    "\n",
    "def sigmoid_actder(z):\n",
    "    az = sigmoid_act(z)\n",
    "    prod = np.multiply(az,1-az)\n",
    "    return prod\n",
    "\n",
    "def ff(x,W,b):\n",
    "    L = len(W)-1\n",
    "    a = x\n",
    "    for l in range(1,L+1):\n",
    "        z = W[l].T*a+b[l]\n",
    "        if (l == L):\n",
    "            a = softmax_act(z)\n",
    "        else:\n",
    "            a = sigmoid_act(z)\n",
    "    return a\n",
    "\n",
    "def loss(y, yhat):\n",
    "    return - np.dot(y, np.log(yhat))\n",
    "\n",
    "# Train for 100 epochs with mini-batch size 1\n",
    "\n",
    "cost_arr = [] \n",
    "\n",
    "alpha = 0.01\n",
    "max_iter = 100\n",
    "for iter in range(0, max_iter):\n",
    "    loss_this_iter = 0\n",
    "    order = np.random.permutation(m_train)\n",
    "    for i in range(0, m_train):\n",
    "        \n",
    "        # Grab the pattern order[i]\n",
    "        \n",
    "        x_this = X_train[order[i],:].T\n",
    "        y_this = y_train[order[i],:]\n",
    "\n",
    "        # Feed forward step\n",
    "        \n",
    "        a = [x_this]\n",
    "        z = [[]]\n",
    "        delta = [[]]\n",
    "        dW = [[]]\n",
    "        db = [[]]\n",
    "        for l in range(1,L+1):\n",
    "            z.append(W[l].T*a[l-1]+b[l])\n",
    "            if (l == L):\n",
    "                a.append(softmax_act(z[l]))\n",
    "            else:\n",
    "                a.append(sigmoid_act(z[l]))\n",
    "            # Just to give arrays the right shape for the backprop step\n",
    "            delta.append([]); dW.append([]); db.append([])\n",
    "            \n",
    "        loss_this_pattern = loss(y_this, a[L])\n",
    "        loss_this_iter = loss_this_iter + loss_this_pattern\n",
    "            \n",
    "        # Backprop step. Note that derivative of multinomial cross entropy\n",
    "        # loss is the same as that of binary cross entropy loss. See\n",
    "        # https://levelup.gitconnected.com/killer-combo-softmax-and-cross-entropy-5907442f60ba\n",
    "        # for a nice derivation.\n",
    "\n",
    "        delta[L] = a[L] - np.matrix(y_this).T\n",
    "        for l in range(L,0,-1):\n",
    "            db[l] = delta[l].copy()\n",
    "            dW[l] = a[l-1] * delta[l].T\n",
    "            if l > 1:\n",
    "                delta[l-1] = np.multiply(sigmoid_actder(z[l-1]), W[l] *\n",
    "                             delta[l])\n",
    "                \n",
    "        # Check delta calculation\n",
    "        \n",
    "        if False:\n",
    "            print('Target: %f' % y_this)\n",
    "            print('y_hat: %f' % a[L][0,0])\n",
    "            print(db)\n",
    "            y_pred = ff(x_this,W,b)\n",
    "            diff = 1e-3\n",
    "            W[1][10,0] = W[1][10,0] + diff\n",
    "            y_pred_db = ff(x_this,W,b)\n",
    "            L1 = loss(y_this,y_pred)\n",
    "            L2 = loss(y_this,y_pred_db)\n",
    "            db_finite_difference = (L2-L1)/diff\n",
    "            print('Original out %f, perturbed out %f' %\n",
    "                 (y_pred[0,0], y_pred_db[0,0]))\n",
    "            print('Theoretical dW %f, calculated db %f' %\n",
    "                  (dW[1][10,0], db_finite_difference[0,0]))\n",
    "        \n",
    "        for l in range(1,L+1):            \n",
    "            W[l] = W[l] - alpha * dW[l]\n",
    "            b[l] = b[l] - alpha * db[l]\n",
    "            \n",
    "    cost_arr.append(loss_this_iter[0,0])\n",
    "    print('Epoch %d train loss %f' % (iter, loss_this_iter))\n",
    "\n",
    "plt.plot(np.arange(1,max_iter+1,1), cost_arr)\n",
    "plt.ylabel('Loss')\n",
    "plt.xlabel('Epoch')\n",
    "plt.show()\n",
    "\n",
    "# Get test set accuracy\n",
    "\n",
    "def predict_y(W, b, X):\n",
    "    M = X.shape[0]\n",
    "    y_pred = np.zeros(M)\n",
    "    for i in range(X.shape[0]):\n",
    "        y_pred[i] = np.argmax(ff(X[i,:].T, W, b))\n",
    "    return y_pred\n",
    "\n",
    "y_test_predicted = predict_y(W, b, X_test)\n",
    "y_correct = y_test_predicted == y_test_indices\n",
    "test_accuracy = np.sum(y_correct) / len(y_correct)\n",
    "\n",
    "print('Test accuracy: %.4f' % (test_accuracy))"
   ]
  },
  {
   "cell_type": "markdown",
   "metadata": {},
   "source": [
    "## In-class exercise\n",
    "\n",
    "Modify the code above to plot both training loss and test loss as a function of epoch number.\n",
    "Use early stopping to obtain the best model according to the validation set.\n",
    "Experiment with the hyperparameters (learning rate, number of layers, number of units per layer) to get\n",
    "the best result you can.\n",
    "\n",
    "Describe your experiments and results in your lab report.\n",
    "\n",
    "## PyTorch tutorial\n",
    "\n",
    "Is there an easier way to build this type of model? One way is to learn a framework such as TensorFlow or PyTorch. Both of these frameworks have their\n",
    "pros and cons, but PyTorch is probably the most productive neural network framework for research purposes. We'll use it here.\n",
    "\n",
    "The material for this tutorial is from\n",
    "[Anand Saha's PyTorch tutorial](https://github.com/anandsaha/deep.learning.with.pytorch)."
   ]
  },
  {
   "cell_type": "markdown",
   "metadata": {},
   "source": [
    "### Tensors and Tensor operations\n",
    "\n",
    "Let's get some hands on experience with tensor creation and operations.\n",
    "The torch package contains the necessary data structures to create multidimensional tensors.\n",
    "It also defines the mathematical operations that can be performed on these."
   ]
  },
  {
   "cell_type": "code",
   "execution_count": 1,
   "metadata": {},
   "outputs": [],
   "source": [
    "import torch"
   ]
  },
  {
   "cell_type": "code",
   "execution_count": 2,
   "metadata": {},
   "outputs": [
    {
     "name": "stdout",
     "output_type": "stream",
     "text": [
      "1.5.0\n"
     ]
    }
   ],
   "source": [
    "print(torch.__version__)"
   ]
  },
  {
   "cell_type": "markdown",
   "metadata": {},
   "source": [
    "### Tensor creation"
   ]
  },
  {
   "cell_type": "markdown",
   "metadata": {},
   "source": [
    "Create a (2x3) dimentional Tensor.\n",
    "\n",
    "Note that a) You get back a FloatTensor b) The values are uninitialized"
   ]
  },
  {
   "cell_type": "code",
   "execution_count": 3,
   "metadata": {},
   "outputs": [
    {
     "name": "stdout",
     "output_type": "stream",
     "text": [
      "tensor([[0.0000e+00, 0.0000e+00, 1.4013e-45],\n",
      "        [0.0000e+00, 5.0447e-43, 0.0000e+00]])\n"
     ]
    }
   ],
   "source": [
    "t = torch.Tensor(2, 3)\n",
    "print(t)"
   ]
  },
  {
   "cell_type": "markdown",
   "metadata": {},
   "source": [
    "The above call was equivalent to"
   ]
  },
  {
   "cell_type": "code",
   "execution_count": 4,
   "metadata": {},
   "outputs": [
    {
     "name": "stdout",
     "output_type": "stream",
     "text": [
      "tensor([[1.0498e-36, 0.0000e+00, 1.6020e-19],\n",
      "        [4.4721e+21, 2.7922e+20, 2.4504e-09]])\n"
     ]
    }
   ],
   "source": [
    "t = torch.FloatTensor(2, 3)\n",
    "print(t)"
   ]
  },
  {
   "cell_type": "markdown",
   "metadata": {},
   "source": [
    "Inspect type of an element"
   ]
  },
  {
   "cell_type": "code",
   "execution_count": 5,
   "metadata": {},
   "outputs": [
    {
     "data": {
      "text/plain": [
       "tensor(1.0498e-36)"
      ]
     },
     "execution_count": 5,
     "metadata": {},
     "output_type": "execute_result"
    }
   ],
   "source": [
    "t[0][0]"
   ]
  },
  {
   "cell_type": "code",
   "execution_count": 6,
   "metadata": {},
   "outputs": [
    {
     "data": {
      "text/plain": [
       "torch.Tensor"
      ]
     },
     "execution_count": 6,
     "metadata": {},
     "output_type": "execute_result"
    }
   ],
   "source": [
    "type(t[0][0])"
   ]
  },
  {
   "cell_type": "markdown",
   "metadata": {},
   "source": [
    "Inspect `t`'s dimensions"
   ]
  },
  {
   "cell_type": "code",
   "execution_count": 7,
   "metadata": {},
   "outputs": [
    {
     "name": "stdout",
     "output_type": "stream",
     "text": [
      "torch.Size([2, 3])\n",
      "2\n",
      "True\n"
     ]
    }
   ],
   "source": [
    "print(t.size())\n",
    "print(t.dim())\n",
    "print(len(t.size()) == t.dim())"
   ]
  },
  {
   "cell_type": "markdown",
   "metadata": {},
   "source": [
    "Set values"
   ]
  },
  {
   "cell_type": "code",
   "execution_count": 8,
   "metadata": {},
   "outputs": [
    {
     "name": "stdout",
     "output_type": "stream",
     "text": [
      "tensor([[1., 2., 3.],\n",
      "        [4., 5., 6.]])\n"
     ]
    }
   ],
   "source": [
    "t[0][0] = 1\n",
    "t[0][1] = 2\n",
    "t[0][2] = 3\n",
    "t[1][0] = 4\n",
    "t[1][1] = 5\n",
    "t[1][2] = 6\n",
    "print(t)"
   ]
  },
  {
   "cell_type": "markdown",
   "metadata": {},
   "source": [
    "Let's cast a FloatTensor to IntTensor"
   ]
  },
  {
   "cell_type": "code",
   "execution_count": 9,
   "metadata": {},
   "outputs": [
    {
     "name": "stdout",
     "output_type": "stream",
     "text": [
      "tensor([1.1000, 2.2000])\n"
     ]
    },
    {
     "data": {
      "text/plain": [
       "tensor([1, 2], dtype=torch.int32)"
      ]
     },
     "execution_count": 9,
     "metadata": {},
     "output_type": "execute_result"
    }
   ],
   "source": [
    "t = torch.FloatTensor([1.1, 2.2])\n",
    "print(t)\n",
    "t.type(torch.IntTensor)"
   ]
  },
  {
   "cell_type": "markdown",
   "metadata": {},
   "source": [
    "Let's explore some other ways of creating a tensor"
   ]
  },
  {
   "cell_type": "code",
   "execution_count": 10,
   "metadata": {},
   "outputs": [
    {
     "name": "stdout",
     "output_type": "stream",
     "text": [
      "tensor([1.1000, 2.2000])\n"
     ]
    }
   ],
   "source": [
    "# From another Tensor\n",
    "\n",
    "t2 = torch.Tensor(t)\n",
    "print(t2)"
   ]
  },
  {
   "cell_type": "code",
   "execution_count": 11,
   "metadata": {},
   "outputs": [
    {
     "name": "stdout",
     "output_type": "stream",
     "text": [
      "tensor([[1, 2],\n",
      "        [3, 4]], dtype=torch.int32)\n"
     ]
    }
   ],
   "source": [
    "# From a Python list\n",
    "\n",
    "t3 = torch.IntTensor([[1, 2],[3, 4]])\n",
    "print(t3)"
   ]
  },
  {
   "cell_type": "code",
   "execution_count": 12,
   "metadata": {},
   "outputs": [
    {
     "name": "stdout",
     "output_type": "stream",
     "text": [
      "tensor([55., 66.])\n"
     ]
    }
   ],
   "source": [
    "# From a NumPy array\n",
    "\n",
    "import numpy as np\n",
    "a = np.array([55, 66])\n",
    "t4 = torch.Tensor(a)\n",
    "print(t4)"
   ]
  },
  {
   "cell_type": "code",
   "execution_count": 13,
   "metadata": {},
   "outputs": [
    {
     "name": "stdout",
     "output_type": "stream",
     "text": [
      "tensor([[0., 0., 0.],\n",
      "        [0., 0., 0.]])\n"
     ]
    }
   ],
   "source": [
    "# Create a Tensor with all zeros\n",
    "\n",
    "t5 = torch.zeros(2, 3)\n",
    "print(t5)"
   ]
  },
  {
   "cell_type": "code",
   "execution_count": 14,
   "metadata": {},
   "outputs": [
    {
     "name": "stdout",
     "output_type": "stream",
     "text": [
      "tensor([[1., 1., 1.],\n",
      "        [1., 1., 1.]])\n"
     ]
    }
   ],
   "source": [
    "# Create a Tensor with all ones\n",
    "\n",
    "t6 = torch.ones(2, 3)\n",
    "print(t6)"
   ]
  },
  {
   "cell_type": "code",
   "execution_count": 15,
   "metadata": {},
   "outputs": [
    {
     "name": "stdout",
     "output_type": "stream",
     "text": [
      "tensor([1., 1.])\n"
     ]
    }
   ],
   "source": [
    "# Create a Tensor with all ones with dimensions \n",
    "# of another Tensor\n",
    "\n",
    "t7 = torch.ones_like(t4)\n",
    "print(t7)"
   ]
  },
  {
   "cell_type": "markdown",
   "metadata": {},
   "source": [
    "### Tensor operations"
   ]
  },
  {
   "cell_type": "markdown",
   "metadata": {},
   "source": [
    "Add two Tensors"
   ]
  },
  {
   "cell_type": "code",
   "execution_count": 16,
   "metadata": {},
   "outputs": [
    {
     "name": "stdout",
     "output_type": "stream",
     "text": [
      "tensor([[2., 2.],\n",
      "        [2., 2.]])\n"
     ]
    }
   ],
   "source": [
    "t1 = torch.ones(2, 2)\n",
    "t2 = torch.ones(2, 2)\n",
    "t = t1 + t2\n",
    "print(t)"
   ]
  },
  {
   "cell_type": "markdown",
   "metadata": {},
   "source": [
    "Inplace/out-of-place operations"
   ]
  },
  {
   "cell_type": "code",
   "execution_count": 17,
   "metadata": {},
   "outputs": [
    {
     "data": {
      "text/plain": [
       "tensor([[2., 2.],\n",
       "        [2., 2.]])"
      ]
     },
     "execution_count": 17,
     "metadata": {},
     "output_type": "execute_result"
    }
   ],
   "source": [
    "t1.add(t2)"
   ]
  },
  {
   "cell_type": "code",
   "execution_count": 18,
   "metadata": {},
   "outputs": [
    {
     "name": "stdout",
     "output_type": "stream",
     "text": [
      "tensor([[1., 1.],\n",
      "        [1., 1.]])\n"
     ]
    }
   ],
   "source": [
    "print(t1)"
   ]
  },
  {
   "cell_type": "code",
   "execution_count": 19,
   "metadata": {},
   "outputs": [
    {
     "data": {
      "text/plain": [
       "tensor([[2., 2.],\n",
       "        [2., 2.]])"
      ]
     },
     "execution_count": 19,
     "metadata": {},
     "output_type": "execute_result"
    }
   ],
   "source": [
    "t1.add_(t2)"
   ]
  },
  {
   "cell_type": "code",
   "execution_count": 20,
   "metadata": {},
   "outputs": [
    {
     "name": "stdout",
     "output_type": "stream",
     "text": [
      "tensor([[2., 2.],\n",
      "        [2., 2.]])\n"
     ]
    }
   ],
   "source": [
    "print(t1)"
   ]
  },
  {
   "cell_type": "markdown",
   "metadata": {},
   "source": [
    "Class methods and package functions"
   ]
  },
  {
   "cell_type": "code",
   "execution_count": 21,
   "metadata": {},
   "outputs": [
    {
     "data": {
      "text/plain": [
       "tensor([[-0.4161, -0.4161],\n",
       "        [-0.4161, -0.4161]])"
      ]
     },
     "execution_count": 21,
     "metadata": {},
     "output_type": "execute_result"
    }
   ],
   "source": [
    "t1.cos()"
   ]
  },
  {
   "cell_type": "code",
   "execution_count": 22,
   "metadata": {},
   "outputs": [
    {
     "data": {
      "text/plain": [
       "tensor([[-0.4161, -0.4161],\n",
       "        [-0.4161, -0.4161]])"
      ]
     },
     "execution_count": 22,
     "metadata": {},
     "output_type": "execute_result"
    }
   ],
   "source": [
    "torch.cos(t1)"
   ]
  },
  {
   "cell_type": "markdown",
   "metadata": {},
   "source": [
    "A few more operations"
   ]
  },
  {
   "cell_type": "code",
   "execution_count": 23,
   "metadata": {},
   "outputs": [
    {
     "data": {
      "text/plain": [
       "tensor([ 3.0000,  4.7500,  6.5000,  8.2500, 10.0000])"
      ]
     },
     "execution_count": 23,
     "metadata": {},
     "output_type": "execute_result"
    }
   ],
   "source": [
    "# Create a one-dimensional tensor of steps equally \n",
    "# spaced points between start and end\n",
    "\n",
    "torch.linspace(3, 10, steps=5)"
   ]
  },
  {
   "cell_type": "code",
   "execution_count": 24,
   "metadata": {},
   "outputs": [
    {
     "data": {
      "text/plain": [
       "tensor([0, 1, 2, 3, 4])"
      ]
     },
     "execution_count": 24,
     "metadata": {},
     "output_type": "execute_result"
    }
   ],
   "source": [
    "# Create a 1-D Tensor with values from [start, end)\n",
    "\n",
    "torch.arange(0, 5)"
   ]
  },
  {
   "cell_type": "code",
   "execution_count": 25,
   "metadata": {},
   "outputs": [
    {
     "data": {
      "text/plain": [
       "tensor([[0.3943, 0.8647, 0.4753],\n",
       "        [0.9395, 0.2214, 0.1120]])"
      ]
     },
     "execution_count": 25,
     "metadata": {},
     "output_type": "execute_result"
    }
   ],
   "source": [
    "# Create a (2x3) Tensor with random values sampled \n",
    "# from uniform distrubution on the interval [0,1)\n",
    "\n",
    "torch.rand((2,3))"
   ]
  },
  {
   "cell_type": "code",
   "execution_count": 26,
   "metadata": {},
   "outputs": [
    {
     "data": {
      "text/plain": [
       "tensor([[ 0.1378, -0.2282,  1.7566],\n",
       "        [ 1.3100, -0.1107,  0.6469]])"
      ]
     },
     "execution_count": 26,
     "metadata": {},
     "output_type": "execute_result"
    }
   ],
   "source": [
    "# Create a (2x3) Tensor with random values sampled \n",
    "# from normal distrubution with 0 mean and variance 1\n",
    "\n",
    "torch.randn((2,3))"
   ]
  },
  {
   "cell_type": "code",
   "execution_count": 27,
   "metadata": {},
   "outputs": [
    {
     "data": {
      "text/plain": [
       "tensor([[0.4940, 0.5138],\n",
       "        [0.0164, 0.0536]])"
      ]
     },
     "execution_count": 27,
     "metadata": {},
     "output_type": "execute_result"
    }
   ],
   "source": [
    "# Do a matrix multiply\n",
    "\n",
    "a = torch.rand((2, 3))\n",
    "b = torch.rand((3, 2))\n",
    "\n",
    "torch.mm(a, b)"
   ]
  },
  {
   "cell_type": "markdown",
   "metadata": {},
   "source": [
    "### Variables\n",
    "\n",
    "Next, let's understand variables in PyTorch and the operations we can perform on them."
   ]
  },
  {
   "cell_type": "code",
   "execution_count": 28,
   "metadata": {},
   "outputs": [],
   "source": [
    "import torch\n",
    "from torch.autograd import Variable"
   ]
  },
  {
   "cell_type": "markdown",
   "metadata": {},
   "source": [
    "Let's create a small computation graph"
   ]
  },
  {
   "cell_type": "code",
   "execution_count": 35,
   "metadata": {},
   "outputs": [],
   "source": [
    "x = Variable(torch.FloatTensor([11.2]), requires_grad=True)\n",
    "y = 2 * x"
   ]
  },
  {
   "cell_type": "code",
   "execution_count": 36,
   "metadata": {},
   "outputs": [
    {
     "name": "stdout",
     "output_type": "stream",
     "text": [
      "tensor([11.2000], requires_grad=True)\n",
      "tensor([22.4000], grad_fn=<MulBackward0>)\n"
     ]
    }
   ],
   "source": [
    "print(x)\n",
    "print(y)"
   ]
  },
  {
   "cell_type": "code",
   "execution_count": 37,
   "metadata": {},
   "outputs": [
    {
     "name": "stdout",
     "output_type": "stream",
     "text": [
      "tensor([11.2000])\n",
      "tensor([22.4000])\n"
     ]
    }
   ],
   "source": [
    "print(x.data)\n",
    "print(y.data)"
   ]
  },
  {
   "cell_type": "code",
   "execution_count": 38,
   "metadata": {},
   "outputs": [
    {
     "name": "stdout",
     "output_type": "stream",
     "text": [
      "None\n",
      "<MulBackward0 object at 0x7fcf886210d0>\n"
     ]
    }
   ],
   "source": [
    "print(x.grad_fn)\n",
    "print(y.grad_fn)"
   ]
  },
  {
   "cell_type": "code",
   "execution_count": 39,
   "metadata": {},
   "outputs": [],
   "source": [
    "y.backward() # Calculates the gradients"
   ]
  },
  {
   "cell_type": "code",
   "execution_count": 40,
   "metadata": {},
   "outputs": [
    {
     "name": "stdout",
     "output_type": "stream",
     "text": [
      "tensor([2.])\n",
      "None\n"
     ]
    }
   ],
   "source": [
    "print(x.grad)\n",
    "print(y.grad)"
   ]
  },
  {
   "cell_type": "markdown",
   "metadata": {},
   "source": [
    "### Working with PyTorch and NumPy"
   ]
  },
  {
   "cell_type": "code",
   "execution_count": 41,
   "metadata": {},
   "outputs": [],
   "source": [
    "import torch\n",
    "import numpy as np"
   ]
  },
  {
   "cell_type": "markdown",
   "metadata": {},
   "source": [
    "Convert a NumPy array to Tensor"
   ]
  },
  {
   "cell_type": "code",
   "execution_count": 42,
   "metadata": {},
   "outputs": [
    {
     "name": "stdout",
     "output_type": "stream",
     "text": [
      "[2 3]\n",
      "tensor([2, 3])\n"
     ]
    }
   ],
   "source": [
    "n = np.array([2, 3])\n",
    "t = torch.from_numpy(n)\n",
    "print(n)\n",
    "print(t)"
   ]
  },
  {
   "cell_type": "markdown",
   "metadata": {},
   "source": [
    "Change a Tensor value, and see the change in \n",
    "corresponding NumPy array"
   ]
  },
  {
   "cell_type": "code",
   "execution_count": 43,
   "metadata": {},
   "outputs": [
    {
     "name": "stdout",
     "output_type": "stream",
     "text": [
      "tensor([100,   3])\n"
     ]
    }
   ],
   "source": [
    "n[0] = 100\n",
    "print(t)"
   ]
  },
  {
   "cell_type": "markdown",
   "metadata": {},
   "source": [
    "Convert a Tensor to NumPy array"
   ]
  },
  {
   "cell_type": "code",
   "execution_count": 44,
   "metadata": {},
   "outputs": [
    {
     "name": "stdout",
     "output_type": "stream",
     "text": [
      "tensor([5., 6.])\n",
      "[5. 6.]\n"
     ]
    }
   ],
   "source": [
    "t = torch.FloatTensor([5, 6])\n",
    "n = t.numpy()\n",
    "print(t)\n",
    "print(n)"
   ]
  },
  {
   "cell_type": "markdown",
   "metadata": {},
   "source": [
    "Change a Tensor value, and see the change in corresponding NumPy array"
   ]
  },
  {
   "cell_type": "code",
   "execution_count": 45,
   "metadata": {},
   "outputs": [
    {
     "name": "stdout",
     "output_type": "stream",
     "text": [
      "[100.   6.]\n"
     ]
    }
   ],
   "source": [
    "t[0] = 100\n",
    "print(n)"
   ]
  },
  {
   "cell_type": "markdown",
   "metadata": {},
   "source": [
    "### Tensors on GPU"
   ]
  },
  {
   "cell_type": "markdown",
   "metadata": {},
   "source": [
    "Check if your machine has GPU support"
   ]
  },
  {
   "cell_type": "code",
   "execution_count": 46,
   "metadata": {},
   "outputs": [
    {
     "name": "stdout",
     "output_type": "stream",
     "text": [
      "GPU Not Supported\n"
     ]
    }
   ],
   "source": [
    "if torch.cuda.is_available():\n",
    "    print(\"GPU Supported\")\n",
    "else:\n",
    "    print(\"GPU Not Supported\")"
   ]
  },
  {
   "cell_type": "markdown",
   "metadata": {},
   "source": [
    "Check the number of GPUs attached to this machine"
   ]
  },
  {
   "cell_type": "code",
   "execution_count": 47,
   "metadata": {},
   "outputs": [
    {
     "data": {
      "text/plain": [
       "0"
      ]
     },
     "execution_count": 47,
     "metadata": {},
     "output_type": "execute_result"
    }
   ],
   "source": [
    "torch.cuda.device_count()"
   ]
  },
  {
   "cell_type": "markdown",
   "metadata": {},
   "source": [
    "Get device name"
   ]
  },
  {
   "cell_type": "code",
   "execution_count": 49,
   "metadata": {},
   "outputs": [
    {
     "ename": "AssertionError",
     "evalue": "\nFound no NVIDIA driver on your system. Please check that you\nhave an NVIDIA GPU and installed a driver from\nhttp://www.nvidia.com/Download/index.aspx",
     "output_type": "error",
     "traceback": [
      "\u001b[0;31m---------------------------------------------------------------------------\u001b[0m",
      "\u001b[0;31mAssertionError\u001b[0m                            Traceback (most recent call last)",
      "\u001b[0;32m<ipython-input-49-f9c260299c38>\u001b[0m in \u001b[0;36m<module>\u001b[0;34m\u001b[0m\n\u001b[0;32m----> 1\u001b[0;31m \u001b[0mtorch\u001b[0m\u001b[0;34m.\u001b[0m\u001b[0mcuda\u001b[0m\u001b[0;34m.\u001b[0m\u001b[0mget_device_name\u001b[0m\u001b[0;34m(\u001b[0m\u001b[0;36m0\u001b[0m\u001b[0;34m)\u001b[0m\u001b[0;34m\u001b[0m\u001b[0;34m\u001b[0m\u001b[0m\n\u001b[0m",
      "\u001b[0;32m~/.local/lib/python3.8/site-packages/torch/cuda/__init__.py\u001b[0m in \u001b[0;36mget_device_name\u001b[0;34m(device)\u001b[0m\n\u001b[1;32m    255\u001b[0m             \u001b[0;32mif\u001b[0m \u001b[0;34m:\u001b[0m\u001b[0mattr\u001b[0m\u001b[0;34m:\u001b[0m\u001b[0;31m`\u001b[0m\u001b[0mdevice\u001b[0m\u001b[0;31m`\u001b[0m \u001b[0;32mis\u001b[0m\u001b[0;31m \u001b[0m\u001b[0;31m`\u001b[0m\u001b[0;31m`\u001b[0m\u001b[0;32mNone\u001b[0m\u001b[0;31m`\u001b[0m\u001b[0;31m`\u001b[0m \u001b[0;34m(\u001b[0m\u001b[0mdefault\u001b[0m\u001b[0;34m)\u001b[0m\u001b[0;34m.\u001b[0m\u001b[0;34m\u001b[0m\u001b[0;34m\u001b[0m\u001b[0m\n\u001b[1;32m    256\u001b[0m     \"\"\"\n\u001b[0;32m--> 257\u001b[0;31m     \u001b[0;32mreturn\u001b[0m \u001b[0mget_device_properties\u001b[0m\u001b[0;34m(\u001b[0m\u001b[0mdevice\u001b[0m\u001b[0;34m)\u001b[0m\u001b[0;34m.\u001b[0m\u001b[0mname\u001b[0m\u001b[0;34m\u001b[0m\u001b[0;34m\u001b[0m\u001b[0m\n\u001b[0m\u001b[1;32m    258\u001b[0m \u001b[0;34m\u001b[0m\u001b[0m\n\u001b[1;32m    259\u001b[0m \u001b[0;34m\u001b[0m\u001b[0m\n",
      "\u001b[0;32m~/.local/lib/python3.8/site-packages/torch/cuda/__init__.py\u001b[0m in \u001b[0;36mget_device_properties\u001b[0;34m(device)\u001b[0m\n\u001b[1;32m    276\u001b[0m \u001b[0;34m\u001b[0m\u001b[0m\n\u001b[1;32m    277\u001b[0m \u001b[0;32mdef\u001b[0m \u001b[0mget_device_properties\u001b[0m\u001b[0;34m(\u001b[0m\u001b[0mdevice\u001b[0m\u001b[0;34m)\u001b[0m\u001b[0;34m:\u001b[0m\u001b[0;34m\u001b[0m\u001b[0;34m\u001b[0m\u001b[0m\n\u001b[0;32m--> 278\u001b[0;31m     \u001b[0m_lazy_init\u001b[0m\u001b[0;34m(\u001b[0m\u001b[0;34m)\u001b[0m  \u001b[0;31m# will define _get_device_properties and _CudaDeviceProperties\u001b[0m\u001b[0;34m\u001b[0m\u001b[0;34m\u001b[0m\u001b[0m\n\u001b[0m\u001b[1;32m    279\u001b[0m     \u001b[0mdevice\u001b[0m \u001b[0;34m=\u001b[0m \u001b[0m_get_device_index\u001b[0m\u001b[0;34m(\u001b[0m\u001b[0mdevice\u001b[0m\u001b[0;34m,\u001b[0m \u001b[0moptional\u001b[0m\u001b[0;34m=\u001b[0m\u001b[0;32mTrue\u001b[0m\u001b[0;34m)\u001b[0m\u001b[0;34m\u001b[0m\u001b[0;34m\u001b[0m\u001b[0m\n\u001b[1;32m    280\u001b[0m     \u001b[0;32mif\u001b[0m \u001b[0mdevice\u001b[0m \u001b[0;34m<\u001b[0m \u001b[0;36m0\u001b[0m \u001b[0;32mor\u001b[0m \u001b[0mdevice\u001b[0m \u001b[0;34m>=\u001b[0m \u001b[0mdevice_count\u001b[0m\u001b[0;34m(\u001b[0m\u001b[0;34m)\u001b[0m\u001b[0;34m:\u001b[0m\u001b[0;34m\u001b[0m\u001b[0;34m\u001b[0m\u001b[0m\n",
      "\u001b[0;32m~/.local/lib/python3.8/site-packages/torch/cuda/__init__.py\u001b[0m in \u001b[0;36m_lazy_init\u001b[0;34m()\u001b[0m\n\u001b[1;32m    147\u001b[0m             raise RuntimeError(\n\u001b[1;32m    148\u001b[0m                 \"Cannot re-initialize CUDA in forked subprocess. \" + msg)\n\u001b[0;32m--> 149\u001b[0;31m         \u001b[0m_check_driver\u001b[0m\u001b[0;34m(\u001b[0m\u001b[0;34m)\u001b[0m\u001b[0;34m\u001b[0m\u001b[0;34m\u001b[0m\u001b[0m\n\u001b[0m\u001b[1;32m    150\u001b[0m         \u001b[0;32mif\u001b[0m \u001b[0m_cudart\u001b[0m \u001b[0;32mis\u001b[0m \u001b[0;32mNone\u001b[0m\u001b[0;34m:\u001b[0m\u001b[0;34m\u001b[0m\u001b[0;34m\u001b[0m\u001b[0m\n\u001b[1;32m    151\u001b[0m             raise AssertionError(\n",
      "\u001b[0;32m~/.local/lib/python3.8/site-packages/torch/cuda/__init__.py\u001b[0m in \u001b[0;36m_check_driver\u001b[0;34m()\u001b[0m\n\u001b[1;32m     49\u001b[0m         \u001b[0;32mif\u001b[0m \u001b[0mtorch\u001b[0m\u001b[0;34m.\u001b[0m\u001b[0m_C\u001b[0m\u001b[0;34m.\u001b[0m\u001b[0m_cuda_getDriverVersion\u001b[0m\u001b[0;34m(\u001b[0m\u001b[0;34m)\u001b[0m \u001b[0;34m==\u001b[0m \u001b[0;36m0\u001b[0m\u001b[0;34m:\u001b[0m\u001b[0;34m\u001b[0m\u001b[0;34m\u001b[0m\u001b[0m\n\u001b[1;32m     50\u001b[0m             \u001b[0;31m# found no NVIDIA driver on the system\u001b[0m\u001b[0;34m\u001b[0m\u001b[0;34m\u001b[0m\u001b[0;34m\u001b[0m\u001b[0m\n\u001b[0;32m---> 51\u001b[0;31m             raise AssertionError(\"\"\"\n\u001b[0m\u001b[1;32m     52\u001b[0m \u001b[0mFound\u001b[0m \u001b[0mno\u001b[0m \u001b[0mNVIDIA\u001b[0m \u001b[0mdriver\u001b[0m \u001b[0mon\u001b[0m \u001b[0myour\u001b[0m \u001b[0msystem\u001b[0m\u001b[0;34m.\u001b[0m \u001b[0mPlease\u001b[0m \u001b[0mcheck\u001b[0m \u001b[0mthat\u001b[0m \u001b[0myou\u001b[0m\u001b[0;34m\u001b[0m\u001b[0;34m\u001b[0m\u001b[0m\n\u001b[1;32m     53\u001b[0m \u001b[0mhave\u001b[0m \u001b[0man\u001b[0m \u001b[0mNVIDIA\u001b[0m \u001b[0mGPU\u001b[0m \u001b[0;32mand\u001b[0m \u001b[0minstalled\u001b[0m \u001b[0ma\u001b[0m \u001b[0mdriver\u001b[0m \u001b[0;32mfrom\u001b[0m\u001b[0;34m\u001b[0m\u001b[0;34m\u001b[0m\u001b[0m\n",
      "\u001b[0;31mAssertionError\u001b[0m: \nFound no NVIDIA driver on your system. Please check that you\nhave an NVIDIA GPU and installed a driver from\nhttp://www.nvidia.com/Download/index.aspx"
     ]
    }
   ],
   "source": [
    "torch.cuda.get_device_name(0)"
   ]
  },
  {
   "cell_type": "markdown",
   "metadata": {},
   "source": [
    "Moving a Tensor to GPU"
   ]
  },
  {
   "cell_type": "code",
   "execution_count": 50,
   "metadata": {},
   "outputs": [],
   "source": [
    "t = torch.FloatTensor([2, 3])"
   ]
  },
  {
   "cell_type": "code",
   "execution_count": 51,
   "metadata": {},
   "outputs": [
    {
     "name": "stdout",
     "output_type": "stream",
     "text": [
      "tensor([2., 3.])\n"
     ]
    }
   ],
   "source": [
    "print(t)"
   ]
  },
  {
   "cell_type": "code",
   "execution_count": 52,
   "metadata": {},
   "outputs": [
    {
     "ename": "AssertionError",
     "evalue": "\nFound no NVIDIA driver on your system. Please check that you\nhave an NVIDIA GPU and installed a driver from\nhttp://www.nvidia.com/Download/index.aspx",
     "output_type": "error",
     "traceback": [
      "\u001b[0;31m---------------------------------------------------------------------------\u001b[0m",
      "\u001b[0;31mAssertionError\u001b[0m                            Traceback (most recent call last)",
      "\u001b[0;32m<ipython-input-52-f5dbc41007bf>\u001b[0m in \u001b[0;36m<module>\u001b[0;34m\u001b[0m\n\u001b[0;32m----> 1\u001b[0;31m \u001b[0mt\u001b[0m \u001b[0;34m=\u001b[0m \u001b[0mt\u001b[0m\u001b[0;34m.\u001b[0m\u001b[0mcuda\u001b[0m\u001b[0;34m(\u001b[0m\u001b[0;36m0\u001b[0m\u001b[0;34m)\u001b[0m\u001b[0;34m\u001b[0m\u001b[0;34m\u001b[0m\u001b[0m\n\u001b[0m",
      "\u001b[0;32m~/.local/lib/python3.8/site-packages/torch/cuda/__init__.py\u001b[0m in \u001b[0;36m_lazy_init\u001b[0;34m()\u001b[0m\n\u001b[1;32m    147\u001b[0m             raise RuntimeError(\n\u001b[1;32m    148\u001b[0m                 \"Cannot re-initialize CUDA in forked subprocess. \" + msg)\n\u001b[0;32m--> 149\u001b[0;31m         \u001b[0m_check_driver\u001b[0m\u001b[0;34m(\u001b[0m\u001b[0;34m)\u001b[0m\u001b[0;34m\u001b[0m\u001b[0;34m\u001b[0m\u001b[0m\n\u001b[0m\u001b[1;32m    150\u001b[0m         \u001b[0;32mif\u001b[0m \u001b[0m_cudart\u001b[0m \u001b[0;32mis\u001b[0m \u001b[0;32mNone\u001b[0m\u001b[0;34m:\u001b[0m\u001b[0;34m\u001b[0m\u001b[0;34m\u001b[0m\u001b[0m\n\u001b[1;32m    151\u001b[0m             raise AssertionError(\n",
      "\u001b[0;32m~/.local/lib/python3.8/site-packages/torch/cuda/__init__.py\u001b[0m in \u001b[0;36m_check_driver\u001b[0;34m()\u001b[0m\n\u001b[1;32m     49\u001b[0m         \u001b[0;32mif\u001b[0m \u001b[0mtorch\u001b[0m\u001b[0;34m.\u001b[0m\u001b[0m_C\u001b[0m\u001b[0;34m.\u001b[0m\u001b[0m_cuda_getDriverVersion\u001b[0m\u001b[0;34m(\u001b[0m\u001b[0;34m)\u001b[0m \u001b[0;34m==\u001b[0m \u001b[0;36m0\u001b[0m\u001b[0;34m:\u001b[0m\u001b[0;34m\u001b[0m\u001b[0;34m\u001b[0m\u001b[0m\n\u001b[1;32m     50\u001b[0m             \u001b[0;31m# found no NVIDIA driver on the system\u001b[0m\u001b[0;34m\u001b[0m\u001b[0;34m\u001b[0m\u001b[0;34m\u001b[0m\u001b[0m\n\u001b[0;32m---> 51\u001b[0;31m             raise AssertionError(\"\"\"\n\u001b[0m\u001b[1;32m     52\u001b[0m \u001b[0mFound\u001b[0m \u001b[0mno\u001b[0m \u001b[0mNVIDIA\u001b[0m \u001b[0mdriver\u001b[0m \u001b[0mon\u001b[0m \u001b[0myour\u001b[0m \u001b[0msystem\u001b[0m\u001b[0;34m.\u001b[0m \u001b[0mPlease\u001b[0m \u001b[0mcheck\u001b[0m \u001b[0mthat\u001b[0m \u001b[0myou\u001b[0m\u001b[0;34m\u001b[0m\u001b[0;34m\u001b[0m\u001b[0m\n\u001b[1;32m     53\u001b[0m \u001b[0mhave\u001b[0m \u001b[0man\u001b[0m \u001b[0mNVIDIA\u001b[0m \u001b[0mGPU\u001b[0m \u001b[0;32mand\u001b[0m \u001b[0minstalled\u001b[0m \u001b[0ma\u001b[0m \u001b[0mdriver\u001b[0m \u001b[0;32mfrom\u001b[0m\u001b[0;34m\u001b[0m\u001b[0;34m\u001b[0m\u001b[0m\n",
      "\u001b[0;31mAssertionError\u001b[0m: \nFound no NVIDIA driver on your system. Please check that you\nhave an NVIDIA GPU and installed a driver from\nhttp://www.nvidia.com/Download/index.aspx"
     ]
    }
   ],
   "source": [
    "t = t.cuda(0)"
   ]
  },
  {
   "cell_type": "markdown",
   "metadata": {},
   "source": [
    "Creating a Tensor on GPU, directly"
   ]
  },
  {
   "cell_type": "code",
   "execution_count": 53,
   "metadata": {},
   "outputs": [
    {
     "ename": "AssertionError",
     "evalue": "\nFound no NVIDIA driver on your system. Please check that you\nhave an NVIDIA GPU and installed a driver from\nhttp://www.nvidia.com/Download/index.aspx",
     "output_type": "error",
     "traceback": [
      "\u001b[0;31m---------------------------------------------------------------------------\u001b[0m",
      "\u001b[0;31mAssertionError\u001b[0m                            Traceback (most recent call last)",
      "\u001b[0;32m<ipython-input-53-9fd38739488f>\u001b[0m in \u001b[0;36m<module>\u001b[0;34m\u001b[0m\n\u001b[0;32m----> 1\u001b[0;31m \u001b[0mt\u001b[0m \u001b[0;34m=\u001b[0m \u001b[0mtorch\u001b[0m\u001b[0;34m.\u001b[0m\u001b[0mcuda\u001b[0m\u001b[0;34m.\u001b[0m\u001b[0mFloatTensor\u001b[0m\u001b[0;34m(\u001b[0m\u001b[0;34m[\u001b[0m\u001b[0;36m2\u001b[0m\u001b[0;34m,\u001b[0m \u001b[0;36m3\u001b[0m\u001b[0;34m]\u001b[0m\u001b[0;34m)\u001b[0m\u001b[0;34m\u001b[0m\u001b[0;34m\u001b[0m\u001b[0m\n\u001b[0m\u001b[1;32m      2\u001b[0m \u001b[0mprint\u001b[0m\u001b[0;34m(\u001b[0m\u001b[0mt\u001b[0m\u001b[0;34m)\u001b[0m\u001b[0;34m\u001b[0m\u001b[0;34m\u001b[0m\u001b[0m\n",
      "\u001b[0;32m~/.local/lib/python3.8/site-packages/torch/cuda/__init__.py\u001b[0m in \u001b[0;36m_lazy_init\u001b[0;34m()\u001b[0m\n\u001b[1;32m    147\u001b[0m             raise RuntimeError(\n\u001b[1;32m    148\u001b[0m                 \"Cannot re-initialize CUDA in forked subprocess. \" + msg)\n\u001b[0;32m--> 149\u001b[0;31m         \u001b[0m_check_driver\u001b[0m\u001b[0;34m(\u001b[0m\u001b[0;34m)\u001b[0m\u001b[0;34m\u001b[0m\u001b[0;34m\u001b[0m\u001b[0m\n\u001b[0m\u001b[1;32m    150\u001b[0m         \u001b[0;32mif\u001b[0m \u001b[0m_cudart\u001b[0m \u001b[0;32mis\u001b[0m \u001b[0;32mNone\u001b[0m\u001b[0;34m:\u001b[0m\u001b[0;34m\u001b[0m\u001b[0;34m\u001b[0m\u001b[0m\n\u001b[1;32m    151\u001b[0m             raise AssertionError(\n",
      "\u001b[0;32m~/.local/lib/python3.8/site-packages/torch/cuda/__init__.py\u001b[0m in \u001b[0;36m_check_driver\u001b[0;34m()\u001b[0m\n\u001b[1;32m     49\u001b[0m         \u001b[0;32mif\u001b[0m \u001b[0mtorch\u001b[0m\u001b[0;34m.\u001b[0m\u001b[0m_C\u001b[0m\u001b[0;34m.\u001b[0m\u001b[0m_cuda_getDriverVersion\u001b[0m\u001b[0;34m(\u001b[0m\u001b[0;34m)\u001b[0m \u001b[0;34m==\u001b[0m \u001b[0;36m0\u001b[0m\u001b[0;34m:\u001b[0m\u001b[0;34m\u001b[0m\u001b[0;34m\u001b[0m\u001b[0m\n\u001b[1;32m     50\u001b[0m             \u001b[0;31m# found no NVIDIA driver on the system\u001b[0m\u001b[0;34m\u001b[0m\u001b[0;34m\u001b[0m\u001b[0;34m\u001b[0m\u001b[0m\n\u001b[0;32m---> 51\u001b[0;31m             raise AssertionError(\"\"\"\n\u001b[0m\u001b[1;32m     52\u001b[0m \u001b[0mFound\u001b[0m \u001b[0mno\u001b[0m \u001b[0mNVIDIA\u001b[0m \u001b[0mdriver\u001b[0m \u001b[0mon\u001b[0m \u001b[0myour\u001b[0m \u001b[0msystem\u001b[0m\u001b[0;34m.\u001b[0m \u001b[0mPlease\u001b[0m \u001b[0mcheck\u001b[0m \u001b[0mthat\u001b[0m \u001b[0myou\u001b[0m\u001b[0;34m\u001b[0m\u001b[0;34m\u001b[0m\u001b[0m\n\u001b[1;32m     53\u001b[0m \u001b[0mhave\u001b[0m \u001b[0man\u001b[0m \u001b[0mNVIDIA\u001b[0m \u001b[0mGPU\u001b[0m \u001b[0;32mand\u001b[0m \u001b[0minstalled\u001b[0m \u001b[0ma\u001b[0m \u001b[0mdriver\u001b[0m \u001b[0;32mfrom\u001b[0m\u001b[0;34m\u001b[0m\u001b[0;34m\u001b[0m\u001b[0m\n",
      "\u001b[0;31mAssertionError\u001b[0m: \nFound no NVIDIA driver on your system. Please check that you\nhave an NVIDIA GPU and installed a driver from\nhttp://www.nvidia.com/Download/index.aspx"
     ]
    }
   ],
   "source": [
    "t = torch.cuda.FloatTensor([2, 3])\n",
    "print(t)"
   ]
  },
  {
   "cell_type": "markdown",
   "metadata": {},
   "source": [
    "Bring it back to CPU"
   ]
  },
  {
   "cell_type": "code",
   "execution_count": 54,
   "metadata": {},
   "outputs": [
    {
     "name": "stdout",
     "output_type": "stream",
     "text": [
      "tensor([2., 3.])\n"
     ]
    }
   ],
   "source": [
    "t = t.cpu()\n",
    "print(t)"
   ]
  },
  {
   "cell_type": "markdown",
   "metadata": {},
   "source": [
    "Use device context"
   ]
  },
  {
   "cell_type": "code",
   "execution_count": 55,
   "metadata": {},
   "outputs": [
    {
     "ename": "AssertionError",
     "evalue": "\nFound no NVIDIA driver on your system. Please check that you\nhave an NVIDIA GPU and installed a driver from\nhttp://www.nvidia.com/Download/index.aspx",
     "output_type": "error",
     "traceback": [
      "\u001b[0;31m---------------------------------------------------------------------------\u001b[0m",
      "\u001b[0;31mAssertionError\u001b[0m                            Traceback (most recent call last)",
      "\u001b[0;32m<ipython-input-55-1c98cbfd53fa>\u001b[0m in \u001b[0;36m<module>\u001b[0;34m\u001b[0m\n\u001b[0;32m----> 1\u001b[0;31m \u001b[0;32mwith\u001b[0m \u001b[0mtorch\u001b[0m\u001b[0;34m.\u001b[0m\u001b[0mcuda\u001b[0m\u001b[0;34m.\u001b[0m\u001b[0mdevice\u001b[0m\u001b[0;34m(\u001b[0m\u001b[0;36m0\u001b[0m\u001b[0;34m)\u001b[0m\u001b[0;34m:\u001b[0m\u001b[0;34m\u001b[0m\u001b[0;34m\u001b[0m\u001b[0m\n\u001b[0m\u001b[1;32m      2\u001b[0m     \u001b[0mt\u001b[0m \u001b[0;34m=\u001b[0m \u001b[0mtorch\u001b[0m\u001b[0;34m.\u001b[0m\u001b[0mcuda\u001b[0m\u001b[0;34m.\u001b[0m\u001b[0mFloatTensor\u001b[0m\u001b[0;34m(\u001b[0m\u001b[0;34m[\u001b[0m\u001b[0;36m2\u001b[0m\u001b[0;34m,\u001b[0m \u001b[0;36m3\u001b[0m\u001b[0;34m]\u001b[0m\u001b[0;34m)\u001b[0m\u001b[0;34m\u001b[0m\u001b[0;34m\u001b[0m\u001b[0m\n\u001b[1;32m      3\u001b[0m     \u001b[0mprint\u001b[0m\u001b[0;34m(\u001b[0m\u001b[0mt\u001b[0m\u001b[0;34m)\u001b[0m\u001b[0;34m\u001b[0m\u001b[0;34m\u001b[0m\u001b[0m\n",
      "\u001b[0;32m~/.local/lib/python3.8/site-packages/torch/cuda/__init__.py\u001b[0m in \u001b[0;36m__enter__\u001b[0;34m(self)\u001b[0m\n\u001b[1;32m    205\u001b[0m         \u001b[0;32mif\u001b[0m \u001b[0mself\u001b[0m\u001b[0;34m.\u001b[0m\u001b[0midx\u001b[0m \u001b[0;34m==\u001b[0m \u001b[0;34m-\u001b[0m\u001b[0;36m1\u001b[0m\u001b[0;34m:\u001b[0m\u001b[0;34m\u001b[0m\u001b[0;34m\u001b[0m\u001b[0m\n\u001b[1;32m    206\u001b[0m             \u001b[0;32mreturn\u001b[0m\u001b[0;34m\u001b[0m\u001b[0;34m\u001b[0m\u001b[0m\n\u001b[0;32m--> 207\u001b[0;31m         \u001b[0mself\u001b[0m\u001b[0;34m.\u001b[0m\u001b[0mprev_idx\u001b[0m \u001b[0;34m=\u001b[0m \u001b[0mtorch\u001b[0m\u001b[0;34m.\u001b[0m\u001b[0m_C\u001b[0m\u001b[0;34m.\u001b[0m\u001b[0m_cuda_getDevice\u001b[0m\u001b[0;34m(\u001b[0m\u001b[0;34m)\u001b[0m\u001b[0;34m\u001b[0m\u001b[0;34m\u001b[0m\u001b[0m\n\u001b[0m\u001b[1;32m    208\u001b[0m         \u001b[0;32mif\u001b[0m \u001b[0mself\u001b[0m\u001b[0;34m.\u001b[0m\u001b[0mprev_idx\u001b[0m \u001b[0;34m!=\u001b[0m \u001b[0mself\u001b[0m\u001b[0;34m.\u001b[0m\u001b[0midx\u001b[0m\u001b[0;34m:\u001b[0m\u001b[0;34m\u001b[0m\u001b[0;34m\u001b[0m\u001b[0m\n\u001b[1;32m    209\u001b[0m             \u001b[0mtorch\u001b[0m\u001b[0;34m.\u001b[0m\u001b[0m_C\u001b[0m\u001b[0;34m.\u001b[0m\u001b[0m_cuda_setDevice\u001b[0m\u001b[0;34m(\u001b[0m\u001b[0mself\u001b[0m\u001b[0;34m.\u001b[0m\u001b[0midx\u001b[0m\u001b[0;34m)\u001b[0m\u001b[0;34m\u001b[0m\u001b[0;34m\u001b[0m\u001b[0m\n",
      "\u001b[0;32m~/.local/lib/python3.8/site-packages/torch/cuda/__init__.py\u001b[0m in \u001b[0;36m_lazy_init\u001b[0;34m()\u001b[0m\n\u001b[1;32m    147\u001b[0m             raise RuntimeError(\n\u001b[1;32m    148\u001b[0m                 \"Cannot re-initialize CUDA in forked subprocess. \" + msg)\n\u001b[0;32m--> 149\u001b[0;31m         \u001b[0m_check_driver\u001b[0m\u001b[0;34m(\u001b[0m\u001b[0;34m)\u001b[0m\u001b[0;34m\u001b[0m\u001b[0;34m\u001b[0m\u001b[0m\n\u001b[0m\u001b[1;32m    150\u001b[0m         \u001b[0;32mif\u001b[0m \u001b[0m_cudart\u001b[0m \u001b[0;32mis\u001b[0m \u001b[0;32mNone\u001b[0m\u001b[0;34m:\u001b[0m\u001b[0;34m\u001b[0m\u001b[0;34m\u001b[0m\u001b[0m\n\u001b[1;32m    151\u001b[0m             raise AssertionError(\n",
      "\u001b[0;32m~/.local/lib/python3.8/site-packages/torch/cuda/__init__.py\u001b[0m in \u001b[0;36m_check_driver\u001b[0;34m()\u001b[0m\n\u001b[1;32m     49\u001b[0m         \u001b[0;32mif\u001b[0m \u001b[0mtorch\u001b[0m\u001b[0;34m.\u001b[0m\u001b[0m_C\u001b[0m\u001b[0;34m.\u001b[0m\u001b[0m_cuda_getDriverVersion\u001b[0m\u001b[0;34m(\u001b[0m\u001b[0;34m)\u001b[0m \u001b[0;34m==\u001b[0m \u001b[0;36m0\u001b[0m\u001b[0;34m:\u001b[0m\u001b[0;34m\u001b[0m\u001b[0;34m\u001b[0m\u001b[0m\n\u001b[1;32m     50\u001b[0m             \u001b[0;31m# found no NVIDIA driver on the system\u001b[0m\u001b[0;34m\u001b[0m\u001b[0;34m\u001b[0m\u001b[0;34m\u001b[0m\u001b[0m\n\u001b[0;32m---> 51\u001b[0;31m             raise AssertionError(\"\"\"\n\u001b[0m\u001b[1;32m     52\u001b[0m \u001b[0mFound\u001b[0m \u001b[0mno\u001b[0m \u001b[0mNVIDIA\u001b[0m \u001b[0mdriver\u001b[0m \u001b[0mon\u001b[0m \u001b[0myour\u001b[0m \u001b[0msystem\u001b[0m\u001b[0;34m.\u001b[0m \u001b[0mPlease\u001b[0m \u001b[0mcheck\u001b[0m \u001b[0mthat\u001b[0m \u001b[0myou\u001b[0m\u001b[0;34m\u001b[0m\u001b[0;34m\u001b[0m\u001b[0m\n\u001b[1;32m     53\u001b[0m \u001b[0mhave\u001b[0m \u001b[0man\u001b[0m \u001b[0mNVIDIA\u001b[0m \u001b[0mGPU\u001b[0m \u001b[0;32mand\u001b[0m \u001b[0minstalled\u001b[0m \u001b[0ma\u001b[0m \u001b[0mdriver\u001b[0m \u001b[0;32mfrom\u001b[0m\u001b[0;34m\u001b[0m\u001b[0;34m\u001b[0m\u001b[0m\n",
      "\u001b[0;31mAssertionError\u001b[0m: \nFound no NVIDIA driver on your system. Please check that you\nhave an NVIDIA GPU and installed a driver from\nhttp://www.nvidia.com/Download/index.aspx"
     ]
    }
   ],
   "source": [
    "with torch.cuda.device(0):\n",
    "    t = torch.cuda.FloatTensor([2, 3])\n",
    "    print(t)"
   ]
  },
  {
   "cell_type": "code",
   "execution_count": null,
   "metadata": {},
   "outputs": [],
   "source": []
  },
  {
   "cell_type": "markdown",
   "metadata": {
    "_cell_guid": "ff5c0b1b-7df0-49e9-ac50-ffcb7c7ce68b",
    "_uuid": "d32496f0fda13237f626529660ef77ca6812abfe"
   },
   "source": [
    "\n",
    "## MNIST digit recognition using PyTorch\n",
    "\n",
    "This part of the lab was\n",
    "taken from the [Kaggle tutorial on MNIST with PyTorch]('https://www.kaggle.com/justuser/mnist-with-pytorch-fully-connected-network).\n",
    "\n",
    "We will use a fully connected neural network and a batch learning algorithm and explain each\n",
    "step along the way.\n",
    "\n",
    "So, with that being said, let's start with imports that we will need.\n",
    "First of all, we need to import PyTorch. There are some common names for torch modules (like numpy is always named np):  torch.nn.functional is imported as F,  torch.nn is the core module, and is simply imported as nn.\n",
    "Also, we need numpy. We also use pyplot and seaborn for visualization, but they are not required for the network itself. \n",
    "And finally, we use pandas for importing and transforming data.\n"
   ]
  },
  {
   "cell_type": "code",
   "execution_count": 2,
   "metadata": {
    "_cell_guid": "9c846800-05b5-40e4-9899-e3c5e6a149ba",
    "_uuid": "2945bec027bb7b48141bc406ccb6ecb19d240aaf"
   },
   "outputs": [],
   "source": [
    "import numpy as np\n",
    "import torch\n",
    "import torch.nn as nn\n",
    "import torch.nn.functional as F\n",
    "import torch.optim as optim\n",
    "from torch.autograd import Variable\n",
    "import pandas as pd\n",
    "import matplotlib.pyplot as plt\n",
    "import seaborn as sns\n",
    "%matplotlib inline\n",
    "import warnings\n",
    "warnings.filterwarnings(\"ignore\")"
   ]
  },
  {
   "cell_type": "markdown",
   "metadata": {
    "_cell_guid": "7ef86f98-c394-4595-8675-e2539ea2332d",
    "_uuid": "dc797b7df7d886a974e0fd36a7e30da01159875b"
   },
   "source": [
    "Now we can import and transform the data. I decided to split it into input and labels right away at this step:"
   ]
  },
  {
   "cell_type": "code",
   "execution_count": 4,
   "metadata": {
    "_cell_guid": "6d14bbd6-47d0-4b67-b3d4-d2cf21d46aab",
    "_uuid": "1bf6c2fde0bb1799d2c551cdeda74bb2a5e02bca"
   },
   "outputs": [
    {
     "name": "stdout",
     "output_type": "stream",
     "text": [
      "Reading the data...\n",
      "Reshaping the data...\n",
      "Data is ready\n"
     ]
    }
   ],
   "source": [
    "print(\"Reading the data...\")\n",
    "data = pd.read_csv('train_mnist.csv', sep=\",\")\n",
    "test_data = pd.read_csv('test_mnist.csv', sep=\",\")\n",
    "\n",
    "print(\"Reshaping the data...\")\n",
    "dataFinal = data.drop('label', axis=1)\n",
    "labels = data['label']\n",
    "\n",
    "\n",
    "dataNp = dataFinal.to_numpy()\n",
    "labelsNp = labels.to_numpy()\n",
    "test_dataNp = test_data.to_numpy()\n",
    "\n",
    "print(\"Data is ready\")"
   ]
  },
  {
   "cell_type": "markdown",
   "metadata": {
    "_cell_guid": "728ef5da-7b0f-4a32-9a0e-10d75e10173e",
    "_uuid": "d8441dfce526382bc0c9a0658add9df793f06ed1"
   },
   "source": [
    "Now that data is ready, we can take a look at what we're dealing with. I will be using heatmaps from seaborn, which is an excellent tool for matrix visualization. But first, since the images in the MNIST dataset are represented as a long 1d arrays of pixels, we will need to reshape it into 2d array. That's where .reshape() from numpy comes in handy. The pictures are 28 x 28 pixels, so these will be the parameters.\n",
    "\n",
    "Let's select a couple random samples and visualize them. I will also print their labels, so we can compare images with their actual value:"
   ]
  },
  {
   "cell_type": "code",
   "execution_count": 5,
   "metadata": {
    "_cell_guid": "54405d05-313e-48b9-8984-14337df18c7d",
    "_uuid": "7c796bf8cece8a8fef7ab459c0e7624159f2f1e2"
   },
   "outputs": [
    {
     "name": "stdout",
     "output_type": "stream",
     "text": [
      "8  /  9\n",
      "8  /  4\n",
      "9  /  1\n"
     ]
    },
    {
     "data": {
      "image/png": "[encoded data removed]",
      "text/plain": [
       "<Figure size 1008x864 with 12 Axes>"
      ]
     },
     "metadata": {
      "needs_background": "light"
     },
     "output_type": "display_data"
    }
   ],
   "source": [
    "plt.figure(figsize=(14, 12))\n",
    "\n",
    "pixels = dataNp[10].reshape(28, 28)\n",
    "plt.subplot(321)\n",
    "sns.heatmap(data=pixels)\n",
    "\n",
    "pixels = dataNp[11].reshape(28, 28)\n",
    "plt.subplot(322)\n",
    "sns.heatmap(data=pixels)\n",
    "\n",
    "pixels = dataNp[20].reshape(28, 28)\n",
    "plt.subplot(323)\n",
    "sns.heatmap(data=pixels)\n",
    "\n",
    "pixels = dataNp[32].reshape(28, 28)\n",
    "plt.subplot(324)\n",
    "sns.heatmap(data=pixels)\n",
    "\n",
    "pixels = dataNp[40].reshape(28, 28)\n",
    "plt.subplot(325)\n",
    "sns.heatmap(data=pixels)\n",
    "\n",
    "pixels = dataNp[52].reshape(28, 28)\n",
    "plt.subplot(326)\n",
    "sns.heatmap(data=pixels)\n",
    "\n",
    "print(labels[10], \" / \", labels[11])\n",
    "print(labels[20], \" / \", labels[32])\n",
    "print(labels[40], \" / \", labels[52])"
   ]
  },
  {
   "cell_type": "markdown",
   "metadata": {
    "_cell_guid": "b7a5f805-f8dd-4288-b44d-8984f479ae7f",
    "_uuid": "147ebd083edc2cf96c8e0aefb3893dc971fc5f0b"
   },
   "source": [
    "PyTorch has it's own way to store data - those are called tensors, and they are just like numpy arrays, but are suited for PyTorch needs. If we want to feed the data to the network, we need to transform the dataset into those tensors. The good news is that PyTorch can easily do that by transforming numpy arrays or regular lists into tensors."
   ]
  },
  {
   "cell_type": "code",
   "execution_count": 6,
   "metadata": {
    "_cell_guid": "410167b2-846d-4363-831b-84349053ecfd",
    "_uuid": "af8849f388dd69082bdcf52ea48547eb0ea1a483"
   },
   "outputs": [],
   "source": [
    "x = torch.FloatTensor(dataNp.tolist())\n",
    "y = torch.LongTensor(labelsNp.tolist())"
   ]
  },
  {
   "cell_type": "markdown",
   "metadata": {
    "_cell_guid": "4131196e-07e4-49a5-8380-f0fcfccba081",
    "_uuid": "fcd60bddacdb2146d7d3fa272eb3dc766d8314fe"
   },
   "source": [
    "Before we start writing the actual network, we need to determine what will be the hyperparameters. Those will not be adjusted during training, so we need to be careful how we set them up. \n",
    "\n",
    "Here's what we will specify:\n",
    "* **input_size** - size of the input layer, it is always fixed (784 pixels)\n",
    "* **output_size** - size of the output layer, also fixed size (10 for every possible digit)\n",
    "* **hidden_size** - size of the hidden layer, this parameter determines structure of the network. 200 worked for me, but it is worth to play with this parameter to see what works for you\n",
    "* **epochs** - how many times will the network go through the entire dataset during training. \n",
    "* **learning_rate** - determines how fast will the network learn. You should be very careful about this parameter, because if it is too high, the network won't learn at all, if it is too low, the net will learn too long. I's always about balance. Usualy 10^-3 - 10^-5 works just fine.\n",
    "* **batch_size** - size of mini batches during training"
   ]
  },
  {
   "cell_type": "code",
   "execution_count": 7,
   "metadata": {
    "_cell_guid": "80dd6a9a-c28f-4a16-b8fe-6c2c4986422c",
    "_uuid": "fdc55b6ed97d0d641046f977cb7a578ad80fbc57"
   },
   "outputs": [],
   "source": [
    "# hyperparameters\n",
    "input_size = 784\n",
    "output_size = 10\n",
    "hidden_size = 200\n",
    "\n",
    "epochs = 20\n",
    "batch_size = 50\n",
    "learning_rate = 0.00005"
   ]
  },
  {
   "cell_type": "markdown",
   "metadata": {
    "_cell_guid": "4d2b9f6c-8fb0-4468-b7ce-88cb3d28fcef",
    "_uuid": "507d4fb6939a3a9093ff3eabf1dd841ba5880b97"
   },
   "source": [
    "Now we can finally write the actual network. To make it all work, the Network class needs to inherit the *nn.Module*, which gives it the basic functionality required, and allows PyTorch to work with it as expected. \n",
    "\n",
    "When writing a PyTorch neural network, some things must always be there:\n",
    "* \\__init\\__(self) - initializes the net and creates an instance of that *nn.Module*. Here we define the structure of the network.\n",
    "* forward(self, x) - defines forward propagation and how the data flow through the network. Of course, it is based on the structure that is defined in the previous function.\n",
    "\n",
    "In the initialization, first of all, we need to initialize super (or base) module that the net inherits. After that first line, is the definition of structure. You can experiment with (put more layers or change hidden layer size, etc.), but this structure worked for me just fine.\n",
    "\n",
    "In forward propagation we simply reassign the value of x as it flows through the layers and return the [softmax](https://en.wikipedia.org/wiki/Softmax_function) at the end."
   ]
  },
  {
   "cell_type": "code",
   "execution_count": 8,
   "metadata": {
    "_cell_guid": "f238d14f-05bb-4a49-b031-5eaa47bddc64",
    "_uuid": "dc77322a324a27ef7a7f30b0432bfd0d3da3e567"
   },
   "outputs": [],
   "source": [
    "class Network(nn.Module):\n",
    "    \n",
    "    def __init__(self):\n",
    "        super(Network, self).__init__()\n",
    "        self.l1 = nn.Linear(input_size, hidden_size)\n",
    "        self.relu = nn.ReLU()\n",
    "        self.l3 = nn.Linear(hidden_size, output_size)\n",
    "        \n",
    "    def forward(self, x):\n",
    "        x = self.l1(x)\n",
    "        x = self.relu(x)\n",
    "        x = self.l3(x)\n",
    "        return F.log_softmax(x)"
   ]
  },
  {
   "cell_type": "markdown",
   "metadata": {
    "_cell_guid": "02a3fe74-b0d4-4d78-bcee-4fffc6acca89",
    "_uuid": "e4dbac71f5f491cf8e79b127cbe18a4e90c65d71"
   },
   "source": [
    "After we've defined the network, we can initialize it. \n",
    "Also, if we \"print\" the instance of the net, we can see the structure of it in a neat format:"
   ]
  },
  {
   "cell_type": "code",
   "execution_count": 9,
   "metadata": {
    "_cell_guid": "2376a5b3-3f93-46ac-8e19-e22cf3fb3f01",
    "_uuid": "b70b7208f45abe5b9324735a515c6259cc4fb3e3"
   },
   "outputs": [
    {
     "name": "stdout",
     "output_type": "stream",
     "text": [
      "Network(\n",
      "  (l1): Linear(in_features=784, out_features=200, bias=True)\n",
      "  (relu): ReLU()\n",
      "  (l3): Linear(in_features=200, out_features=10, bias=True)\n",
      ")\n"
     ]
    }
   ],
   "source": [
    "net = Network()\n",
    "print(net)"
   ]
  },
  {
   "cell_type": "markdown",
   "metadata": {
    "_cell_guid": "75eaeb97-f840-4862-8819-109b023660a7",
    "_uuid": "4cb26c4f84a53abdd5f4c3f7fc0a625ef7d805c4"
   },
   "source": [
    "Now it's time to set up the [optimizer](http://pytorch.org/docs/master/optim.html) and a loss function. \n",
    "\n",
    "*There are quite a lot of things happening behind these two lines of code, so if you don't know what is going on here, don't worry too much for now, it will get clearer eventualy.* \n",
    "\n",
    "Optimizer is what  updates the parameters of the network. I will be using Stochastic Gradient Descent with momentum. Also, the optimizer takes the network parameters as an argument, but it's not a big deal since we can get those with .parameters() function.\n",
    "\n",
    "I decided to use [Cross Entropy Loss](https://en.wikipedia.org/wiki/Cross_entropy) for this problem, but again, there are many options and you are free to choose whatever suits you best."
   ]
  },
  {
   "cell_type": "code",
   "execution_count": 10,
   "metadata": {
    "_cell_guid": "f9fe7b0f-7fec-49f3-8cd2-a6fedd4c8048",
    "_uuid": "d4fd65ae06c5003428ab90b1557142f015152b7c"
   },
   "outputs": [],
   "source": [
    "optimizer = optim.SGD(net.parameters(), lr=learning_rate, momentum=0.9)\n",
    "loss_func = nn.CrossEntropyLoss()"
   ]
  },
  {
   "cell_type": "markdown",
   "metadata": {
    "_cell_guid": "465d2e54-0a22-446d-9f87-d687f48140f3",
    "_uuid": "9684f943703fb995be47a7d92d1d281acc3dae32"
   },
   "source": [
    "Now that everything is ready, our network can start learning. I will separate data into minibatches and feed it to the network. It has many advantages over single batch learning, but that is a different story. \n",
    "\n",
    "Also, I will use loss_log list to keep track of the loss function during the training process. "
   ]
  },
  {
   "cell_type": "code",
   "execution_count": 12,
   "metadata": {
    "_cell_guid": "3b646efc-4cae-4f94-9350-e059e4c89446",
    "_uuid": "c1247ff34caf53e9894a1c2ea5c435c0e446d048"
   },
   "outputs": [
    {
     "name": "stdout",
     "output_type": "stream",
     "text": [
      "Epoch: 0 - Loss: 0.083200\n",
      "Epoch: 1 - Loss: 0.010638\n",
      "Epoch: 2 - Loss: 0.006530\n",
      "Epoch: 3 - Loss: 0.004620\n",
      "Epoch: 4 - Loss: 0.005387\n",
      "Epoch: 5 - Loss: 0.004594\n",
      "Epoch: 6 - Loss: 0.003482\n",
      "Epoch: 7 - Loss: 0.003420\n",
      "Epoch: 8 - Loss: 0.003622\n",
      "Epoch: 9 - Loss: 0.003535\n",
      "Epoch: 10 - Loss: 0.003160\n",
      "Epoch: 11 - Loss: 0.002801\n",
      "Epoch: 12 - Loss: 0.002589\n",
      "Epoch: 13 - Loss: 0.001922\n",
      "Epoch: 14 - Loss: 0.001760\n",
      "Epoch: 15 - Loss: 0.001515\n",
      "Epoch: 16 - Loss: 0.001588\n",
      "Epoch: 17 - Loss: 0.001310\n",
      "Epoch: 18 - Loss: 0.001409\n",
      "Epoch: 19 - Loss: 0.001185\n"
     ]
    }
   ],
   "source": [
    "loss_log = []\n",
    "\n",
    "for e in range(epochs):\n",
    "    for i in range(0, x.shape[0], batch_size):\n",
    "        x_mini = x[i:i + batch_size] \n",
    "        y_mini = y[i:i + batch_size] \n",
    "        \n",
    "        x_var = Variable(x_mini)\n",
    "        y_var = Variable(y_mini)\n",
    "        \n",
    "        optimizer.zero_grad()\n",
    "        net_out = net(x_var)\n",
    "        \n",
    "        loss = loss_func(net_out, y_var)\n",
    "        loss.backward()\n",
    "        optimizer.step()\n",
    "        \n",
    "        if i % 100 == 0:\n",
    "            loss_log.append(loss.item())\n",
    "        \n",
    "    print('Epoch: {} - Loss: {:.6f}'.format(e, loss.item()))"
   ]
  },
  {
   "cell_type": "markdown",
   "metadata": {
    "_cell_guid": "548ac762-97c0-48b9-98ff-93559b293c9a",
    "_uuid": "e3e6d56f52974ccb3120340695aed4b9bea0907b"
   },
   "source": [
    "So, let's go line by line and see what is happening here:\n",
    "\n",
    "This is the main loop that goes through all the epochs of training. An epoch is one full training on the full dataset.\n",
    "\n",
    "    for e in range(epochs):\n",
    "This is the inner loop that simply goes through the dataset batch by batch:\n",
    "\n",
    "    for i in range(0, x.shape[0], batch_size):\n",
    "Here is where we get the batches out of our data and simply assign them to variables for further work:\n",
    "\n",
    "    x_mini = x[i:i + batch_size] \n",
    "    y_mini = y[i:i + batch_size] \n",
    "   These two lines are quite *important*. Remember I told you about tensors and how PyTorch stores data in them? That's not the end of story. Actually, to allow the network to work with data, we need a wrapper for those tensors called Variable. It has some additional properties, like allowing automatic gradient computation when backpropagating. It is required for the proper work of PyTorch, so we will add them here and supply tensors as parameters:\n",
    "   \n",
    "    x_var = Variable(x_mini)\n",
    "    y_var = Variable(y_mini)\n",
    "This line just resets the gradient of the optimizer:\n",
    "    \n",
    "    optimizer.zero_grad()\n",
    "Remember the *forward(self, x)* function that we previously defined? The next line is basically calling this function and does the forward propagation:\n",
    "\n",
    "    net_out = net(x_var)\n",
    "This line computes the loss function based on predictions of the net and the correct answers:\n",
    "\n",
    "    loss = loss_func(net_out, y_var)\n",
    "Here we compute the gradient based on the loss that we've got. It will be used to adjust parameters of the network.\n",
    "\n",
    "    loss.backward()\n",
    "And here is where we finally update our network with new adjusted parameters:\n",
    "\n",
    "    optimizer.step()\n",
    "The rest is just logging, which might be helpful to observe how well the network is performing.\n",
    "\n",
    "After the network is done with training, we can take a look at the loss function, and how it behaved during training:"
   ]
  },
  {
   "cell_type": "code",
   "execution_count": 13,
   "metadata": {
    "_cell_guid": "5073f433-dbae-452b-8b7f-647e20c2d0dc",
    "_uuid": "4b635e76f4bb761ceef632c381546a2286442818"
   },
   "outputs": [
    {
     "data": {
      "text/plain": [
       "[<matplotlib.lines.Line2D at 0x7f309e6c0490>]"
      ]
     },
     "execution_count": 13,
     "metadata": {},
     "output_type": "execute_result"
    },
    {
     "data": {
      "image/png": "[encoded data removed]",
      "text/plain": [
       "<Figure size 720x576 with 1 Axes>"
      ]
     },
     "metadata": {
      "needs_background": "light"
     },
     "output_type": "display_data"
    }
   ],
   "source": [
    "plt.figure(figsize=(10,8))\n",
    "plt.plot(loss_log)"
   ]
  },
  {
   "cell_type": "markdown",
   "metadata": {
    "_cell_guid": "91f7e895-9ff7-4363-82d4-c2dc847aa9c3",
    "_uuid": "c5e3981a9d1e16ad5b8dcf5916031a22ac3336db"
   },
   "source": [
    "At this point, the network should be trained, and we can make a prediction using the test dataset. All we need to do is wrap the data into the Variable and feed it to the trained net, so nothing new here."
   ]
  },
  {
   "cell_type": "code",
   "execution_count": 14,
   "metadata": {
    "_cell_guid": "9792a7ca-d5a8-499b-87d0-077ecf77685d",
    "_uuid": "72b3a1b85275cc4c1f5bc7f442bf81004014b118"
   },
   "outputs": [
    {
     "name": "stdout",
     "output_type": "stream",
     "text": [
      "[2 0 9 ... 3 9 2]\n"
     ]
    }
   ],
   "source": [
    "test = torch.FloatTensor(test_dataNp.tolist())\n",
    "test_var = Variable(test)\n",
    "\n",
    "net_out = net(test_var)\n",
    "\n",
    "print(torch.max(net_out.data, 1)[1].numpy())"
   ]
  },
  {
   "cell_type": "markdown",
   "metadata": {
    "_cell_guid": "f34cc0fb-c950-4346-b742-259b86d9374c",
    "_uuid": "fed2362db49fc9991a1fd0be98d29c55b03b6b82"
   },
   "source": [
    "Now we have out predictions that are ready to be submitted. Before that, we can take a look at predictions and compare them to the actual pictures of digits, just like at the start with training data:"
   ]
  },
  {
   "cell_type": "code",
   "execution_count": 15,
   "metadata": {
    "_cell_guid": "bf0126d4-3eab-45ce-b84e-2f07c8fe9663",
    "_uuid": "41378dcf1951b3cbb7f929bec0a288bad007b72d"
   },
   "outputs": [
    {
     "name": "stdout",
     "output_type": "stream",
     "text": [
      "Prediction: 0 / 5\n",
      "Prediction: 9 / 7\n",
      "Prediction: 0 / 8\n"
     ]
    },
    {
     "data": {
      "image/png": "[encoded data removed]",
      "text/plain": [
       "<Figure size 1008x864 with 12 Axes>"
      ]
     },
     "metadata": {
      "needs_background": "light"
     },
     "output_type": "display_data"
    }
   ],
   "source": [
    "plt.figure(figsize=(14, 12))\n",
    "\n",
    "pixels = test_dataNp[1].reshape(28, 28)\n",
    "plt.subplot(321)\n",
    "sns.heatmap(data=pixels)\n",
    "test_sample = torch.FloatTensor(test_dataNp[1].tolist())\n",
    "test_var_sample = Variable(test_sample)\n",
    "net_out_sample = net(test_var_sample)\n",
    "\n",
    "pixels = test_dataNp[10].reshape(28, 28)\n",
    "plt.subplot(322)\n",
    "sns.heatmap(data=pixels)\n",
    "test_sample = torch.FloatTensor(test_dataNp[10].tolist())\n",
    "test_var_sample = Variable(test_sample)\n",
    "net_out_sample = net(test_var_sample)\n",
    "\n",
    "pixels = test_dataNp[20].reshape(28, 28)\n",
    "plt.subplot(323)\n",
    "sns.heatmap(data=pixels)\n",
    "test_sample = torch.FloatTensor(test_dataNp[20].tolist())\n",
    "test_var_sample = Variable(test_sample)\n",
    "net_out_sample = net(test_var_sample)\n",
    "\n",
    "pixels = test_dataNp[30].reshape(28, 28)\n",
    "plt.subplot(324)\n",
    "sns.heatmap(data=pixels)\n",
    "test_sample = torch.FloatTensor(test_dataNp[30].tolist())\n",
    "test_var_sample = Variable(test_sample)\n",
    "net_out_sample = net(test_var_sample)\n",
    "\n",
    "pixels = test_dataNp[100].reshape(28, 28)\n",
    "plt.subplot(325)\n",
    "sns.heatmap(data=pixels)\n",
    "test_sample = torch.FloatTensor(test_dataNp[100].tolist())\n",
    "test_var_sample = Variable(test_sample)\n",
    "net_out_sample = net(test_var_sample)\n",
    "\n",
    "pixels = test_dataNp[2000].reshape(28, 28)\n",
    "plt.subplot(326)\n",
    "sns.heatmap(data=pixels)\n",
    "test_sample = torch.FloatTensor(test_dataNp[1].tolist())\n",
    "test_var_sample = Variable(test_sample)\n",
    "net_out_sample = net(test_var_sample)\n",
    "\n",
    "\n",
    "print(\"Prediction: {} / {}\".format(torch.max(net_out.data, 1)[1].numpy()[1], torch.max(net_out.data, 1)[1].numpy()[10]))\n",
    "print(\"Prediction: {} / {}\".format(torch.max(net_out.data, 1)[1].numpy()[20], torch.max(net_out.data, 1)[1].numpy()[30]))\n",
    "print(\"Prediction: {} / {}\".format(torch.max(net_out.data, 1)[1].numpy()[100], torch.max(net_out.data, 1)[1].numpy()[2000]))"
   ]
  },
  {
   "cell_type": "code",
   "execution_count": 16,
   "metadata": {
    "_cell_guid": "22c40d7b-a3a4-4118-9aa5-d5191876ecd1",
    "_uuid": "c60e5abb1be0166b2c22aaad560885a74db21da9"
   },
   "outputs": [],
   "source": [
    "output = (torch.max(net_out.data, 1)[1]).numpy()\n",
    "#np.savetxt(\"out.csv\", np.dstack((np.arange(1, output.size+1),output))[0],\"%d,%d\",header=\"ImageId,Label\")"
   ]
  },
  {
   "cell_type": "markdown",
   "metadata": {
    "_cell_guid": "13d2eeae-86ea-499e-923a-642527f23ce0",
    "_uuid": "97523e84c3d8ee0be9aea776f3f7e6c109f05cdd"
   },
   "source": [
    "And that is about it, we've made a simple neural network using PyTorch that can recognize handwritten digits. Not so bad!\n",
    "\n",
    "When I was writing this notebook, this model scorred 96.6%, which is not perfect by any means, but it's not that bad either. \n",
    "\n",
    "I hope this was useful for some of you. If you are totally new to deep learning, I suggest you learn how the neural networks actually work from the inside, especially the backpropagation algorithm.\n",
    "\n",
    "These videos explain [neural nets](https://www.youtube.com/watch?v=aircAruvnKk&t=708s) and [backpropagation](https://www.youtube.com/watch?v=Ilg3gGewQ5U) quite well.\n",
    "\n",
    "Also I suggest you to take a look at this [online book](http://neuralnetworksanddeeplearning.com/chap1.html) (it's absolutely free, btw), where neural networks are explained in great detail, and it even has an implementation of the MNIST problem from scratch, using only numpy.\n",
    "\n",
    "If you have any feedback, feel free to leave comments down below, and good luck with your deep learning adventures :)"
   ]
  },
  {
   "cell_type": "markdown",
   "metadata": {},
   "source": [
    "## Take-home exercise\n",
    "\n",
    "Make sure you can run the PyTorch examples of MNIST classification, then apply the PyTorch example to another\n",
    "classification problem you've worked with this semester, for example the breast cancer dataset. Get familiar with\n",
    "working with models in PyTorch.\n",
    "\n",
    "Report your experiments and results in your brief lab report."
   ]
  },
  {
   "cell_type": "code",
   "execution_count": null,
   "metadata": {},
   "outputs": [],
   "source": []
  }
 ],
 "metadata": {
  "kernelspec": {
   "display_name": "Python 3",
   "language": "python",
   "name": "python3"
  },
  "language_info": {
   "codemirror_mode": {
    "name": "ipython",
    "version": 3
   },
   "file_extension": ".py",
   "mimetype": "text/x-python",
   "name": "python",
   "nbconvert_exporter": "python",
   "pygments_lexer": "ipython3",
   "version": "3.8.5"
  }
 },
 "nbformat": 4,
 "nbformat_minor": 4
}
